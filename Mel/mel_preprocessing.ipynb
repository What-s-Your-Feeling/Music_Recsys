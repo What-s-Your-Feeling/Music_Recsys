{
  "nbformat": 4,
  "nbformat_minor": 0,
  "metadata": {
    "colab": {
      "provenance": [],
      "machine_shape": "hm",
      "collapsed_sections": []
    },
    "kernelspec": {
      "name": "python3",
      "display_name": "Python 3"
    },
    "language_info": {
      "name": "python"
    },
    "gpuClass": "standard"
  },
  "cells": [
    {
      "cell_type": "markdown",
      "source": [
        "## 모듈 임포트"
      ],
      "metadata": {
        "id": "Ul4bXELN01Bl"
      }
    },
    {
      "cell_type": "code",
      "execution_count": null,
      "metadata": {
        "id": "PsZUleiejDUr"
      },
      "outputs": [],
      "source": [
        "import numpy as np\n",
        "import pandas as pd\n",
        "\n",
        "import tarfile\n",
        "import json\n",
        "\n",
        "import tensorflow as tf"
      ]
    },
    {
      "cell_type": "markdown",
      "source": [
        "## 데이터 가져오기"
      ],
      "metadata": {
        "id": "kl9_uvoZ08GO"
      }
    },
    {
      "cell_type": "code",
      "source": [
        "lyric_filtered_path = '/content/mydrive/MyDrive/AIFFELTHON/mel_data/lyric_data.tsv'\n",
        "mel_path = '/content/mydrive/MyDrive/AIFFELTHON/mel_data'"
      ],
      "metadata": {
        "id": "IQvcYPXfPHyu"
      },
      "execution_count": null,
      "outputs": []
    },
    {
      "cell_type": "code",
      "source": [
        "metadata = pd.read_csv(lyric_filtered_path, sep='\\t')\n",
        "metadata.head()"
      ],
      "metadata": {
        "colab": {
          "base_uri": "https://localhost:8080/",
          "height": 337
        },
        "id": "cLezrL5DcGFD",
        "outputId": "a911b031-ba8f-4896-e1e3-5d71f12aef61"
      },
      "execution_count": null,
      "outputs": [
        {
          "output_type": "execute_result",
          "data": {
            "text/plain": [
              "   id   song_id                      song_name  \\\n",
              "0   0   4639910                       Feelings   \n",
              "1   8   1657318  Lovers’ Leap (Feat. Qypthone)   \n",
              "2   9  30310140                   사랑, 그대라는 멜로디   \n",
              "3  17   8068890                     Girl Crush   \n",
              "4  19   5579388            무얼 기다리나 (Feat. 조원선)   \n",
              "\n",
              "                                               lyric           artist  \\\n",
              "0  Feelings nothing more than feelings Trying to ...  Various Artists   \n",
              "1  i feel alright now but don't know how to speak...              애플스   \n",
              "2  그대 스치는 바람처럼 불어와서 내 곁에 머무른 사람 나도 몰래 내쉬는 숨처럼 익숙해...               진호   \n",
              "3  이따 거기서 봐 이번엔 장담해 찾았어 Hot place 예감이 괜찮아 정말로 기대돼...    마마무 (Mamamoo)   \n",
              "4  그냥 생각 없이 이렇다 할 뜻도 없이 쉼 없이 웃으며 떠드는 이들을 가만히 두리번거...              이영훈   \n",
              "\n",
              "           genre                         album  album_id   release  \n",
              "0         GN0900  불후의 명곡 - 7080 추억의 얄개시대 팝송베스트   2255639  20140512  \n",
              "1         GN0300                   Sexualmetro    353020  20070625  \n",
              "2         GN0100             Pastel Reflection  10047088  20170320  \n",
              "3  GN2500,GN0200                       Melting   2669407  20160226  \n",
              "4  GN0500,GN0800                    내가 부른 그림 2   2303168  20150205  "
            ],
            "text/html": [
              "\n",
              "  <div id=\"df-b6765a67-8900-4d2b-aded-5803068b2aeb\">\n",
              "    <div class=\"colab-df-container\">\n",
              "      <div>\n",
              "<style scoped>\n",
              "    .dataframe tbody tr th:only-of-type {\n",
              "        vertical-align: middle;\n",
              "    }\n",
              "\n",
              "    .dataframe tbody tr th {\n",
              "        vertical-align: top;\n",
              "    }\n",
              "\n",
              "    .dataframe thead th {\n",
              "        text-align: right;\n",
              "    }\n",
              "</style>\n",
              "<table border=\"1\" class=\"dataframe\">\n",
              "  <thead>\n",
              "    <tr style=\"text-align: right;\">\n",
              "      <th></th>\n",
              "      <th>id</th>\n",
              "      <th>song_id</th>\n",
              "      <th>song_name</th>\n",
              "      <th>lyric</th>\n",
              "      <th>artist</th>\n",
              "      <th>genre</th>\n",
              "      <th>album</th>\n",
              "      <th>album_id</th>\n",
              "      <th>release</th>\n",
              "    </tr>\n",
              "  </thead>\n",
              "  <tbody>\n",
              "    <tr>\n",
              "      <th>0</th>\n",
              "      <td>0</td>\n",
              "      <td>4639910</td>\n",
              "      <td>Feelings</td>\n",
              "      <td>Feelings nothing more than feelings Trying to ...</td>\n",
              "      <td>Various Artists</td>\n",
              "      <td>GN0900</td>\n",
              "      <td>불후의 명곡 - 7080 추억의 얄개시대 팝송베스트</td>\n",
              "      <td>2255639</td>\n",
              "      <td>20140512</td>\n",
              "    </tr>\n",
              "    <tr>\n",
              "      <th>1</th>\n",
              "      <td>8</td>\n",
              "      <td>1657318</td>\n",
              "      <td>Lovers’ Leap (Feat. Qypthone)</td>\n",
              "      <td>i feel alright now but don't know how to speak...</td>\n",
              "      <td>애플스</td>\n",
              "      <td>GN0300</td>\n",
              "      <td>Sexualmetro</td>\n",
              "      <td>353020</td>\n",
              "      <td>20070625</td>\n",
              "    </tr>\n",
              "    <tr>\n",
              "      <th>2</th>\n",
              "      <td>9</td>\n",
              "      <td>30310140</td>\n",
              "      <td>사랑, 그대라는 멜로디</td>\n",
              "      <td>그대 스치는 바람처럼 불어와서 내 곁에 머무른 사람 나도 몰래 내쉬는 숨처럼 익숙해...</td>\n",
              "      <td>진호</td>\n",
              "      <td>GN0100</td>\n",
              "      <td>Pastel Reflection</td>\n",
              "      <td>10047088</td>\n",
              "      <td>20170320</td>\n",
              "    </tr>\n",
              "    <tr>\n",
              "      <th>3</th>\n",
              "      <td>17</td>\n",
              "      <td>8068890</td>\n",
              "      <td>Girl Crush</td>\n",
              "      <td>이따 거기서 봐 이번엔 장담해 찾았어 Hot place 예감이 괜찮아 정말로 기대돼...</td>\n",
              "      <td>마마무 (Mamamoo)</td>\n",
              "      <td>GN2500,GN0200</td>\n",
              "      <td>Melting</td>\n",
              "      <td>2669407</td>\n",
              "      <td>20160226</td>\n",
              "    </tr>\n",
              "    <tr>\n",
              "      <th>4</th>\n",
              "      <td>19</td>\n",
              "      <td>5579388</td>\n",
              "      <td>무얼 기다리나 (Feat. 조원선)</td>\n",
              "      <td>그냥 생각 없이 이렇다 할 뜻도 없이 쉼 없이 웃으며 떠드는 이들을 가만히 두리번거...</td>\n",
              "      <td>이영훈</td>\n",
              "      <td>GN0500,GN0800</td>\n",
              "      <td>내가 부른 그림 2</td>\n",
              "      <td>2303168</td>\n",
              "      <td>20150205</td>\n",
              "    </tr>\n",
              "  </tbody>\n",
              "</table>\n",
              "</div>\n",
              "      <button class=\"colab-df-convert\" onclick=\"convertToInteractive('df-b6765a67-8900-4d2b-aded-5803068b2aeb')\"\n",
              "              title=\"Convert this dataframe to an interactive table.\"\n",
              "              style=\"display:none;\">\n",
              "        \n",
              "  <svg xmlns=\"http://www.w3.org/2000/svg\" height=\"24px\"viewBox=\"0 0 24 24\"\n",
              "       width=\"24px\">\n",
              "    <path d=\"M0 0h24v24H0V0z\" fill=\"none\"/>\n",
              "    <path d=\"M18.56 5.44l.94 2.06.94-2.06 2.06-.94-2.06-.94-.94-2.06-.94 2.06-2.06.94zm-11 1L8.5 8.5l.94-2.06 2.06-.94-2.06-.94L8.5 2.5l-.94 2.06-2.06.94zm10 10l.94 2.06.94-2.06 2.06-.94-2.06-.94-.94-2.06-.94 2.06-2.06.94z\"/><path d=\"M17.41 7.96l-1.37-1.37c-.4-.4-.92-.59-1.43-.59-.52 0-1.04.2-1.43.59L10.3 9.45l-7.72 7.72c-.78.78-.78 2.05 0 2.83L4 21.41c.39.39.9.59 1.41.59.51 0 1.02-.2 1.41-.59l7.78-7.78 2.81-2.81c.8-.78.8-2.07 0-2.86zM5.41 20L4 18.59l7.72-7.72 1.47 1.35L5.41 20z\"/>\n",
              "  </svg>\n",
              "      </button>\n",
              "      \n",
              "  <style>\n",
              "    .colab-df-container {\n",
              "      display:flex;\n",
              "      flex-wrap:wrap;\n",
              "      gap: 12px;\n",
              "    }\n",
              "\n",
              "    .colab-df-convert {\n",
              "      background-color: #E8F0FE;\n",
              "      border: none;\n",
              "      border-radius: 50%;\n",
              "      cursor: pointer;\n",
              "      display: none;\n",
              "      fill: #1967D2;\n",
              "      height: 32px;\n",
              "      padding: 0 0 0 0;\n",
              "      width: 32px;\n",
              "    }\n",
              "\n",
              "    .colab-df-convert:hover {\n",
              "      background-color: #E2EBFA;\n",
              "      box-shadow: 0px 1px 2px rgba(60, 64, 67, 0.3), 0px 1px 3px 1px rgba(60, 64, 67, 0.15);\n",
              "      fill: #174EA6;\n",
              "    }\n",
              "\n",
              "    [theme=dark] .colab-df-convert {\n",
              "      background-color: #3B4455;\n",
              "      fill: #D2E3FC;\n",
              "    }\n",
              "\n",
              "    [theme=dark] .colab-df-convert:hover {\n",
              "      background-color: #434B5C;\n",
              "      box-shadow: 0px 1px 3px 1px rgba(0, 0, 0, 0.15);\n",
              "      filter: drop-shadow(0px 1px 2px rgba(0, 0, 0, 0.3));\n",
              "      fill: #FFFFFF;\n",
              "    }\n",
              "  </style>\n",
              "\n",
              "      <script>\n",
              "        const buttonEl =\n",
              "          document.querySelector('#df-b6765a67-8900-4d2b-aded-5803068b2aeb button.colab-df-convert');\n",
              "        buttonEl.style.display =\n",
              "          google.colab.kernel.accessAllowed ? 'block' : 'none';\n",
              "\n",
              "        async function convertToInteractive(key) {\n",
              "          const element = document.querySelector('#df-b6765a67-8900-4d2b-aded-5803068b2aeb');\n",
              "          const dataTable =\n",
              "            await google.colab.kernel.invokeFunction('convertToInteractive',\n",
              "                                                     [key], {});\n",
              "          if (!dataTable) return;\n",
              "\n",
              "          const docLinkHtml = 'Like what you see? Visit the ' +\n",
              "            '<a target=\"_blank\" href=https://colab.research.google.com/notebooks/data_table.ipynb>data table notebook</a>'\n",
              "            + ' to learn more about interactive tables.';\n",
              "          element.innerHTML = '';\n",
              "          dataTable['output_type'] = 'display_data';\n",
              "          await google.colab.output.renderOutput(dataTable, element);\n",
              "          const docLink = document.createElement('div');\n",
              "          docLink.innerHTML = docLinkHtml;\n",
              "          element.appendChild(docLink);\n",
              "        }\n",
              "      </script>\n",
              "    </div>\n",
              "  </div>\n",
              "  "
            ]
          },
          "metadata": {},
          "execution_count": 6
        }
      ]
    },
    {
      "cell_type": "code",
      "source": [
        "meta_id = metadata['song_id']\n",
        "meta_id[:10]"
      ],
      "metadata": {
        "colab": {
          "base_uri": "https://localhost:8080/"
        },
        "id": "AfDH6PpqQHPy",
        "outputId": "2522dd15-9e79-49e1-cf9d-dad9b44b9981"
      },
      "execution_count": null,
      "outputs": [
        {
          "output_type": "execute_result",
          "data": {
            "text/plain": [
              "0     4639910\n",
              "1     1657318\n",
              "2    30310140\n",
              "3     8068890\n",
              "4     5579388\n",
              "5     5464935\n",
              "6     3953129\n",
              "7    31808054\n",
              "8    30477250\n",
              "9     3840610\n",
              "Name: song_id, dtype: int64"
            ]
          },
          "metadata": {},
          "execution_count": 7
        }
      ]
    },
    {
      "cell_type": "code",
      "source": [
        "meta_id.isna().sum()"
      ],
      "metadata": {
        "colab": {
          "base_uri": "https://localhost:8080/"
        },
        "id": "PyTBHjyzX9w8",
        "outputId": "76b90f07-57c3-4ec8-9c9a-bcce68a4130d"
      },
      "execution_count": null,
      "outputs": [
        {
          "output_type": "execute_result",
          "data": {
            "text/plain": [
              "0"
            ]
          },
          "metadata": {},
          "execution_count": 9
        }
      ]
    },
    {
      "cell_type": "code",
      "source": [
        "meta_id.nunique()"
      ],
      "metadata": {
        "colab": {
          "base_uri": "https://localhost:8080/"
        },
        "id": "yOhgeK4dYByd",
        "outputId": "b64d1e55-bfb5-4de0-b776-c97e6e5cf4b9"
      },
      "execution_count": null,
      "outputs": [
        {
          "output_type": "execute_result",
          "data": {
            "text/plain": [
              "214890"
            ]
          },
          "metadata": {},
          "execution_count": 14
        }
      ]
    },
    {
      "cell_type": "code",
      "source": [
        "len(meta_id)"
      ],
      "metadata": {
        "colab": {
          "base_uri": "https://localhost:8080/"
        },
        "id": "MQe3W0W7YKLC",
        "outputId": "17bc56be-fdb1-452b-910d-6397618a6db1"
      },
      "execution_count": null,
      "outputs": [
        {
          "output_type": "execute_result",
          "data": {
            "text/plain": [
              "214892"
            ]
          },
          "metadata": {},
          "execution_count": 16
        }
      ]
    },
    {
      "cell_type": "code",
      "source": [
        "'''\n",
        "기본적으로 한 폴더에 최대 1천곡이 들어 있음 (e.g. folder27 -> 27000~27999)\n",
        "\n",
        "아래 전처리는 CNN 구조에 사용할 (데이터 수, Hz, 길이(time), 채널(db)) shape로 바꿈\n",
        "따라서 output tensor shape는 (폴더 내 데이터 수, 48, 1876, 1) 형태\n",
        "\n",
        "<폴더 구조 예시>\n",
        "song_id = 472831일 경우,\n",
        "해당 파일은 mel_data/mel_4/arena_mel/72/472831\n",
        "\n",
        "'''\n",
        "\n",
        "def preprocessing(id_list, mel_path, dataset_size):\n",
        "    \n",
        "    f_list = []\n",
        "    ex_list = []\n",
        "\n",
        "    for song_id in id_list:\n",
        "        # mel 파일이 존재하는 폴더 경로\n",
        "        song_add = song_id // 1000\n",
        "\n",
        "        # shape가 맞는 것만 가져오기\n",
        "        mel_f = np.load(mel_path+f'/{song_add}/{song_id}.npy')\n",
        "        \n",
        "        if mel_f.shape == (48, 1876):\n",
        "            f_list.append(mel_f)\n",
        "\n",
        "        else:\n",
        "            ex_list.append(song_id)\n",
        "            print(f'FileShapeError: {song_id} file\\'s shape doesn\\'t match!')\n",
        "\n",
        "    # stacking & reshape\n",
        "    f_list = np.stack(f_list, axis=0)\n",
        "    tensor_size = (dataset_size-len(ex_list), 48, 1876, 1)\n",
        "    f_list = f_list.reshape(tensor_size)\n",
        "\n",
        "    # add 100 (db processing)\n",
        "    f_list += 100.\n",
        "\n",
        "    return f_list, ex_list\n",
        "\n",
        "print(\"ok!\")"
      ],
      "metadata": {
        "id": "ZiR6Pbnc1Xdl",
        "colab": {
          "base_uri": "https://localhost:8080/"
        },
        "outputId": "9942147e-0a2c-48b7-e459-d70f494e3bc7"
      },
      "execution_count": null,
      "outputs": [
        {
          "output_type": "stream",
          "name": "stdout",
          "text": [
            "ok!\n"
          ]
        }
      ]
    },
    {
      "cell_type": "code",
      "source": [
        "for i in range(5):\n",
        "    a = meta_i\n",
        "    print(a)"
      ],
      "metadata": {
        "colab": {
          "base_uri": "https://localhost:8080/"
        },
        "id": "5c_PZEuTxxBH",
        "outputId": "81cd4cc9-0f6f-4f10-cf04-ed82c9ef958c"
      },
      "execution_count": null,
      "outputs": [
        {
          "output_type": "stream",
          "name": "stdout",
          "text": [
            "20\n",
            "20\n",
            "20\n",
            "20\n",
            "20\n"
          ]
        }
      ]
    },
    {
      "cell_type": "code",
      "source": [
        "# id_list 정렬\n",
        "meta_id = sorted(meta_id)"
      ],
      "metadata": {
        "id": "RSNLrQ2fYnJ7"
      },
      "execution_count": null,
      "outputs": []
    },
    {
      "cell_type": "code",
      "source": [
        "meta_id[:5]"
      ],
      "metadata": {
        "colab": {
          "base_uri": "https://localhost:8080/"
        },
        "id": "6NFgJX35Yzeo",
        "outputId": "edbc9809-5850-4cf0-fed7-d8a9efb38a0c"
      },
      "execution_count": null,
      "outputs": [
        {
          "output_type": "execute_result",
          "data": {
            "text/plain": [
              "[2312, 2316, 2320, 2390, 2395]"
            ]
          },
          "metadata": {},
          "execution_count": 27
        }
      ]
    },
    {
      "cell_type": "code",
      "source": [
        "# test code\n",
        "file_list, except_list = preprocessing(id_list=meta_id, mel_path=mel_path, dataset_size=1000)"
      ],
      "metadata": {
        "id": "N5Vm8Wzk-8SF"
      },
      "execution_count": null,
      "outputs": []
    }
  ]
}