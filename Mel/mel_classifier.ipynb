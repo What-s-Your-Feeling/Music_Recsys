{
 "cells": [
  {
   "cell_type": "code",
   "execution_count": 13,
   "metadata": {
    "colab": {
     "base_uri": "https://localhost:8080/"
    },
    "id": "Dok5IP10k1TG",
    "outputId": "510cbb7a-5adc-4ded-9eb6-b372b646c187"
   },
   "outputs": [
    {
     "name": "stdout",
     "output_type": "stream",
     "text": [
      "tensorflow version: 2.10.0\n"
     ]
    }
   ],
   "source": [
    "import numpy as np\n",
    "import pandas as pd\n",
    "import os\n",
    "\n",
    "import sklearn\n",
    "from sklearn.model_selection import train_test_split as tts\n",
    "\n",
    "import tensorflow as tf\n",
    "\n",
    "from keras import models, layers\n",
    "from keras import Input\n",
    "\n",
    "from tensorflow.keras.models import Sequential, Model\n",
    "from tensorflow.keras.layers import Dense, Dropout, Flatten, Conv2D, Activation, Conv1D, Embedding, \\\n",
    "                                    GlobalAveragePooling2D, GlobalAveragePooling1D, GlobalMaxPooling1D, MaxPooling2D, MaxPooling1D, BatchNormalization, Add, ReLU, ZeroPadding2D, ZeroPadding1D\n",
    "from tensorflow.keras.optimizers import Adam\n",
    "from tensorflow.keras.callbacks import EarlyStopping, ModelCheckpoint\n",
    "\n",
    "from keras.models import load_model\n",
    "from keras import optimizers, initializers, regularizers, metrics\n",
    "\n",
    "from sklearn.metrics import accuracy_score\n",
    "from sklearn.model_selection import train_test_split\n",
    "\n",
    "from tensorboard.plugins import projector\n",
    "\n",
    "import warnings \n",
    "warnings.filterwarnings('ignore')\n",
    "\n",
    "print('tensorflow version:', tf.__version__)"
   ]
  },
  {
   "cell_type": "code",
   "execution_count": 2,
   "metadata": {
    "id": "zdUgPGUfU5S3"
   },
   "outputs": [],
   "source": [
    "import random\n",
    "import torch\n",
    "\n",
    "random.seed(2022)\n",
    "torch.manual_seed(2022)\n",
    "np.random.seed(2022)"
   ]
  },
  {
   "cell_type": "markdown",
   "metadata": {},
   "source": [
    "## TPU setting\n"
   ]
  },
  {
   "cell_type": "code",
   "execution_count": 14,
   "metadata": {},
   "outputs": [],
   "source": [
    "# GCP에서는 TPU 접근에 TPU의 이름을 사용합니다.\n",
    "resolver = tf.distribute.cluster_resolver.TPUClusterResolver(tpu='local')\n",
    "tf.config.experimental_connect_to_cluster(resolver)\n",
    "\n",
    "# This is the TPU initialization code that has to be at the beginning.\n",
    "tf.tpu.experimental.initialize_tpu_system(resolver)\n",
    "print(\"All devices: \", tf.config.list_logical_devices('TPU'))"
   ]
  },
  {
   "cell_type": "markdown",
   "metadata": {},
   "source": [
    "## data load"
   ]
  },
  {
   "cell_type": "code",
   "execution_count": 24,
   "metadata": {},
   "outputs": [
    {
     "data": {
      "text/html": [
       "<div>\n",
       "<style scoped>\n",
       "    .dataframe tbody tr th:only-of-type {\n",
       "        vertical-align: middle;\n",
       "    }\n",
       "\n",
       "    .dataframe tbody tr th {\n",
       "        vertical-align: top;\n",
       "    }\n",
       "\n",
       "    .dataframe thead th {\n",
       "        text-align: right;\n",
       "    }\n",
       "</style>\n",
       "<table border=\"1\" class=\"dataframe\">\n",
       "  <thead>\n",
       "    <tr style=\"text-align: right;\">\n",
       "      <th></th>\n",
       "      <th>index</th>\n",
       "      <th>0</th>\n",
       "      <th>1</th>\n",
       "      <th>2</th>\n",
       "      <th>3</th>\n",
       "      <th>4</th>\n",
       "      <th>5</th>\n",
       "      <th>6</th>\n",
       "      <th>7</th>\n",
       "      <th>8</th>\n",
       "      <th>...</th>\n",
       "      <th>503</th>\n",
       "      <th>504</th>\n",
       "      <th>505</th>\n",
       "      <th>506</th>\n",
       "      <th>507</th>\n",
       "      <th>508</th>\n",
       "      <th>509</th>\n",
       "      <th>510</th>\n",
       "      <th>511</th>\n",
       "      <th>id</th>\n",
       "    </tr>\n",
       "  </thead>\n",
       "  <tbody>\n",
       "    <tr>\n",
       "      <th>0</th>\n",
       "      <td>331253</td>\n",
       "      <td>0.001577</td>\n",
       "      <td>0.001786</td>\n",
       "      <td>0.002293</td>\n",
       "      <td>0.001331</td>\n",
       "      <td>0.002044</td>\n",
       "      <td>0.001718</td>\n",
       "      <td>0.001849</td>\n",
       "      <td>0.001714</td>\n",
       "      <td>0.003423</td>\n",
       "      <td>...</td>\n",
       "      <td>0.002349</td>\n",
       "      <td>0.001559</td>\n",
       "      <td>0.003429</td>\n",
       "      <td>0.003649</td>\n",
       "      <td>0.001370</td>\n",
       "      <td>0.001879</td>\n",
       "      <td>0.001621</td>\n",
       "      <td>0.001325</td>\n",
       "      <td>0.001596</td>\n",
       "      <td>0</td>\n",
       "    </tr>\n",
       "    <tr>\n",
       "      <th>1</th>\n",
       "      <td>298529</td>\n",
       "      <td>0.001535</td>\n",
       "      <td>0.002137</td>\n",
       "      <td>0.001733</td>\n",
       "      <td>0.001610</td>\n",
       "      <td>0.001694</td>\n",
       "      <td>0.001519</td>\n",
       "      <td>0.004592</td>\n",
       "      <td>0.001504</td>\n",
       "      <td>0.001811</td>\n",
       "      <td>...</td>\n",
       "      <td>0.004395</td>\n",
       "      <td>0.001442</td>\n",
       "      <td>0.001636</td>\n",
       "      <td>0.001737</td>\n",
       "      <td>0.002694</td>\n",
       "      <td>0.001471</td>\n",
       "      <td>0.002017</td>\n",
       "      <td>0.001428</td>\n",
       "      <td>0.002755</td>\n",
       "      <td>8</td>\n",
       "    </tr>\n",
       "    <tr>\n",
       "      <th>2</th>\n",
       "      <td>29783</td>\n",
       "      <td>0.001020</td>\n",
       "      <td>0.001518</td>\n",
       "      <td>0.004622</td>\n",
       "      <td>0.000992</td>\n",
       "      <td>0.002492</td>\n",
       "      <td>0.001326</td>\n",
       "      <td>0.002638</td>\n",
       "      <td>0.001420</td>\n",
       "      <td>0.001999</td>\n",
       "      <td>...</td>\n",
       "      <td>0.003213</td>\n",
       "      <td>0.001009</td>\n",
       "      <td>0.003319</td>\n",
       "      <td>0.003220</td>\n",
       "      <td>0.001135</td>\n",
       "      <td>0.000974</td>\n",
       "      <td>0.001584</td>\n",
       "      <td>0.000973</td>\n",
       "      <td>0.001391</td>\n",
       "      <td>9</td>\n",
       "    </tr>\n",
       "    <tr>\n",
       "      <th>3</th>\n",
       "      <td>68771</td>\n",
       "      <td>0.001365</td>\n",
       "      <td>0.001746</td>\n",
       "      <td>0.002557</td>\n",
       "      <td>0.001189</td>\n",
       "      <td>0.002299</td>\n",
       "      <td>0.001473</td>\n",
       "      <td>0.004394</td>\n",
       "      <td>0.001452</td>\n",
       "      <td>0.002735</td>\n",
       "      <td>...</td>\n",
       "      <td>0.002916</td>\n",
       "      <td>0.001198</td>\n",
       "      <td>0.003772</td>\n",
       "      <td>0.002752</td>\n",
       "      <td>0.001300</td>\n",
       "      <td>0.001333</td>\n",
       "      <td>0.001802</td>\n",
       "      <td>0.001168</td>\n",
       "      <td>0.001573</td>\n",
       "      <td>19</td>\n",
       "    </tr>\n",
       "    <tr>\n",
       "      <th>4</th>\n",
       "      <td>84876</td>\n",
       "      <td>0.001740</td>\n",
       "      <td>0.002714</td>\n",
       "      <td>0.001644</td>\n",
       "      <td>0.001729</td>\n",
       "      <td>0.002369</td>\n",
       "      <td>0.001926</td>\n",
       "      <td>0.002570</td>\n",
       "      <td>0.001828</td>\n",
       "      <td>0.002637</td>\n",
       "      <td>...</td>\n",
       "      <td>0.001932</td>\n",
       "      <td>0.001921</td>\n",
       "      <td>0.001658</td>\n",
       "      <td>0.001803</td>\n",
       "      <td>0.001965</td>\n",
       "      <td>0.001693</td>\n",
       "      <td>0.001714</td>\n",
       "      <td>0.001689</td>\n",
       "      <td>0.002006</td>\n",
       "      <td>29</td>\n",
       "    </tr>\n",
       "  </tbody>\n",
       "</table>\n",
       "<p>5 rows × 514 columns</p>\n",
       "</div>"
      ],
      "text/plain": [
       "    index         0         1         2         3         4         5  \\\n",
       "0  331253  0.001577  0.001786  0.002293  0.001331  0.002044  0.001718   \n",
       "1  298529  0.001535  0.002137  0.001733  0.001610  0.001694  0.001519   \n",
       "2   29783  0.001020  0.001518  0.004622  0.000992  0.002492  0.001326   \n",
       "3   68771  0.001365  0.001746  0.002557  0.001189  0.002299  0.001473   \n",
       "4   84876  0.001740  0.002714  0.001644  0.001729  0.002369  0.001926   \n",
       "\n",
       "          6         7         8  ...       503       504       505       506  \\\n",
       "0  0.001849  0.001714  0.003423  ...  0.002349  0.001559  0.003429  0.003649   \n",
       "1  0.004592  0.001504  0.001811  ...  0.004395  0.001442  0.001636  0.001737   \n",
       "2  0.002638  0.001420  0.001999  ...  0.003213  0.001009  0.003319  0.003220   \n",
       "3  0.004394  0.001452  0.002735  ...  0.002916  0.001198  0.003772  0.002752   \n",
       "4  0.002570  0.001828  0.002637  ...  0.001932  0.001921  0.001658  0.001803   \n",
       "\n",
       "        507       508       509       510       511  id  \n",
       "0  0.001370  0.001879  0.001621  0.001325  0.001596   0  \n",
       "1  0.002694  0.001471  0.002017  0.001428  0.002755   8  \n",
       "2  0.001135  0.000974  0.001584  0.000973  0.001391   9  \n",
       "3  0.001300  0.001333  0.001802  0.001168  0.001573  19  \n",
       "4  0.001965  0.001693  0.001714  0.001689  0.002006  29  \n",
       "\n",
       "[5 rows x 514 columns]"
      ]
     },
     "execution_count": 24,
     "metadata": {},
     "output_type": "execute_result"
    }
   ],
   "source": [
    "train_data = pd.read_csv('dim512_ver2.csv')\n",
    "train_data.head()"
   ]
  },
  {
   "cell_type": "code",
   "execution_count": 21,
   "metadata": {},
   "outputs": [
    {
     "data": {
      "text/html": [
       "<div>\n",
       "<style scoped>\n",
       "    .dataframe tbody tr th:only-of-type {\n",
       "        vertical-align: middle;\n",
       "    }\n",
       "\n",
       "    .dataframe tbody tr th {\n",
       "        vertical-align: top;\n",
       "    }\n",
       "\n",
       "    .dataframe thead th {\n",
       "        text-align: right;\n",
       "    }\n",
       "</style>\n",
       "<table border=\"1\" class=\"dataframe\">\n",
       "  <thead>\n",
       "    <tr style=\"text-align: right;\">\n",
       "      <th></th>\n",
       "      <th>cat1</th>\n",
       "      <th>cat2</th>\n",
       "      <th>cat3</th>\n",
       "      <th>cat4</th>\n",
       "      <th>cat5</th>\n",
       "      <th>cat6</th>\n",
       "    </tr>\n",
       "  </thead>\n",
       "  <tbody>\n",
       "    <tr>\n",
       "      <th>0</th>\n",
       "      <td>0.083862</td>\n",
       "      <td>0.034479</td>\n",
       "      <td>0.026788</td>\n",
       "      <td>0.748910</td>\n",
       "      <td>0.027604</td>\n",
       "      <td>0.078358</td>\n",
       "    </tr>\n",
       "    <tr>\n",
       "      <th>1</th>\n",
       "      <td>0.042663</td>\n",
       "      <td>0.043163</td>\n",
       "      <td>0.009062</td>\n",
       "      <td>0.767415</td>\n",
       "      <td>0.051414</td>\n",
       "      <td>0.086285</td>\n",
       "    </tr>\n",
       "    <tr>\n",
       "      <th>2</th>\n",
       "      <td>0.183374</td>\n",
       "      <td>0.005770</td>\n",
       "      <td>0.235337</td>\n",
       "      <td>0.551223</td>\n",
       "      <td>0.013165</td>\n",
       "      <td>0.011131</td>\n",
       "    </tr>\n",
       "    <tr>\n",
       "      <th>3</th>\n",
       "      <td>0.002565</td>\n",
       "      <td>0.006234</td>\n",
       "      <td>0.008222</td>\n",
       "      <td>0.973222</td>\n",
       "      <td>0.006509</td>\n",
       "      <td>0.003247</td>\n",
       "    </tr>\n",
       "    <tr>\n",
       "      <th>4</th>\n",
       "      <td>0.016899</td>\n",
       "      <td>0.152607</td>\n",
       "      <td>0.008368</td>\n",
       "      <td>0.773301</td>\n",
       "      <td>0.023471</td>\n",
       "      <td>0.025355</td>\n",
       "    </tr>\n",
       "  </tbody>\n",
       "</table>\n",
       "</div>"
      ],
      "text/plain": [
       "       cat1      cat2      cat3      cat4      cat5      cat6\n",
       "0  0.083862  0.034479  0.026788  0.748910  0.027604  0.078358\n",
       "1  0.042663  0.043163  0.009062  0.767415  0.051414  0.086285\n",
       "2  0.183374  0.005770  0.235337  0.551223  0.013165  0.011131\n",
       "3  0.002565  0.006234  0.008222  0.973222  0.006509  0.003247\n",
       "4  0.016899  0.152607  0.008368  0.773301  0.023471  0.025355"
      ]
     },
     "execution_count": 21,
     "metadata": {},
     "output_type": "execute_result"
    }
   ],
   "source": [
    "test_data = pd.read_csv('dim512_label.csv')\n",
    "test_data.head()"
   ]
  },
  {
   "cell_type": "code",
   "execution_count": 22,
   "metadata": {},
   "outputs": [
    {
     "name": "stdout",
     "output_type": "stream",
     "text": [
      "109050\n",
      "109050\n"
     ]
    }
   ],
   "source": [
    "print(len(train_data))\n",
    "print(len(test_data))"
   ]
  },
  {
   "cell_type": "code",
   "execution_count": 25,
   "metadata": {},
   "outputs": [
    {
     "data": {
      "text/html": [
       "<div>\n",
       "<style scoped>\n",
       "    .dataframe tbody tr th:only-of-type {\n",
       "        vertical-align: middle;\n",
       "    }\n",
       "\n",
       "    .dataframe tbody tr th {\n",
       "        vertical-align: top;\n",
       "    }\n",
       "\n",
       "    .dataframe thead th {\n",
       "        text-align: right;\n",
       "    }\n",
       "</style>\n",
       "<table border=\"1\" class=\"dataframe\">\n",
       "  <thead>\n",
       "    <tr style=\"text-align: right;\">\n",
       "      <th></th>\n",
       "      <th>0</th>\n",
       "      <th>1</th>\n",
       "      <th>2</th>\n",
       "      <th>3</th>\n",
       "      <th>4</th>\n",
       "      <th>5</th>\n",
       "      <th>6</th>\n",
       "      <th>7</th>\n",
       "      <th>8</th>\n",
       "      <th>9</th>\n",
       "      <th>...</th>\n",
       "      <th>502</th>\n",
       "      <th>503</th>\n",
       "      <th>504</th>\n",
       "      <th>505</th>\n",
       "      <th>506</th>\n",
       "      <th>507</th>\n",
       "      <th>508</th>\n",
       "      <th>509</th>\n",
       "      <th>510</th>\n",
       "      <th>511</th>\n",
       "    </tr>\n",
       "  </thead>\n",
       "  <tbody>\n",
       "    <tr>\n",
       "      <th>0</th>\n",
       "      <td>0.001577</td>\n",
       "      <td>0.001786</td>\n",
       "      <td>0.002293</td>\n",
       "      <td>0.001331</td>\n",
       "      <td>0.002044</td>\n",
       "      <td>0.001718</td>\n",
       "      <td>0.001849</td>\n",
       "      <td>0.001714</td>\n",
       "      <td>0.003423</td>\n",
       "      <td>0.002265</td>\n",
       "      <td>...</td>\n",
       "      <td>0.002171</td>\n",
       "      <td>0.002349</td>\n",
       "      <td>0.001559</td>\n",
       "      <td>0.003429</td>\n",
       "      <td>0.003649</td>\n",
       "      <td>0.001370</td>\n",
       "      <td>0.001879</td>\n",
       "      <td>0.001621</td>\n",
       "      <td>0.001325</td>\n",
       "      <td>0.001596</td>\n",
       "    </tr>\n",
       "    <tr>\n",
       "      <th>1</th>\n",
       "      <td>0.001535</td>\n",
       "      <td>0.002137</td>\n",
       "      <td>0.001733</td>\n",
       "      <td>0.001610</td>\n",
       "      <td>0.001694</td>\n",
       "      <td>0.001519</td>\n",
       "      <td>0.004592</td>\n",
       "      <td>0.001504</td>\n",
       "      <td>0.001811</td>\n",
       "      <td>0.001942</td>\n",
       "      <td>...</td>\n",
       "      <td>0.001502</td>\n",
       "      <td>0.004395</td>\n",
       "      <td>0.001442</td>\n",
       "      <td>0.001636</td>\n",
       "      <td>0.001737</td>\n",
       "      <td>0.002694</td>\n",
       "      <td>0.001471</td>\n",
       "      <td>0.002017</td>\n",
       "      <td>0.001428</td>\n",
       "      <td>0.002755</td>\n",
       "    </tr>\n",
       "    <tr>\n",
       "      <th>2</th>\n",
       "      <td>0.001020</td>\n",
       "      <td>0.001518</td>\n",
       "      <td>0.004622</td>\n",
       "      <td>0.000992</td>\n",
       "      <td>0.002492</td>\n",
       "      <td>0.001326</td>\n",
       "      <td>0.002638</td>\n",
       "      <td>0.001420</td>\n",
       "      <td>0.001999</td>\n",
       "      <td>0.001010</td>\n",
       "      <td>...</td>\n",
       "      <td>0.002665</td>\n",
       "      <td>0.003213</td>\n",
       "      <td>0.001009</td>\n",
       "      <td>0.003319</td>\n",
       "      <td>0.003220</td>\n",
       "      <td>0.001135</td>\n",
       "      <td>0.000974</td>\n",
       "      <td>0.001584</td>\n",
       "      <td>0.000973</td>\n",
       "      <td>0.001391</td>\n",
       "    </tr>\n",
       "    <tr>\n",
       "      <th>3</th>\n",
       "      <td>0.001365</td>\n",
       "      <td>0.001746</td>\n",
       "      <td>0.002557</td>\n",
       "      <td>0.001189</td>\n",
       "      <td>0.002299</td>\n",
       "      <td>0.001473</td>\n",
       "      <td>0.004394</td>\n",
       "      <td>0.001452</td>\n",
       "      <td>0.002735</td>\n",
       "      <td>0.001285</td>\n",
       "      <td>...</td>\n",
       "      <td>0.002862</td>\n",
       "      <td>0.002916</td>\n",
       "      <td>0.001198</td>\n",
       "      <td>0.003772</td>\n",
       "      <td>0.002752</td>\n",
       "      <td>0.001300</td>\n",
       "      <td>0.001333</td>\n",
       "      <td>0.001802</td>\n",
       "      <td>0.001168</td>\n",
       "      <td>0.001573</td>\n",
       "    </tr>\n",
       "    <tr>\n",
       "      <th>4</th>\n",
       "      <td>0.001740</td>\n",
       "      <td>0.002714</td>\n",
       "      <td>0.001644</td>\n",
       "      <td>0.001729</td>\n",
       "      <td>0.002369</td>\n",
       "      <td>0.001926</td>\n",
       "      <td>0.002570</td>\n",
       "      <td>0.001828</td>\n",
       "      <td>0.002637</td>\n",
       "      <td>0.002073</td>\n",
       "      <td>...</td>\n",
       "      <td>0.001960</td>\n",
       "      <td>0.001932</td>\n",
       "      <td>0.001921</td>\n",
       "      <td>0.001658</td>\n",
       "      <td>0.001803</td>\n",
       "      <td>0.001965</td>\n",
       "      <td>0.001693</td>\n",
       "      <td>0.001714</td>\n",
       "      <td>0.001689</td>\n",
       "      <td>0.002006</td>\n",
       "    </tr>\n",
       "  </tbody>\n",
       "</table>\n",
       "<p>5 rows × 512 columns</p>\n",
       "</div>"
      ],
      "text/plain": [
       "          0         1         2         3         4         5         6  \\\n",
       "0  0.001577  0.001786  0.002293  0.001331  0.002044  0.001718  0.001849   \n",
       "1  0.001535  0.002137  0.001733  0.001610  0.001694  0.001519  0.004592   \n",
       "2  0.001020  0.001518  0.004622  0.000992  0.002492  0.001326  0.002638   \n",
       "3  0.001365  0.001746  0.002557  0.001189  0.002299  0.001473  0.004394   \n",
       "4  0.001740  0.002714  0.001644  0.001729  0.002369  0.001926  0.002570   \n",
       "\n",
       "          7         8         9  ...       502       503       504       505  \\\n",
       "0  0.001714  0.003423  0.002265  ...  0.002171  0.002349  0.001559  0.003429   \n",
       "1  0.001504  0.001811  0.001942  ...  0.001502  0.004395  0.001442  0.001636   \n",
       "2  0.001420  0.001999  0.001010  ...  0.002665  0.003213  0.001009  0.003319   \n",
       "3  0.001452  0.002735  0.001285  ...  0.002862  0.002916  0.001198  0.003772   \n",
       "4  0.001828  0.002637  0.002073  ...  0.001960  0.001932  0.001921  0.001658   \n",
       "\n",
       "        506       507       508       509       510       511  \n",
       "0  0.003649  0.001370  0.001879  0.001621  0.001325  0.001596  \n",
       "1  0.001737  0.002694  0.001471  0.002017  0.001428  0.002755  \n",
       "2  0.003220  0.001135  0.000974  0.001584  0.000973  0.001391  \n",
       "3  0.002752  0.001300  0.001333  0.001802  0.001168  0.001573  \n",
       "4  0.001803  0.001965  0.001693  0.001714  0.001689  0.002006  \n",
       "\n",
       "[5 rows x 512 columns]"
      ]
     },
     "execution_count": 25,
     "metadata": {},
     "output_type": "execute_result"
    }
   ],
   "source": [
    "train_data = train_data.drop(['index', 'id'], axis=1)\n",
    "train_data.head()"
   ]
  },
  {
   "cell_type": "code",
   "execution_count": 26,
   "metadata": {},
   "outputs": [
    {
     "data": {
      "text/plain": [
       "(109050, 512)"
      ]
     },
     "execution_count": 26,
     "metadata": {},
     "output_type": "execute_result"
    }
   ],
   "source": [
    "train_data = train_data.to_numpy()\n",
    "train_data.reshape(109050, 512, 1)\n",
    "train_data.shape"
   ]
  },
  {
   "cell_type": "code",
   "execution_count": 27,
   "metadata": {},
   "outputs": [
    {
     "data": {
      "text/plain": [
       "array([[0.08386171, 0.03447858, 0.0267883 , 0.74890965, 0.02760383,\n",
       "        0.07835799],\n",
       "       [0.04266268, 0.0431625 , 0.00906157, 0.76741463, 0.0514138 ,\n",
       "        0.0862848 ],\n",
       "       [0.18337384, 0.00576983, 0.235337  , 0.55122334, 0.01316476,\n",
       "        0.01113121],\n",
       "       ...,\n",
       "       [0.01770848, 0.00980657, 0.0085134 , 0.89501047, 0.03046035,\n",
       "        0.03850071],\n",
       "       [0.00334057, 0.00461408, 0.0054453 , 0.9749468 , 0.00839448,\n",
       "        0.0032588 ],\n",
       "       [0.481758  , 0.05572337, 0.02762377, 0.14890303, 0.03492685,\n",
       "        0.25106493]])"
      ]
     },
     "execution_count": 27,
     "metadata": {},
     "output_type": "execute_result"
    }
   ],
   "source": [
    "test_data.to_numpy()"
   ]
  },
  {
   "cell_type": "code",
   "execution_count": 69,
   "metadata": {},
   "outputs": [
    {
     "data": {
      "text/plain": [
       "109050"
      ]
     },
     "execution_count": 69,
     "metadata": {},
     "output_type": "execute_result"
    }
   ],
   "source": [
    "# df2 = pd.read_csv('dim512_ver2.tsv', sep='\\t')\n",
    "# # df2.to_csv('dim512_ver2.tsv', sep='\\t', encoding='utf-8', index=False)\n",
    "# len(df2)"
   ]
  },
  {
   "cell_type": "code",
   "execution_count": 28,
   "metadata": {},
   "outputs": [
    {
     "name": "stdout",
     "output_type": "stream",
     "text": [
      "(87240, 512)\n",
      "(87240, 6)\n",
      "(21810, 512)\n",
      "(21810, 6)\n"
     ]
    }
   ],
   "source": [
    "x_train, x_test, y_train, y_test = train_test_split(train_data, test_data, test_size=0.2)\n",
    "print(x_train.shape)\n",
    "print(y_train.shape)\n",
    "print(x_test.shape)\n",
    "print(y_test.shape)"
   ]
  },
  {
   "cell_type": "code",
   "execution_count": 29,
   "metadata": {},
   "outputs": [
    {
     "name": "stdout",
     "output_type": "stream",
     "text": [
      "(87240, 512, 1)\n",
      "(21810, 512, 1)\n"
     ]
    }
   ],
   "source": [
    "x_train = x_train.reshape(87240, 512, 1)\n",
    "x_test = x_test.reshape(21810, 512, 1)\n",
    "print(x_train.shape)\n",
    "print(x_test.shape)"
   ]
  },
  {
   "cell_type": "code",
   "execution_count": 25,
   "metadata": {
    "colab": {
     "base_uri": "https://localhost:8080/"
    },
    "id": "QoiOcyN_q45r",
    "outputId": "d13d7a76-2f92-4f0d-a2ab-784ec3ac49cb"
   },
   "outputs": [],
   "source": [
    "# def data_spliter(train_data, test_data, ratio=None):\n",
    "    \n",
    "#     len_train = len(train_data)\n",
    "#     len_test = len(test_data)\n",
    "    \n",
    "#     train_idx = int(len_train*(1-ratio))\n",
    "#     test_idx = int(len_test*(1-ratio))\n",
    "    \n",
    "    \n",
    "#     if len_train != len_test:\n",
    "#         print(\"Error: data shapes are not match!\")\n",
    "        \n",
    "#     else:\n",
    "#         x_train, x_test = train_data[:train_idx], train_data[train_idx:]\n",
    "#         y_train, y_test = test_data[:test_idx], test_data[test_idx:]\n",
    "        \n",
    "#         print(f\"x_train shape: {x_train.shape}\")\n",
    "#         print(f\"x_test shape: {x_test.shape}\")\n",
    "#         print(f\"y_train shape: {y_train.shape}\")\n",
    "#         print(f\"y_test shape: {y_test.shape}\")\n",
    "    \n",
    "#     return x_train, x_test, y_train, y_test"
   ]
  },
  {
   "cell_type": "code",
   "execution_count": 26,
   "metadata": {},
   "outputs": [],
   "source": [
    "# def get_main_emotion(labels):\n",
    "#     temp = []\n",
    "#     for i in range(len(labels)):\n",
    "#         temp_max = np.argmax(labels[i])+1\n",
    "#         temp.append(temp_max)\n",
    "#     return temp"
   ]
  },
  {
   "cell_type": "code",
   "execution_count": 27,
   "metadata": {},
   "outputs": [
    {
     "data": {
      "text/plain": [
       "[6, 6, 1, 4, 2, 1, 4, 4, 4, 1]"
      ]
     },
     "execution_count": 27,
     "metadata": {},
     "output_type": "execute_result"
    }
   ],
   "source": [
    "# main_emotion = get_main_emotion(categories)\n",
    "# main_emotion[:10]"
   ]
  },
  {
   "cell_type": "code",
   "execution_count": 28,
   "metadata": {},
   "outputs": [
    {
     "data": {
      "text/plain": [
       "numpy.ndarray"
      ]
     },
     "execution_count": 28,
     "metadata": {},
     "output_type": "execute_result"
    }
   ],
   "source": [
    "# main_emotion = np.array(main_emotion)\n",
    "# type(main_emotion)"
   ]
  },
  {
   "cell_type": "code",
   "execution_count": 29,
   "metadata": {},
   "outputs": [
    {
     "data": {
      "text/plain": [
       "112512"
      ]
     },
     "execution_count": 29,
     "metadata": {},
     "output_type": "execute_result"
    }
   ],
   "source": [
    "# len(categories)"
   ]
  },
  {
   "cell_type": "code",
   "execution_count": 30,
   "metadata": {},
   "outputs": [
    {
     "data": {
      "text/plain": [
       "112512"
      ]
     },
     "execution_count": 30,
     "metadata": {},
     "output_type": "execute_result"
    }
   ],
   "source": [
    "# len(main_emotion)"
   ]
  },
  {
   "cell_type": "code",
   "execution_count": 31,
   "metadata": {},
   "outputs": [
    {
     "data": {
      "text/plain": [
       "(112512, 48, 1876)"
      ]
     },
     "execution_count": 31,
     "metadata": {},
     "output_type": "execute_result"
    }
   ],
   "source": [
    "# train_data = train_data.reshape(112512, 48, 1876)\n",
    "# train_data.shape"
   ]
  },
  {
   "cell_type": "code",
   "execution_count": 33,
   "metadata": {},
   "outputs": [
    {
     "name": "stderr",
     "output_type": "stream",
     "text": [
      "tcmalloc: large alloc 32420528128 bytes == 0x137d718000 @  0x7fa82986a680 0x7fa82988b824 0x7fa81ee1d064 0x7fa81ee1d7ff 0x7fa81ee7bf55 0x7fa81ee7c0b6 0x7fa81ef0e76a 0x7fa81ef0f1cb 0x5139cc 0x56bf28 0x569dba 0x5f6eb3 0x56cc1f 0x569dba 0x5f6eb3 0x56bacd 0x501923 0x524f74 0x5f15c4 0x5f745f 0x570d55 0x569dba 0x5f6eb3 0x56cc1f 0x569dba 0x6902a7 0x6023c4 0x5c6730 0x56bacd 0x501488 0x56d4d6\n",
      "tcmalloc: large alloc 8105402368 bytes == 0x1b0bdc0000 @  0x7fa82986a680 0x7fa82988b824 0x7fa81ee1d064 0x7fa81ee1d7ff 0x7fa81ee7bf55 0x7fa81ee7c0b6 0x7fa81ef0e76a 0x7fa81ef0f1cb 0x5139cc 0x56bf28 0x569dba 0x5f6eb3 0x56cc1f 0x569dba 0x5f6eb3 0x56bacd 0x501923 0x524f74 0x5f15c4 0x5f745f 0x570d55 0x569dba 0x5f6eb3 0x56cc1f 0x569dba 0x6902a7 0x6023c4 0x5c6730 0x56bacd 0x501488 0x56d4d6\n"
     ]
    },
    {
     "name": "stdout",
     "output_type": "stream",
     "text": [
      "(90009, 48, 1876)\n",
      "(22503, 48, 1876)\n",
      "(90009, 6)\n",
      "(22503, 6)\n"
     ]
    }
   ],
   "source": [
    "# a_train, a_test, b_train, b_test = train_test_split(train_data, categories, test_size=0.2)\n",
    "# print(a_train.shape)\n",
    "# print(a_test.shape)\n",
    "# print(b_train.shape)\n",
    "# print(b_test.shape)"
   ]
  },
  {
   "cell_type": "code",
   "execution_count": 34,
   "metadata": {},
   "outputs": [],
   "source": [
    "# x_train, x_test, y_train, y_test = data_spliter(train_data, test_dt, 0.2)"
   ]
  },
  {
   "cell_type": "markdown",
   "metadata": {
    "jp-MarkdownHeadingCollapsed": true,
    "tags": []
   },
   "source": [
    "## resnet50"
   ]
  },
  {
   "cell_type": "code",
   "execution_count": 64,
   "metadata": {},
   "outputs": [
    {
     "ename": "ValueError",
     "evalue": "Input 0 of layer \"zero_padding1d\" is incompatible with the layer: expected ndim=3, found ndim=2. Full shape received: (None, None)",
     "output_type": "error",
     "traceback": [
      "\u001b[0;31m---------------------------------------------------------------------------\u001b[0m",
      "\u001b[0;31mValueError\u001b[0m                                Traceback (most recent call last)",
      "Cell \u001b[0;32mIn [64], line 194\u001b[0m\n\u001b[1;32m    188\u001b[0m             shortcut \u001b[38;5;241m=\u001b[39m x                  \n\u001b[1;32m    190\u001b[0m     \u001b[38;5;28;01mreturn\u001b[39;00m x\n\u001b[0;32m--> 194\u001b[0m x \u001b[38;5;241m=\u001b[39m \u001b[43mconv1_layer\u001b[49m\u001b[43m(\u001b[49m\u001b[43minput_tensor\u001b[49m\u001b[43m)\u001b[49m\n\u001b[1;32m    195\u001b[0m x \u001b[38;5;241m=\u001b[39m conv2_layer(x)\n\u001b[1;32m    196\u001b[0m x \u001b[38;5;241m=\u001b[39m conv3_layer(x)\n",
      "Cell \u001b[0;32mIn [64], line 7\u001b[0m, in \u001b[0;36mconv1_layer\u001b[0;34m(x)\u001b[0m\n\u001b[1;32m      6\u001b[0m \u001b[38;5;28;01mdef\u001b[39;00m \u001b[38;5;21mconv1_layer\u001b[39m(x):    \n\u001b[0;32m----> 7\u001b[0m     x \u001b[38;5;241m=\u001b[39m \u001b[43mZeroPadding1D\u001b[49m\u001b[43m(\u001b[49m\u001b[43mpadding\u001b[49m\u001b[38;5;241;43m=\u001b[39;49m\u001b[38;5;241;43m3\u001b[39;49m\u001b[43m)\u001b[49m\u001b[43m(\u001b[49m\u001b[43mx\u001b[49m\u001b[43m)\u001b[49m\n\u001b[1;32m      8\u001b[0m     x \u001b[38;5;241m=\u001b[39m Conv1D(\u001b[38;5;241m64\u001b[39m, \u001b[38;5;241m7\u001b[39m, strides\u001b[38;5;241m=\u001b[39m\u001b[38;5;241m2\u001b[39m)(x)\n\u001b[1;32m      9\u001b[0m     x \u001b[38;5;241m=\u001b[39m BatchNormalization()(x)\n",
      "File \u001b[0;32m/usr/local/lib/python3.8/dist-packages/keras/utils/traceback_utils.py:67\u001b[0m, in \u001b[0;36mfilter_traceback.<locals>.error_handler\u001b[0;34m(*args, **kwargs)\u001b[0m\n\u001b[1;32m     65\u001b[0m \u001b[38;5;28;01mexcept\u001b[39;00m \u001b[38;5;167;01mException\u001b[39;00m \u001b[38;5;28;01mas\u001b[39;00m e:  \u001b[38;5;66;03m# pylint: disable=broad-except\u001b[39;00m\n\u001b[1;32m     66\u001b[0m   filtered_tb \u001b[38;5;241m=\u001b[39m _process_traceback_frames(e\u001b[38;5;241m.\u001b[39m__traceback__)\n\u001b[0;32m---> 67\u001b[0m   \u001b[38;5;28;01mraise\u001b[39;00m e\u001b[38;5;241m.\u001b[39mwith_traceback(filtered_tb) \u001b[38;5;28;01mfrom\u001b[39;00m \u001b[38;5;28mNone\u001b[39m\n\u001b[1;32m     68\u001b[0m \u001b[38;5;28;01mfinally\u001b[39;00m:\n\u001b[1;32m     69\u001b[0m   \u001b[38;5;28;01mdel\u001b[39;00m filtered_tb\n",
      "File \u001b[0;32m/usr/local/lib/python3.8/dist-packages/keras/engine/input_spec.py:214\u001b[0m, in \u001b[0;36massert_input_compatibility\u001b[0;34m(input_spec, inputs, layer_name)\u001b[0m\n\u001b[1;32m    212\u001b[0m   ndim \u001b[38;5;241m=\u001b[39m shape\u001b[38;5;241m.\u001b[39mrank\n\u001b[1;32m    213\u001b[0m   \u001b[38;5;28;01mif\u001b[39;00m ndim \u001b[38;5;241m!=\u001b[39m spec\u001b[38;5;241m.\u001b[39mndim:\n\u001b[0;32m--> 214\u001b[0m     \u001b[38;5;28;01mraise\u001b[39;00m \u001b[38;5;167;01mValueError\u001b[39;00m(\u001b[38;5;124mf\u001b[39m\u001b[38;5;124m'\u001b[39m\u001b[38;5;124mInput \u001b[39m\u001b[38;5;132;01m{\u001b[39;00minput_index\u001b[38;5;132;01m}\u001b[39;00m\u001b[38;5;124m of layer \u001b[39m\u001b[38;5;124m\"\u001b[39m\u001b[38;5;132;01m{\u001b[39;00mlayer_name\u001b[38;5;132;01m}\u001b[39;00m\u001b[38;5;124m\"\u001b[39m\u001b[38;5;124m \u001b[39m\u001b[38;5;124m'\u001b[39m\n\u001b[1;32m    215\u001b[0m                      \u001b[38;5;124m'\u001b[39m\u001b[38;5;124mis incompatible with the layer: \u001b[39m\u001b[38;5;124m'\u001b[39m\n\u001b[1;32m    216\u001b[0m                      \u001b[38;5;124mf\u001b[39m\u001b[38;5;124m'\u001b[39m\u001b[38;5;124mexpected ndim=\u001b[39m\u001b[38;5;132;01m{\u001b[39;00mspec\u001b[38;5;241m.\u001b[39mndim\u001b[38;5;132;01m}\u001b[39;00m\u001b[38;5;124m, found ndim=\u001b[39m\u001b[38;5;132;01m{\u001b[39;00mndim\u001b[38;5;132;01m}\u001b[39;00m\u001b[38;5;124m. \u001b[39m\u001b[38;5;124m'\u001b[39m\n\u001b[1;32m    217\u001b[0m                      \u001b[38;5;124mf\u001b[39m\u001b[38;5;124m'\u001b[39m\u001b[38;5;124mFull shape received: \u001b[39m\u001b[38;5;132;01m{\u001b[39;00m\u001b[38;5;28mtuple\u001b[39m(shape)\u001b[38;5;132;01m}\u001b[39;00m\u001b[38;5;124m'\u001b[39m)\n\u001b[1;32m    218\u001b[0m \u001b[38;5;28;01mif\u001b[39;00m spec\u001b[38;5;241m.\u001b[39mmax_ndim \u001b[38;5;129;01mis\u001b[39;00m \u001b[38;5;129;01mnot\u001b[39;00m \u001b[38;5;28;01mNone\u001b[39;00m:\n\u001b[1;32m    219\u001b[0m   ndim \u001b[38;5;241m=\u001b[39m x\u001b[38;5;241m.\u001b[39mshape\u001b[38;5;241m.\u001b[39mrank\n",
      "\u001b[0;31mValueError\u001b[0m: Input 0 of layer \"zero_padding1d\" is incompatible with the layer: expected ndim=3, found ndim=2. Full shape received: (None, None)"
     ]
    }
   ],
   "source": [
    "# # number of classes\n",
    "# K = 6\n",
    "\n",
    "# input_tensor = Input(shape=(None, ), dtype='float32', name='input')\n",
    "\n",
    "# def conv1_layer(x):    \n",
    "#     x = ZeroPadding1D(padding=3)(x)\n",
    "#     x = Conv1D(64, 7, strides=2)(x)\n",
    "#     x = BatchNormalization()(x)\n",
    "#     x = Activation('relu')(x)\n",
    "#     x = ZeroPadding1D(padding=1)(x)\n",
    "    \n",
    "#     return x   \n",
    "\n",
    "\n",
    "# def conv2_layer(x):         \n",
    "#     x = MaxPooling1D(2)(x)     \n",
    " \n",
    "#     shortcut = x\n",
    " \n",
    "#     for i in range(3):\n",
    "#         if (i == 0):\n",
    "#             x = Conv1D(64, 1, strides=1, padding='valid')(x)\n",
    "#             x = BatchNormalization()(x)\n",
    "#             x = Activation('relu')(x)\n",
    "            \n",
    "#             x = Conv1D(64, 3, strides=1, padding='same')(x)\n",
    "#             x = BatchNormalization()(x)\n",
    "#             x = Activation('relu')(x)\n",
    " \n",
    "#             x = Conv1D(256, 1, strides=1, padding='valid')(x)\n",
    "#             shortcut = Conv1D(256, 1, strides=1, padding='valid')(shortcut)            \n",
    "#             x = BatchNormalization()(x)\n",
    "#             shortcut = BatchNormalization()(shortcut)\n",
    " \n",
    "#             x = Add()([x, shortcut])\n",
    "#             x = Activation('relu')(x)\n",
    "            \n",
    "#             shortcut = x\n",
    " \n",
    "#         else:\n",
    "#             x = Conv1D(64, 1, strides=1, padding='valid')(x)\n",
    "#             x = BatchNormalization()(x)\n",
    "#             x = Activation('relu')(x)\n",
    "            \n",
    "#             x = Conv1D(64, 3, strides=1, padding='same')(x)\n",
    "#             x = BatchNormalization()(x)\n",
    "#             x = Activation('relu')(x)\n",
    " \n",
    "#             x = Conv1D(256, 1, strides=1, padding='valid')(x)\n",
    "#             x = BatchNormalization()(x)            \n",
    " \n",
    "#             x = Add()([x, shortcut])   \n",
    "#             x = Activation('relu')(x)  \n",
    " \n",
    "#             shortcut = x        \n",
    "    \n",
    "#     return x\n",
    " \n",
    " \n",
    " \n",
    "# def conv3_layer(x):        \n",
    "#     shortcut = x    \n",
    "    \n",
    "#     for i in range(4):     \n",
    "#         if(i == 0):            \n",
    "#             x = Conv1D(128, 1, strides=2, padding='valid')(x)\n",
    "#             x = BatchNormalization()(x)\n",
    "#             x = Activation('relu')(x)        \n",
    "            \n",
    "#             x = Conv1D(128, 3, strides=1, padding='same')(x)\n",
    "#             x = BatchNormalization()(x)\n",
    "#             x = Activation('relu')(x)  \n",
    " \n",
    "#             x = Conv1D(512, 1, strides=1, padding='valid')(x)\n",
    "#             shortcut = Conv1D(512, 1, strides=2, padding='valid')(shortcut)\n",
    "#             x = BatchNormalization()(x)\n",
    "#             shortcut = BatchNormalization()(shortcut)            \n",
    " \n",
    "#             x = Add()([x, shortcut])    \n",
    "#             x = Activation('relu')(x)    \n",
    " \n",
    "#             shortcut = x              \n",
    "        \n",
    "#         else:\n",
    "#             x = Conv1D(128, 1, strides=1, padding='valid')(x)\n",
    "#             x = BatchNormalization()(x)\n",
    "#             x = Activation('relu')(x)\n",
    "            \n",
    "#             x = Conv1D(128, 3, strides=1, padding='same')(x)\n",
    "#             x = BatchNormalization()(x)\n",
    "#             x = Activation('relu')(x)\n",
    " \n",
    "#             x = Conv1D(512, 1, strides=1, padding='valid')(x)\n",
    "#             x = BatchNormalization()(x)            \n",
    " \n",
    "#             x = Add()([x, shortcut])     \n",
    "#             x = Activation('relu')(x)\n",
    " \n",
    "#             shortcut = x      \n",
    "            \n",
    "#     return x\n",
    " \n",
    " \n",
    " \n",
    "# def conv4_layer(x):\n",
    "#     shortcut = x        \n",
    "  \n",
    "#     for i in range(6):     \n",
    "#         if(i == 0):            \n",
    "#             x = Conv1D(256, 1, strides=2, padding='valid')(x)\n",
    "#             x = BatchNormalization()(x)\n",
    "#             x = Activation('relu')(x)        \n",
    "            \n",
    "#             x = Conv1D(256, 3, strides=1, padding='same')(x)\n",
    "#             x = BatchNormalization()(x)\n",
    "#             x = Activation('relu')(x)  \n",
    " \n",
    "#             x = Conv1D(1024, 1, strides=1, padding='valid')(x)\n",
    "#             shortcut = Conv1D(1024, 1, strides=2, padding='valid')(shortcut)\n",
    "#             x = BatchNormalization()(x)\n",
    "#             shortcut = BatchNormalization()(shortcut)\n",
    " \n",
    "#             x = Add()([x, shortcut]) \n",
    "#             x = Activation('relu')(x)\n",
    " \n",
    "#             shortcut = x               \n",
    "        \n",
    "#         else:\n",
    "#             x = Conv1D(256, 1, strides=1, padding='valid')(x)\n",
    "#             x = BatchNormalization()(x)\n",
    "#             x = Activation('relu')(x)\n",
    "            \n",
    "#             x = Conv1D(256, 3, strides=1, padding='same')(x)\n",
    "#             x = BatchNormalization()(x)\n",
    "#             x = Activation('relu')(x)\n",
    " \n",
    "#             x = Conv1D(1024, 1, strides=1, padding='valid')(x)\n",
    "#             x = BatchNormalization()(x)            \n",
    " \n",
    "#             x = Add()([x, shortcut])    \n",
    "#             x = Activation('relu')(x)\n",
    " \n",
    "#             shortcut = x      \n",
    " \n",
    "#     return x\n",
    " \n",
    " \n",
    " \n",
    "# def conv5_layer(x):\n",
    "#     shortcut = x    \n",
    "  \n",
    "#     for i in range(3):     \n",
    "#         if(i == 0):            \n",
    "#             x = Conv1D(512, 1, strides=2, padding='valid')(x)\n",
    "#             x = BatchNormalization()(x)\n",
    "#             x = Activation('relu')(x)        \n",
    "            \n",
    "#             x = Conv1D(512, 3, strides=1, padding='same')(x)\n",
    "#             x = BatchNormalization()(x)\n",
    "#             x = Activation('relu')(x)  \n",
    " \n",
    "#             x = Conv1D(2048, 1, strides=1, padding='valid')(x)\n",
    "#             shortcut = Conv1D(2048, 1, strides=2, padding='valid')(shortcut)\n",
    "#             x = BatchNormalization()(x)\n",
    "#             shortcut = BatchNormalization()(shortcut)            \n",
    " \n",
    "#             x = Add()([x, shortcut])  \n",
    "#             x = Activation('relu')(x)      \n",
    " \n",
    "#             shortcut = x               \n",
    "        \n",
    "#         else:\n",
    "#             x = Conv1D(512, 1, strides=1, padding='valid')(x)\n",
    "#             x = BatchNormalization()(x)\n",
    "#             x = Activation('relu')(x)\n",
    "            \n",
    "#             x = Conv1D(512, 3, strides=1, padding='same')(x)\n",
    "#             x = BatchNormalization()(x)\n",
    "#             x = Activation('relu')(x)\n",
    " \n",
    "#             x = Conv1D(2048, 1, strides=1, padding='valid')(x)\n",
    "#             x = BatchNormalization()(x)           \n",
    "            \n",
    "#             x = Add()([x, shortcut]) \n",
    "#             x = Activation('relu')(x)       \n",
    " \n",
    "#             shortcut = x                  \n",
    " \n",
    "#     return x\n",
    " \n",
    " \n",
    " \n",
    "# x = conv1_layer(input_tensor)\n",
    "# x = conv2_layer(x)\n",
    "# x = conv3_layer(x)\n",
    "# x = conv4_layer(x)\n",
    "# x = conv5_layer(x)\n",
    " \n",
    "# x = GlobalAveragePooling1D()(x)\n",
    "# output_tensor = Dense(K, activation='softmax')(x)\n",
    " \n",
    "# resnet50 = Model(input_tensor, output_tensor)\n",
    "# resnet50.summary()\n"
   ]
  },
  {
   "cell_type": "markdown",
   "metadata": {
    "id": "pRElNA4coe6d"
   },
   "source": [
    "## simple cnn"
   ]
  },
  {
   "cell_type": "code",
   "execution_count": 18,
   "metadata": {
    "id": "nJvdMCbxsutx"
   },
   "outputs": [],
   "source": [
    "'''\n",
    "input size = (N, 48, 1876, 1)\n",
    "\n",
    "1876 = 2*2*7*67\n",
    "48 = 2*2*2*2*3\n",
    "'''\n",
    "\n",
    "embedding_dim = 48 # 임베딩 벡터의 차원 // 여기서는 hz의 채널 수\n",
    "# kernel_size = (4, 6)\n",
    "kernel_size = (8, 6)\n",
    "drop_ratio = 0.3\n",
    "hidden_units = 768 # 뉴런의 수\n",
    "epoch = 50\n",
    "\n",
    "def build_cnn2():\n",
    "    model = Sequential()\n",
    "    # model.add(Conv2D(16, kernel_size, padding='same', activation='leaky_relu', input_shape=(48, 1876, 1)))\n",
    "    # model.add(\n",
    "    model.add(Conv1D(16, 3, padding='same', activation='leaky_relu', input_shape=(512,1)))\n",
    "    model.add(MaxPooling1D(2))\n",
    "    \n",
    "    model.add(Conv1D(32, 3, padding='same', activation='leaky_relu'))\n",
    "    model.add(MaxPooling1D(2))\n",
    "    \n",
    "    model.add(Conv1D(64, 3, padding='same', activation='leaky_relu'))\n",
    "    model.add(GlobalAveragePooling1D())\n",
    "    \n",
    "    model.add(Flatten())\n",
    "    model.add(Dense(hidden_units, activation='relu'))\n",
    "    model.add(Dropout(drop_ratio))\n",
    "    model.add(Dense(6, activation='softmax'))\n",
    "    \n",
    "    return model\n",
    "\n",
    "def build_dense():\n",
    "    model = Sequential()\n",
    "    model.add(Dense(64, activation='relu', input_shape=(512,)))\n",
    "    model.add(Dense(6, activation='softmax'))\n",
    "    \n",
    "    return model"
   ]
  },
  {
   "cell_type": "markdown",
   "metadata": {},
   "source": [
    "## 평가지표"
   ]
  },
  {
   "cell_type": "code",
   "execution_count": 19,
   "metadata": {
    "id": "0lQMg3yDTLL9"
   },
   "outputs": [],
   "source": [
    "'''\n",
    "가사 감성벡터 -> (1, 6) shape\n",
    "mel 감성벡터 -> (1, 6) shape\n",
    "\n",
    "대전제: 가사랑 mel이랑 동일한 감성을 지향한다.\n",
    "\n",
    "따라서 가사의 감성벡터랑 mel의 감성벡터랑 완벽히 똑같을 필요는 없다.\n",
    "BUT, 두 감성벡터가 표현하는 주 감정의 분포는 비슷해야 됨.\n",
    "\n",
    "예시: (기쁨, 슬픔, 중립)\n",
    "가사 (0.5, 0.3, 0.2)\n",
    "mel (0.4, 0.5, 0.1)\n",
    "-> 잘 분석했다고 판정\n",
    "\n",
    "가사를 정답으로 줌. -> CNN 학습 -> 학습방향은 평가지표를 따라감.(라벨따라가는게 아님)\n",
    "-> 따라서 평가지표에서 유사한 감정분포를 따라가도록 알려주면 된다!\n",
    "\n",
    "가사 (0.5, 0.3, 0.2)\n",
    "mel (0.1, 0.2, 0.7)\n",
    "-> 잘 분석하지 못했다고 판정\n",
    "\n",
    "<평가 매트릭스 알고리즘>\n",
    "mel의 감성벡터에서 가장 큰 값 2개 추출(= 주 감정 2개) -> A\n",
    "가사의 감성벡터에서 가장 큰 값 2개 추출(= 주 감정 2개) -> B\n",
    "\n",
    "set(A) == set(B) 이면 맞춘 판정\n",
    "아니면 틀린 판정\n",
    "'''\n",
    "\n",
    "# 둘 중에 하나 이상 맞추면 ok\n",
    "def correct1(y_true, y_pred):\n",
    "    true_set = np.argsort(y_true)[-2:]\n",
    "    pred_set = np.argsort(y_pred)[-2:]\n",
    "    if set(true_set) & set(pred_set):\n",
    "        score = True\n",
    "    else:\n",
    "        score = False\n",
    "    return score\n",
    "\n",
    "# 순서 상관없이 둘 다 맞추면 ok\n",
    "def correct2(y_true, y_pred):\n",
    "    true_set = np.argsort(y_true)[-2:]\n",
    "    pred_set = np.argsort(y_pred)[-2:]\n",
    "    if set(true_set) == set(pred_set):\n",
    "        score = True\n",
    "    else:\n",
    "        score = False\n",
    "    return score\n",
    "\n",
    "# 순서 상관없이 셋 다 맞추면 ok\n",
    "def correct3(y_true, y_pred):\n",
    "    true_set = np.argsort(y_true)[-3:]\n",
    "    pred_set = np.argsort(y_pred)[-3:]\n",
    "    if set(true_set) == set(pred_set):\n",
    "        score = True\n",
    "    else:\n",
    "        score = False\n",
    "    return score\n",
    "\n",
    "# 셋 중 둘 이상 순서를 맞추면 ok\n",
    "def correct4(y_true, y_pred):\n",
    "    true_set = np.argsort(y_true)[-3:]\n",
    "    pred_set = np.argsort(y_pred)[-3:]\n",
    "    \n",
    "    # 둘 이상 순서 상관 없이 맞추는 경우\n",
    "    if len(set(true_set) & set(pred_set))>=2:\n",
    "        score = True\n",
    "    \n",
    "    ## 둘 이상 순서까지 맞추는 경우\n",
    "    # if sorted(a[-2:]) == sorted(b[-2:]):\n",
    "    #     score = True\n",
    "    \n",
    "    else:\n",
    "        score = False\n",
    "    return score\n",
    "\n",
    "def semy_metric(f):\n",
    "    def my_metric(real, pred):\n",
    "        N = len(real)\n",
    "        count = 0 \n",
    "        for i,j in zip(real, pred):\n",
    "            count += f(i,j)\n",
    "        return count/N\n",
    "    return my_metric\n",
    "\n",
    "def match1(y_true, y_pred):\n",
    "    score = tf.py_function(func=semy_metric(correct1), inp=[y_true, y_pred], Tout=tf.float16, name='custom1') # tf 2.x\n",
    "    return score\n",
    "\n",
    "def match2(y_true, y_pred):\n",
    "    score = tf.py_function(func=semy_metric(correct2), inp=[y_true, y_pred], Tout=tf.float16, name='custom2') # tf 2.x\n",
    "    return score\n",
    "\n",
    "def match3(y_true, y_pred):\n",
    "    score = tf.py_function(func=semy_metric(correct3), inp=[y_true, y_pred], Tout=tf.float16, name='custom3') # tf 2.x\n",
    "    return score\n",
    "\n",
    "def match4(y_true, y_pred):\n",
    "    score = tf.py_function(func=semy_metric(correct4), inp=[y_true, y_pred], Tout=tf.float16, name='custom4') # tf 2.x\n",
    "    return score"
   ]
  },
  {
   "cell_type": "markdown",
   "metadata": {},
   "source": [
    "## train"
   ]
  },
  {
   "cell_type": "code",
   "execution_count": 20,
   "metadata": {
    "colab": {
     "base_uri": "https://localhost:8080/"
    },
    "id": "Te9oMVta4C3_",
    "outputId": "ec333b47-ab34-48ed-8eda-16e38acb1313"
   },
   "outputs": [
    {
     "name": "stdout",
     "output_type": "stream",
     "text": [
      "Model: \"sequential\"\n",
      "_________________________________________________________________\n",
      " Layer (type)                Output Shape              Param #   \n",
      "=================================================================\n",
      " conv1d (Conv1D)             (None, 512, 16)           64        \n",
      "                                                                 \n",
      " max_pooling1d (MaxPooling1D  (None, 256, 16)          0         \n",
      " )                                                               \n",
      "                                                                 \n",
      " conv1d_1 (Conv1D)           (None, 256, 32)           1568      \n",
      "                                                                 \n",
      " max_pooling1d_1 (MaxPooling  (None, 128, 32)          0         \n",
      " 1D)                                                             \n",
      "                                                                 \n",
      " conv1d_2 (Conv1D)           (None, 128, 64)           6208      \n",
      "                                                                 \n",
      " global_average_pooling1d (G  (None, 64)               0         \n",
      " lobalAveragePooling1D)                                          \n",
      "                                                                 \n",
      " flatten (Flatten)           (None, 64)                0         \n",
      "                                                                 \n",
      " dense (Dense)               (None, 768)               49920     \n",
      "                                                                 \n",
      " dropout (Dropout)           (None, 768)               0         \n",
      "                                                                 \n",
      " dense_1 (Dense)             (None, 6)                 4614      \n",
      "                                                                 \n",
      "=================================================================\n",
      "Total params: 62,374\n",
      "Trainable params: 62,374\n",
      "Non-trainable params: 0\n",
      "_________________________________________________________________\n"
     ]
    }
   ],
   "source": [
    "model_cnn =  build_cnn2()\n",
    "model_cnn.summary()"
   ]
  },
  {
   "cell_type": "code",
   "execution_count": 21,
   "metadata": {
    "id": "3xdrCTsb0dpK"
   },
   "outputs": [],
   "source": [
    "es = EarlyStopping(monitor='val_loss', mode='min', verbose=1, patience=5)\n",
    "mc = ModelCheckpoint('best_model.h5', monitor='val_acc', mode='max', verbose=1, save_best_only=True)"
   ]
  },
  {
   "cell_type": "code",
   "execution_count": 32,
   "metadata": {},
   "outputs": [
    {
     "name": "stdout",
     "output_type": "stream",
     "text": [
      "Model: \"sequential_1\"\n",
      "_________________________________________________________________\n",
      " Layer (type)                Output Shape              Param #   \n",
      "=================================================================\n",
      " dense_2 (Dense)             (None, 64)                32832     \n",
      "                                                                 \n",
      " dense_3 (Dense)             (None, 6)                 390       \n",
      "                                                                 \n",
      "=================================================================\n",
      "Total params: 33,222\n",
      "Trainable params: 33,222\n",
      "Non-trainable params: 0\n",
      "_________________________________________________________________\n"
     ]
    }
   ],
   "source": [
    "model = build_dense()\n",
    "model.summary()"
   ]
  },
  {
   "cell_type": "code",
   "execution_count": 23,
   "metadata": {},
   "outputs": [
    {
     "name": "stderr",
     "output_type": "stream",
     "text": [
      "wandb: WARNING The save_model argument by default saves the model in the HDF5 format that cannot save custom objects like subclassed models and custom layers. This behavior will be deprecated in a future release in favor of the SavedModel format. Meanwhile, the HDF5 model is saved as W&B files and the SavedModel as W&B Artifacts.\n"
     ]
    },
    {
     "name": "stdout",
     "output_type": "stream",
     "text": [
      "WARNING:tensorflow:From /usr/local/lib/python3.8/dist-packages/tensorflow/python/ops/nn_ops.py:5219: tensor_shape_from_node_def_name (from tensorflow.python.framework.graph_util_impl) is deprecated and will be removed in a future version.\n",
      "Instructions for updating:\n",
      "Use `tf.compat.v1.graph_util.tensor_shape_from_node_def_name`\n",
      "Epoch 1/50\n"
     ]
    },
    {
     "name": "stderr",
     "output_type": "stream",
     "text": [
      "2022-09-26 14:16:59.383728: I tensorflow/core/grappler/devices.cc:75] Number of eligible GPUs (core count >= 8, compute capability >= 0.0): 0 (Note: TensorFlow was not compiled with CUDA or ROCm support)\n",
      "2022-09-26 14:16:59.383888: I tensorflow/core/grappler/clusters/single_machine.cc:358] Starting new session\n"
     ]
    },
    {
     "name": "stdout",
     "output_type": "stream",
     "text": [
      "2726/2727 [============================>.] - ETA: 0s - loss: 1.0760 - acc: 0.7650 - match1: 0.9859 - match2: 0.2268 - match3: 0.3453 - match4: 0.7760\n",
      "Epoch 1: val_acc improved from -inf to 0.76800, saving model to best_model.h5\n"
     ]
    },
    {
     "name": "stderr",
     "output_type": "stream",
     "text": [
      "WARNING:absl:Found untraced functions such as _jit_compiled_convolution_op, _jit_compiled_convolution_op, _jit_compiled_convolution_op while saving (showing 3 of 3). These functions will not be directly callable after loading.\n"
     ]
    },
    {
     "name": "stdout",
     "output_type": "stream",
     "text": [
      "INFO:tensorflow:Assets written to: /home/nochesita95/wandb/run-20220926_141456-3h8h4zbi/files/model-best/assets\n"
     ]
    },
    {
     "name": "stderr",
     "output_type": "stream",
     "text": [
      "INFO:tensorflow:Assets written to: /home/nochesita95/wandb/run-20220926_141456-3h8h4zbi/files/model-best/assets\n",
      "wandb: Adding directory to artifact (/home/nochesita95/wandb/run-20220926_141456-3h8h4zbi/files/model-best)... Done. 0.0s\n"
     ]
    },
    {
     "name": "stdout",
     "output_type": "stream",
     "text": [
      "2727/2727 [==============================] - 219s 80ms/step - loss: 1.0761 - acc: 0.7650 - match1: 0.9859 - match2: 0.2268 - match3: 0.3454 - match4: 0.7760 - val_loss: 1.0693 - val_acc: 0.7680 - val_match1: 0.9864 - val_match2: 0.2241 - val_match3: 0.3523 - val_match4: 0.7785\n",
      "Epoch 2/50\n",
      "2726/2727 [============================>.] - ETA: 0s - loss: 1.0711 - acc: 0.7652 - match1: 0.9862 - match2: 0.2269 - match3: 0.3522 - match4: 0.7791\n",
      "Epoch 2: val_acc did not improve from 0.76800\n"
     ]
    },
    {
     "name": "stderr",
     "output_type": "stream",
     "text": [
      "WARNING:absl:Found untraced functions such as _jit_compiled_convolution_op, _jit_compiled_convolution_op, _jit_compiled_convolution_op while saving (showing 3 of 3). These functions will not be directly callable after loading.\n"
     ]
    },
    {
     "name": "stdout",
     "output_type": "stream",
     "text": [
      "INFO:tensorflow:Assets written to: /home/nochesita95/wandb/run-20220926_141456-3h8h4zbi/files/model-best/assets\n"
     ]
    },
    {
     "name": "stderr",
     "output_type": "stream",
     "text": [
      "INFO:tensorflow:Assets written to: /home/nochesita95/wandb/run-20220926_141456-3h8h4zbi/files/model-best/assets\n",
      "wandb: Adding directory to artifact (/home/nochesita95/wandb/run-20220926_141456-3h8h4zbi/files/model-best)... Done. 0.0s\n"
     ]
    },
    {
     "name": "stdout",
     "output_type": "stream",
     "text": [
      "2727/2727 [==============================] - 219s 80ms/step - loss: 1.0711 - acc: 0.7652 - match1: 0.9862 - match2: 0.2269 - match3: 0.3521 - match4: 0.7792 - val_loss: 1.0678 - val_acc: 0.7680 - val_match1: 0.9864 - val_match2: 0.2241 - val_match3: 0.3523 - val_match4: 0.7785\n",
      "Epoch 3/50\n",
      "2726/2727 [============================>.] - ETA: 0s - loss: 1.0709 - acc: 0.7652 - match1: 0.9862 - match2: 0.2269 - match3: 0.3498 - match4: 0.7776\n",
      "Epoch 3: val_acc did not improve from 0.76800\n"
     ]
    },
    {
     "name": "stderr",
     "output_type": "stream",
     "text": [
      "WARNING:absl:Found untraced functions such as _jit_compiled_convolution_op, _jit_compiled_convolution_op, _jit_compiled_convolution_op while saving (showing 3 of 3). These functions will not be directly callable after loading.\n"
     ]
    },
    {
     "name": "stdout",
     "output_type": "stream",
     "text": [
      "INFO:tensorflow:Assets written to: /home/nochesita95/wandb/run-20220926_141456-3h8h4zbi/files/model-best/assets\n"
     ]
    },
    {
     "name": "stderr",
     "output_type": "stream",
     "text": [
      "INFO:tensorflow:Assets written to: /home/nochesita95/wandb/run-20220926_141456-3h8h4zbi/files/model-best/assets\n",
      "wandb: Adding directory to artifact (/home/nochesita95/wandb/run-20220926_141456-3h8h4zbi/files/model-best)... Done. 0.0s\n"
     ]
    },
    {
     "name": "stdout",
     "output_type": "stream",
     "text": [
      "2727/2727 [==============================] - 220s 81ms/step - loss: 1.0709 - acc: 0.7652 - match1: 0.9861 - match2: 0.2269 - match3: 0.3499 - match4: 0.7776 - val_loss: 1.0674 - val_acc: 0.7680 - val_match1: 0.9864 - val_match2: 0.2241 - val_match3: 0.3523 - val_match4: 0.7785\n",
      "Epoch 4/50\n",
      "2726/2727 [============================>.] - ETA: 0s - loss: 1.0710 - acc: 0.7652 - match1: 0.9862 - match2: 0.2269 - match3: 0.3520 - match4: 0.7790\n",
      "Epoch 4: val_acc did not improve from 0.76800\n"
     ]
    },
    {
     "name": "stderr",
     "output_type": "stream",
     "text": [
      "WARNING:absl:Found untraced functions such as _jit_compiled_convolution_op, _jit_compiled_convolution_op, _jit_compiled_convolution_op while saving (showing 3 of 3). These functions will not be directly callable after loading.\n"
     ]
    },
    {
     "name": "stdout",
     "output_type": "stream",
     "text": [
      "INFO:tensorflow:Assets written to: /home/nochesita95/wandb/run-20220926_141456-3h8h4zbi/files/model-best/assets\n"
     ]
    },
    {
     "name": "stderr",
     "output_type": "stream",
     "text": [
      "INFO:tensorflow:Assets written to: /home/nochesita95/wandb/run-20220926_141456-3h8h4zbi/files/model-best/assets\n",
      "wandb: Adding directory to artifact (/home/nochesita95/wandb/run-20220926_141456-3h8h4zbi/files/model-best)... Done. 0.0s\n"
     ]
    },
    {
     "name": "stdout",
     "output_type": "stream",
     "text": [
      "2727/2727 [==============================] - 219s 80ms/step - loss: 1.0710 - acc: 0.7652 - match1: 0.9862 - match2: 0.2269 - match3: 0.3519 - match4: 0.7791 - val_loss: 1.0663 - val_acc: 0.7680 - val_match1: 0.9864 - val_match2: 0.2241 - val_match3: 0.3523 - val_match4: 0.7785\n",
      "Epoch 5/50\n",
      "2726/2727 [============================>.] - ETA: 0s - loss: 1.0706 - acc: 0.7652 - match1: 0.9862 - match2: 0.2269 - match3: 0.3535 - match4: 0.7797\n",
      "Epoch 5: val_acc did not improve from 0.76800\n"
     ]
    },
    {
     "name": "stderr",
     "output_type": "stream",
     "text": [
      "WARNING:absl:Found untraced functions such as _jit_compiled_convolution_op, _jit_compiled_convolution_op, _jit_compiled_convolution_op while saving (showing 3 of 3). These functions will not be directly callable after loading.\n"
     ]
    },
    {
     "name": "stdout",
     "output_type": "stream",
     "text": [
      "INFO:tensorflow:Assets written to: /home/nochesita95/wandb/run-20220926_141456-3h8h4zbi/files/model-best/assets\n"
     ]
    },
    {
     "name": "stderr",
     "output_type": "stream",
     "text": [
      "INFO:tensorflow:Assets written to: /home/nochesita95/wandb/run-20220926_141456-3h8h4zbi/files/model-best/assets\n",
      "wandb: Adding directory to artifact (/home/nochesita95/wandb/run-20220926_141456-3h8h4zbi/files/model-best)... Done. 0.0s\n"
     ]
    },
    {
     "name": "stdout",
     "output_type": "stream",
     "text": [
      "2727/2727 [==============================] - 220s 81ms/step - loss: 1.0706 - acc: 0.7652 - match1: 0.9862 - match2: 0.2269 - match3: 0.3535 - match4: 0.7798 - val_loss: 1.0660 - val_acc: 0.7680 - val_match1: 0.9864 - val_match2: 0.2241 - val_match3: 0.3523 - val_match4: 0.7785\n",
      "Epoch 6/50\n",
      "2726/2727 [============================>.] - ETA: 0s - loss: 1.0707 - acc: 0.7652 - match1: 0.9862 - match2: 0.2269 - match3: 0.3530 - match4: 0.7794\n",
      "Epoch 6: val_acc did not improve from 0.76800\n",
      "2727/2727 [==============================] - 219s 80ms/step - loss: 1.0708 - acc: 0.7652 - match1: 0.9862 - match2: 0.2270 - match3: 0.3531 - match4: 0.7795 - val_loss: 1.0662 - val_acc: 0.7680 - val_match1: 0.9864 - val_match2: 0.2241 - val_match3: 0.3523 - val_match4: 0.7785\n",
      "Epoch 7/50\n",
      "2726/2727 [============================>.] - ETA: 0s - loss: 1.0705 - acc: 0.7652 - match1: 0.9862 - match2: 0.2269 - match3: 0.3515 - match4: 0.7788\n",
      "Epoch 7: val_acc did not improve from 0.76800\n",
      "2727/2727 [==============================] - 218s 80ms/step - loss: 1.0705 - acc: 0.7652 - match1: 0.9862 - match2: 0.2269 - match3: 0.3517 - match4: 0.7789 - val_loss: 1.0663 - val_acc: 0.7680 - val_match1: 0.9864 - val_match2: 0.2241 - val_match3: 0.3523 - val_match4: 0.7785\n",
      "Epoch 8/50\n",
      "2726/2727 [============================>.] - ETA: 0s - loss: 1.0707 - acc: 0.7652 - match1: 0.9862 - match2: 0.2269 - match3: 0.3536 - match4: 0.7797\n",
      "Epoch 8: val_acc did not improve from 0.76800\n",
      "2727/2727 [==============================] - 219s 80ms/step - loss: 1.0707 - acc: 0.7652 - match1: 0.9861 - match2: 0.2269 - match3: 0.3536 - match4: 0.7797 - val_loss: 1.0664 - val_acc: 0.7680 - val_match1: 0.9864 - val_match2: 0.2241 - val_match3: 0.3523 - val_match4: 0.7785\n",
      "Epoch 9/50\n",
      "2726/2727 [============================>.] - ETA: 0s - loss: 1.0704 - acc: 0.7653 - match1: 0.9862 - match2: 0.2268 - match3: 0.3537 - match4: 0.7797\n",
      "Epoch 9: val_acc did not improve from 0.76800\n",
      "2727/2727 [==============================] - 219s 80ms/step - loss: 1.0705 - acc: 0.7652 - match1: 0.9862 - match2: 0.2270 - match3: 0.3537 - match4: 0.7798 - val_loss: 1.0660 - val_acc: 0.7680 - val_match1: 0.9864 - val_match2: 0.2241 - val_match3: 0.3523 - val_match4: 0.7785\n",
      "Epoch 10/50\n",
      "2726/2727 [============================>.] - ETA: 0s - loss: 1.0704 - acc: 0.7652 - match1: 0.9862 - match2: 0.2269 - match3: 0.3528 - match4: 0.7790\n",
      "Epoch 10: val_acc did not improve from 0.76800\n"
     ]
    },
    {
     "name": "stderr",
     "output_type": "stream",
     "text": [
      "WARNING:absl:Found untraced functions such as _jit_compiled_convolution_op, _jit_compiled_convolution_op, _jit_compiled_convolution_op while saving (showing 3 of 3). These functions will not be directly callable after loading.\n"
     ]
    },
    {
     "name": "stdout",
     "output_type": "stream",
     "text": [
      "INFO:tensorflow:Assets written to: /home/nochesita95/wandb/run-20220926_141456-3h8h4zbi/files/model-best/assets\n"
     ]
    },
    {
     "name": "stderr",
     "output_type": "stream",
     "text": [
      "INFO:tensorflow:Assets written to: /home/nochesita95/wandb/run-20220926_141456-3h8h4zbi/files/model-best/assets\n",
      "wandb: Adding directory to artifact (/home/nochesita95/wandb/run-20220926_141456-3h8h4zbi/files/model-best)... Done. 0.0s\n"
     ]
    },
    {
     "name": "stdout",
     "output_type": "stream",
     "text": [
      "2727/2727 [==============================] - 220s 81ms/step - loss: 1.0704 - acc: 0.7652 - match1: 0.9862 - match2: 0.2269 - match3: 0.3529 - match4: 0.7790 - val_loss: 1.0659 - val_acc: 0.7680 - val_match1: 0.9864 - val_match2: 0.2241 - val_match3: 0.3523 - val_match4: 0.7785\n",
      "Epoch 11/50\n",
      "2726/2727 [============================>.] - ETA: 0s - loss: 1.0702 - acc: 0.7652 - match1: 0.9862 - match2: 0.2269 - match3: 0.3528 - match4: 0.7794\n",
      "Epoch 11: val_acc did not improve from 0.76800\n",
      "2727/2727 [==============================] - 219s 80ms/step - loss: 1.0702 - acc: 0.7652 - match1: 0.9861 - match2: 0.2269 - match3: 0.3529 - match4: 0.7794 - val_loss: 1.0664 - val_acc: 0.7680 - val_match1: 0.9864 - val_match2: 0.2241 - val_match3: 0.3523 - val_match4: 0.7785\n",
      "Epoch 12/50\n",
      "2726/2727 [============================>.] - ETA: 0s - loss: 1.0704 - acc: 0.7652 - match1: 0.9862 - match2: 0.2269 - match3: 0.3538 - match4: 0.7799\n",
      "Epoch 12: val_acc did not improve from 0.76800\n",
      "2727/2727 [==============================] - 219s 80ms/step - loss: 1.0704 - acc: 0.7652 - match1: 0.9862 - match2: 0.2269 - match3: 0.3538 - match4: 0.7799 - val_loss: 1.0663 - val_acc: 0.7680 - val_match1: 0.9864 - val_match2: 0.2241 - val_match3: 0.3523 - val_match4: 0.7785\n",
      "Epoch 13/50\n",
      "2726/2727 [============================>.] - ETA: 0s - loss: 1.0701 - acc: 0.7653 - match1: 0.9862 - match2: 0.2269 - match3: 0.3537 - match4: 0.7798\n",
      "Epoch 13: val_acc did not improve from 0.76800\n",
      "2727/2727 [==============================] - 219s 80ms/step - loss: 1.0701 - acc: 0.7652 - match1: 0.9862 - match2: 0.2270 - match3: 0.3538 - match4: 0.7799 - val_loss: 1.0665 - val_acc: 0.7680 - val_match1: 0.9864 - val_match2: 0.2241 - val_match3: 0.3523 - val_match4: 0.7785\n",
      "Epoch 14/50\n",
      "2726/2727 [============================>.] - ETA: 0s - loss: 1.0702 - acc: 0.7652 - match1: 0.9862 - match2: 0.2269 - match3: 0.3531 - match4: 0.7793\n",
      "Epoch 14: val_acc did not improve from 0.76800\n",
      "2727/2727 [==============================] - 219s 80ms/step - loss: 1.0703 - acc: 0.7652 - match1: 0.9862 - match2: 0.2269 - match3: 0.3531 - match4: 0.7793 - val_loss: 1.0660 - val_acc: 0.7680 - val_match1: 0.9864 - val_match2: 0.2241 - val_match3: 0.3523 - val_match4: 0.7785\n",
      "Epoch 15/50\n",
      "2726/2727 [============================>.] - ETA: 0s - loss: 1.0700 - acc: 0.7652 - match1: 0.9862 - match2: 0.2269 - match3: 0.3537 - match4: 0.7799\n",
      "Epoch 15: val_acc did not improve from 0.76800\n",
      "2727/2727 [==============================] - 219s 80ms/step - loss: 1.0700 - acc: 0.7652 - match1: 0.9862 - match2: 0.2269 - match3: 0.3537 - match4: 0.7798 - val_loss: 1.0666 - val_acc: 0.7680 - val_match1: 0.9864 - val_match2: 0.2241 - val_match3: 0.3523 - val_match4: 0.7785\n",
      "Epoch 15: early stopping\n"
     ]
    }
   ],
   "source": [
    "model_cnn.compile(optimizer='adam', loss='categorical_crossentropy', metrics=['acc',match1, match2, match3, match4])\n",
    "history = model_cnn.fit(x_train, y_train, epochs=epoch, validation_data=(x_test, y_test), callbacks=[es, mc, WandbCallback()])"
   ]
  },
  {
   "cell_type": "markdown",
   "metadata": {},
   "source": [
    "# train_dense2"
   ]
  },
  {
   "cell_type": "code",
   "execution_count": 33,
   "metadata": {
    "colab": {
     "base_uri": "https://localhost:8080/"
    },
    "id": "Vyt5qA1AINoi",
    "outputId": "937d6e99-bb60-4249-df44-664f03794e58"
   },
   "outputs": [
    {
     "name": "stderr",
     "output_type": "stream",
     "text": [
      "wandb: WARNING The save_model argument by default saves the model in the HDF5 format that cannot save custom objects like subclassed models and custom layers. This behavior will be deprecated in a future release in favor of the SavedModel format. Meanwhile, the HDF5 model is saved as W&B files and the SavedModel as W&B Artifacts.\n"
     ]
    },
    {
     "name": "stdout",
     "output_type": "stream",
     "text": [
      "WARNING:tensorflow:From /usr/local/lib/python3.8/dist-packages/tensorflow/python/ops/math_ops.py:3837: tensor_shape_from_node_def_name (from tensorflow.python.framework.graph_util_impl) is deprecated and will be removed in a future version.\n",
      "Instructions for updating:\n",
      "Use `tf.compat.v1.graph_util.tensor_shape_from_node_def_name`\n",
      "Epoch 1/50\n"
     ]
    },
    {
     "name": "stderr",
     "output_type": "stream",
     "text": [
      "2022-09-26 01:20:01.420869: I tensorflow/core/grappler/devices.cc:75] Number of eligible GPUs (core count >= 8, compute capability >= 0.0): 0 (Note: TensorFlow was not compiled with CUDA or ROCm support)\n",
      "2022-09-26 01:20:01.421085: I tensorflow/core/grappler/clusters/single_machine.cc:358] Starting new session\n"
     ]
    },
    {
     "name": "stdout",
     "output_type": "stream",
     "text": [
      "2726/2727 [============================>.] - ETA: 0s - loss: 1.0651 - acc: 0.7644 - match1: 0.9860 - match2: 0.2264 - match3: 0.3613 - match4: 0.7892\n",
      "Epoch 1: val_acc improved from -inf to 0.77029, saving model to best_model.h5\n",
      "INFO:tensorflow:Assets written to: /home/nochesita95/wandb/run-20220926_011548-3ace3vbc/files/model-best/assets\n"
     ]
    },
    {
     "name": "stderr",
     "output_type": "stream",
     "text": [
      "wandb: Adding directory to artifact (/home/nochesita95/wandb/run-20220926_011548-3ace3vbc/files/model-best)... Done. 0.0s\n"
     ]
    },
    {
     "name": "stdout",
     "output_type": "stream",
     "text": [
      "2727/2727 [==============================] - 200s 73ms/step - loss: 1.0651 - acc: 0.7644 - match1: 0.9860 - match2: 0.2263 - match3: 0.3612 - match4: 0.7890 - val_loss: 1.0308 - val_acc: 0.7703 - val_match1: 0.9861 - val_match2: 0.2286 - val_match3: 0.3801 - val_match4: 0.7983\n",
      "Epoch 2/50\n",
      "2726/2727 [============================>.] - ETA: 0s - loss: 1.0303 - acc: 0.7647 - match1: 0.9855 - match2: 0.2452 - match3: 0.3793 - match4: 0.8009\n",
      "Epoch 2: val_acc did not improve from 0.77029\n",
      "INFO:tensorflow:Assets written to: /home/nochesita95/wandb/run-20220926_011548-3ace3vbc/files/model-best/assets\n"
     ]
    },
    {
     "name": "stderr",
     "output_type": "stream",
     "text": [
      "wandb: Adding directory to artifact (/home/nochesita95/wandb/run-20220926_011548-3ace3vbc/files/model-best)... Done. 0.0s\n"
     ]
    },
    {
     "name": "stdout",
     "output_type": "stream",
     "text": [
      "2727/2727 [==============================] - 201s 74ms/step - loss: 1.0303 - acc: 0.7647 - match1: 0.9855 - match2: 0.2453 - match3: 0.3794 - match4: 0.8010 - val_loss: 1.0201 - val_acc: 0.7703 - val_match1: 0.9851 - val_match2: 0.2574 - val_match3: 0.3852 - val_match4: 0.7974\n",
      "Epoch 3/50\n",
      "2726/2727 [============================>.] - ETA: 0s - loss: 1.0241 - acc: 0.7646 - match1: 0.9854 - match2: 0.2718 - match3: 0.3822 - match4: 0.8002\n",
      "Epoch 3: val_acc did not improve from 0.77029\n",
      "INFO:tensorflow:Assets written to: /home/nochesita95/wandb/run-20220926_011548-3ace3vbc/files/model-best/assets\n"
     ]
    },
    {
     "name": "stderr",
     "output_type": "stream",
     "text": [
      "wandb: Adding directory to artifact (/home/nochesita95/wandb/run-20220926_011548-3ace3vbc/files/model-best)... Done. 0.0s\n"
     ]
    },
    {
     "name": "stdout",
     "output_type": "stream",
     "text": [
      "2727/2727 [==============================] - 203s 74ms/step - loss: 1.0240 - acc: 0.7647 - match1: 0.9854 - match2: 0.2718 - match3: 0.3821 - match4: 0.8001 - val_loss: 1.0170 - val_acc: 0.7703 - val_match1: 0.9855 - val_match2: 0.2777 - val_match3: 0.3850 - val_match4: 0.7956\n",
      "Epoch 4/50\n",
      "2726/2727 [============================>.] - ETA: 0s - loss: 1.0210 - acc: 0.7646 - match1: 0.9859 - match2: 0.2800 - match3: 0.3842 - match4: 0.8004\n",
      "Epoch 4: val_acc did not improve from 0.77029\n",
      "INFO:tensorflow:Assets written to: /home/nochesita95/wandb/run-20220926_011548-3ace3vbc/files/model-best/assets\n"
     ]
    },
    {
     "name": "stderr",
     "output_type": "stream",
     "text": [
      "wandb: Adding directory to artifact (/home/nochesita95/wandb/run-20220926_011548-3ace3vbc/files/model-best)... Done. 0.0s\n"
     ]
    },
    {
     "name": "stdout",
     "output_type": "stream",
     "text": [
      "2727/2727 [==============================] - 202s 74ms/step - loss: 1.0210 - acc: 0.7647 - match1: 0.9859 - match2: 0.2802 - match3: 0.3842 - match4: 0.8005 - val_loss: 1.0146 - val_acc: 0.7703 - val_match1: 0.9851 - val_match2: 0.2893 - val_match3: 0.3902 - val_match4: 0.7975\n",
      "Epoch 5/50\n",
      "2726/2727 [============================>.] - ETA: 0s - loss: 1.0189 - acc: 0.7647 - match1: 0.9859 - match2: 0.2858 - match3: 0.3851 - match4: 0.8007\n",
      "Epoch 5: val_acc did not improve from 0.77029\n",
      "INFO:tensorflow:Assets written to: /home/nochesita95/wandb/run-20220926_011548-3ace3vbc/files/model-best/assets\n"
     ]
    },
    {
     "name": "stderr",
     "output_type": "stream",
     "text": [
      "wandb: Adding directory to artifact (/home/nochesita95/wandb/run-20220926_011548-3ace3vbc/files/model-best)... Done. 0.0s\n"
     ]
    },
    {
     "name": "stdout",
     "output_type": "stream",
     "text": [
      "2727/2727 [==============================] - 203s 74ms/step - loss: 1.0189 - acc: 0.7647 - match1: 0.9859 - match2: 0.2858 - match3: 0.3851 - match4: 0.8007 - val_loss: 1.0144 - val_acc: 0.7703 - val_match1: 0.9855 - val_match2: 0.2866 - val_match3: 0.3923 - val_match4: 0.7987\n",
      "Epoch 6/50\n",
      "2726/2727 [============================>.] - ETA: 0s - loss: 1.0177 - acc: 0.7647 - match1: 0.9860 - match2: 0.2875 - match3: 0.3861 - match4: 0.8017\n",
      "Epoch 6: val_acc did not improve from 0.77029\n",
      "INFO:tensorflow:Assets written to: /home/nochesita95/wandb/run-20220926_011548-3ace3vbc/files/model-best/assets\n"
     ]
    },
    {
     "name": "stderr",
     "output_type": "stream",
     "text": [
      "wandb: Adding directory to artifact (/home/nochesita95/wandb/run-20220926_011548-3ace3vbc/files/model-best)... Done. 0.0s\n"
     ]
    },
    {
     "name": "stdout",
     "output_type": "stream",
     "text": [
      "2727/2727 [==============================] - 204s 75ms/step - loss: 1.0177 - acc: 0.7647 - match1: 0.9860 - match2: 0.2876 - match3: 0.3860 - match4: 0.8016 - val_loss: 1.0125 - val_acc: 0.7703 - val_match1: 0.9845 - val_match2: 0.3043 - val_match3: 0.3925 - val_match4: 0.7990\n",
      "Epoch 7/50\n",
      "2726/2727 [============================>.] - ETA: 0s - loss: 1.0167 - acc: 0.7646 - match1: 0.9861 - match2: 0.2899 - match3: 0.3871 - match4: 0.8025\n",
      "Epoch 7: val_acc did not improve from 0.77029\n",
      "2727/2727 [==============================] - 202s 74ms/step - loss: 1.0166 - acc: 0.7647 - match1: 0.9861 - match2: 0.2899 - match3: 0.3870 - match4: 0.8024 - val_loss: 1.0151 - val_acc: 0.7703 - val_match1: 0.9820 - val_match2: 0.3209 - val_match3: 0.3950 - val_match4: 0.8024\n",
      "Epoch 8/50\n",
      "2726/2727 [============================>.] - ETA: 0s - loss: 1.0156 - acc: 0.7647 - match1: 0.9860 - match2: 0.2921 - match3: 0.3881 - match4: 0.8027\n",
      "Epoch 8: val_acc did not improve from 0.77029\n",
      "INFO:tensorflow:Assets written to: /home/nochesita95/wandb/run-20220926_011548-3ace3vbc/files/model-best/assets\n"
     ]
    },
    {
     "name": "stderr",
     "output_type": "stream",
     "text": [
      "wandb: Adding directory to artifact (/home/nochesita95/wandb/run-20220926_011548-3ace3vbc/files/model-best)... Done. 0.0s\n"
     ]
    },
    {
     "name": "stdout",
     "output_type": "stream",
     "text": [
      "2727/2727 [==============================] - 203s 74ms/step - loss: 1.0156 - acc: 0.7647 - match1: 0.9860 - match2: 0.2920 - match3: 0.3881 - match4: 0.8028 - val_loss: 1.0107 - val_acc: 0.7703 - val_match1: 0.9862 - val_match2: 0.2907 - val_match3: 0.3871 - val_match4: 0.7959\n",
      "Epoch 9/50\n",
      "2726/2727 [============================>.] - ETA: 0s - loss: 1.0150 - acc: 0.7647 - match1: 0.9859 - match2: 0.2936 - match3: 0.3886 - match4: 0.8028\n",
      "Epoch 9: val_acc improved from 0.77029 to 0.77033, saving model to best_model.h5\n",
      "INFO:tensorflow:Assets written to: /home/nochesita95/wandb/run-20220926_011548-3ace3vbc/files/model-best/assets\n"
     ]
    },
    {
     "name": "stderr",
     "output_type": "stream",
     "text": [
      "wandb: Adding directory to artifact (/home/nochesita95/wandb/run-20220926_011548-3ace3vbc/files/model-best)... Done. 0.0s\n"
     ]
    },
    {
     "name": "stdout",
     "output_type": "stream",
     "text": [
      "2727/2727 [==============================] - 203s 75ms/step - loss: 1.0150 - acc: 0.7647 - match1: 0.9859 - match2: 0.2936 - match3: 0.3885 - match4: 0.8027 - val_loss: 1.0096 - val_acc: 0.7703 - val_match1: 0.9861 - val_match2: 0.2876 - val_match3: 0.3912 - val_match4: 0.7986\n",
      "Epoch 10/50\n",
      "2726/2727 [============================>.] - ETA: 0s - loss: 1.0142 - acc: 0.7648 - match1: 0.9862 - match2: 0.2930 - match3: 0.3884 - match4: 0.8032\n",
      "Epoch 10: val_acc did not improve from 0.77033\n",
      "INFO:tensorflow:Assets written to: /home/nochesita95/wandb/run-20220926_011548-3ace3vbc/files/model-best/assets\n"
     ]
    },
    {
     "name": "stderr",
     "output_type": "stream",
     "text": [
      "wandb: Adding directory to artifact (/home/nochesita95/wandb/run-20220926_011548-3ace3vbc/files/model-best)... Done. 0.0s\n"
     ]
    },
    {
     "name": "stdout",
     "output_type": "stream",
     "text": [
      "2727/2727 [==============================] - 203s 74ms/step - loss: 1.0142 - acc: 0.7648 - match1: 0.9862 - match2: 0.2930 - match3: 0.3884 - match4: 0.8032 - val_loss: 1.0094 - val_acc: 0.7703 - val_match1: 0.9861 - val_match2: 0.2897 - val_match3: 0.3907 - val_match4: 0.7998\n",
      "Epoch 11/50\n",
      "2726/2727 [============================>.] - ETA: 0s - loss: 1.0137 - acc: 0.7648 - match1: 0.9860 - match2: 0.2943 - match3: 0.3893 - match4: 0.8038\n",
      "Epoch 11: val_acc improved from 0.77033 to 0.77056, saving model to best_model.h5\n",
      "2727/2727 [==============================] - 202s 74ms/step - loss: 1.0137 - acc: 0.7648 - match1: 0.9860 - match2: 0.2943 - match3: 0.3892 - match4: 0.8039 - val_loss: 1.0112 - val_acc: 0.7706 - val_match1: 0.9866 - val_match2: 0.2855 - val_match3: 0.3849 - val_match4: 0.7951\n",
      "Epoch 12/50\n",
      "2726/2727 [============================>.] - ETA: 0s - loss: 1.0132 - acc: 0.7648 - match1: 0.9860 - match2: 0.2951 - match3: 0.3888 - match4: 0.8039\n",
      "Epoch 12: val_acc did not improve from 0.77056\n",
      "2727/2727 [==============================] - 202s 74ms/step - loss: 1.0132 - acc: 0.7648 - match1: 0.9860 - match2: 0.2951 - match3: 0.3888 - match4: 0.8038 - val_loss: 1.0094 - val_acc: 0.7704 - val_match1: 0.9847 - val_match2: 0.3069 - val_match3: 0.3952 - val_match4: 0.8025\n",
      "Epoch 13/50\n",
      "2726/2727 [============================>.] - ETA: 0s - loss: 1.0126 - acc: 0.7648 - match1: 0.9860 - match2: 0.2959 - match3: 0.3897 - match4: 0.8046\n",
      "Epoch 13: val_acc improved from 0.77056 to 0.77070, saving model to best_model.h5\n",
      "INFO:tensorflow:Assets written to: /home/nochesita95/wandb/run-20220926_011548-3ace3vbc/files/model-best/assets\n"
     ]
    },
    {
     "name": "stderr",
     "output_type": "stream",
     "text": [
      "wandb: Adding directory to artifact (/home/nochesita95/wandb/run-20220926_011548-3ace3vbc/files/model-best)... Done. 0.0s\n"
     ]
    },
    {
     "name": "stdout",
     "output_type": "stream",
     "text": [
      "2727/2727 [==============================] - 203s 74ms/step - loss: 1.0126 - acc: 0.7648 - match1: 0.9861 - match2: 0.2958 - match3: 0.3896 - match4: 0.8046 - val_loss: 1.0081 - val_acc: 0.7707 - val_match1: 0.9864 - val_match2: 0.2909 - val_match3: 0.3872 - val_match4: 0.7968\n",
      "Epoch 14/50\n",
      "2726/2727 [============================>.] - ETA: 0s - loss: 1.0123 - acc: 0.7650 - match1: 0.9863 - match2: 0.2968 - match3: 0.3899 - match4: 0.8045\n",
      "Epoch 14: val_acc did not improve from 0.77070\n",
      "INFO:tensorflow:Assets written to: /home/nochesita95/wandb/run-20220926_011548-3ace3vbc/files/model-best/assets\n"
     ]
    },
    {
     "name": "stderr",
     "output_type": "stream",
     "text": [
      "wandb: Adding directory to artifact (/home/nochesita95/wandb/run-20220926_011548-3ace3vbc/files/model-best)... Done. 0.0s\n"
     ]
    },
    {
     "name": "stdout",
     "output_type": "stream",
     "text": [
      "2727/2727 [==============================] - 201s 74ms/step - loss: 1.0123 - acc: 0.7650 - match1: 0.9863 - match2: 0.2968 - match3: 0.3899 - match4: 0.8046 - val_loss: 1.0077 - val_acc: 0.7705 - val_match1: 0.9860 - val_match2: 0.2991 - val_match3: 0.3934 - val_match4: 0.8000\n",
      "Epoch 15/50\n",
      "2726/2727 [============================>.] - ETA: 0s - loss: 1.0118 - acc: 0.7649 - match1: 0.9862 - match2: 0.2964 - match3: 0.3903 - match4: 0.8041\n",
      "Epoch 15: val_acc did not improve from 0.77070\n",
      "INFO:tensorflow:Assets written to: /home/nochesita95/wandb/run-20220926_011548-3ace3vbc/files/model-best/assets\n"
     ]
    },
    {
     "name": "stderr",
     "output_type": "stream",
     "text": [
      "wandb: Adding directory to artifact (/home/nochesita95/wandb/run-20220926_011548-3ace3vbc/files/model-best)... Done. 0.0s\n"
     ]
    },
    {
     "name": "stdout",
     "output_type": "stream",
     "text": [
      "2727/2727 [==============================] - 202s 74ms/step - loss: 1.0118 - acc: 0.7649 - match1: 0.9862 - match2: 0.2964 - match3: 0.3902 - match4: 0.8041 - val_loss: 1.0070 - val_acc: 0.7707 - val_match1: 0.9859 - val_match2: 0.3014 - val_match3: 0.3943 - val_match4: 0.8016\n",
      "Epoch 16/50\n",
      "2726/2727 [============================>.] - ETA: 0s - loss: 1.0114 - acc: 0.7648 - match1: 0.9863 - match2: 0.2958 - match3: 0.3909 - match4: 0.8054\n",
      "Epoch 16: val_acc did not improve from 0.77070\n",
      "INFO:tensorflow:Assets written to: /home/nochesita95/wandb/run-20220926_011548-3ace3vbc/files/model-best/assets\n"
     ]
    },
    {
     "name": "stderr",
     "output_type": "stream",
     "text": [
      "wandb: Adding directory to artifact (/home/nochesita95/wandb/run-20220926_011548-3ace3vbc/files/model-best)... Done. 0.0s\n"
     ]
    },
    {
     "name": "stdout",
     "output_type": "stream",
     "text": [
      "2727/2727 [==============================] - 202s 74ms/step - loss: 1.0114 - acc: 0.7648 - match1: 0.9863 - match2: 0.2958 - match3: 0.3909 - match4: 0.8054 - val_loss: 1.0070 - val_acc: 0.7707 - val_match1: 0.9861 - val_match2: 0.2968 - val_match3: 0.3900 - val_match4: 0.8021\n",
      "Epoch 17/50\n",
      "2726/2727 [============================>.] - ETA: 0s - loss: 1.0111 - acc: 0.7650 - match1: 0.9860 - match2: 0.2973 - match3: 0.3912 - match4: 0.8056\n",
      "Epoch 17: val_acc improved from 0.77070 to 0.77075, saving model to best_model.h5\n",
      "INFO:tensorflow:Assets written to: /home/nochesita95/wandb/run-20220926_011548-3ace3vbc/files/model-best/assets\n"
     ]
    },
    {
     "name": "stderr",
     "output_type": "stream",
     "text": [
      "wandb: Adding directory to artifact (/home/nochesita95/wandb/run-20220926_011548-3ace3vbc/files/model-best)... Done. 0.0s\n"
     ]
    },
    {
     "name": "stdout",
     "output_type": "stream",
     "text": [
      "2727/2727 [==============================] - 203s 74ms/step - loss: 1.0111 - acc: 0.7650 - match1: 0.9860 - match2: 0.2972 - match3: 0.3912 - match4: 0.8055 - val_loss: 1.0065 - val_acc: 0.7707 - val_match1: 0.9864 - val_match2: 0.2943 - val_match3: 0.3924 - val_match4: 0.8002\n",
      "Epoch 18/50\n",
      "2726/2727 [============================>.] - ETA: 0s - loss: 1.0106 - acc: 0.7650 - match1: 0.9863 - match2: 0.2977 - match3: 0.3912 - match4: 0.8057\n",
      "Epoch 18: val_acc improved from 0.77075 to 0.77107, saving model to best_model.h5\n",
      "2727/2727 [==============================] - 203s 74ms/step - loss: 1.0106 - acc: 0.7650 - match1: 0.9863 - match2: 0.2976 - match3: 0.3911 - match4: 0.8056 - val_loss: 1.0067 - val_acc: 0.7711 - val_match1: 0.9867 - val_match2: 0.2882 - val_match3: 0.3875 - val_match4: 0.7975\n",
      "Epoch 19/50\n",
      "2726/2727 [============================>.] - ETA: 0s - loss: 1.0104 - acc: 0.7651 - match1: 0.9863 - match2: 0.2975 - match3: 0.3915 - match4: 0.8058\n",
      "Epoch 19: val_acc improved from 0.77107 to 0.77130, saving model to best_model.h5\n",
      "2727/2727 [==============================] - 203s 74ms/step - loss: 1.0103 - acc: 0.7651 - match1: 0.9863 - match2: 0.2974 - match3: 0.3914 - match4: 0.8057 - val_loss: 1.0078 - val_acc: 0.7713 - val_match1: 0.9869 - val_match2: 0.2829 - val_match3: 0.3895 - val_match4: 0.7974\n",
      "Epoch 20/50\n",
      "2726/2727 [============================>.] - ETA: 0s - loss: 1.0099 - acc: 0.7653 - match1: 0.9864 - match2: 0.2977 - match3: 0.3920 - match4: 0.8062\n",
      "Epoch 20: val_acc did not improve from 0.77130\n",
      "2727/2727 [==============================] - 202s 74ms/step - loss: 1.0099 - acc: 0.7652 - match1: 0.9864 - match2: 0.2977 - match3: 0.3920 - match4: 0.8063 - val_loss: 1.0070 - val_acc: 0.7709 - val_match1: 0.9861 - val_match2: 0.2978 - val_match3: 0.3972 - val_match4: 0.8037\n",
      "Epoch 21/50\n",
      "2726/2727 [============================>.] - ETA: 0s - loss: 1.0098 - acc: 0.7651 - match1: 0.9863 - match2: 0.2981 - match3: 0.3916 - match4: 0.8059\n",
      "Epoch 21: val_acc did not improve from 0.77130\n",
      "2727/2727 [==============================] - 203s 74ms/step - loss: 1.0099 - acc: 0.7651 - match1: 0.9863 - match2: 0.2980 - match3: 0.3915 - match4: 0.8059 - val_loss: 1.0092 - val_acc: 0.7706 - val_match1: 0.9852 - val_match2: 0.3078 - val_match3: 0.3986 - val_match4: 0.8041\n",
      "Epoch 22/50\n",
      "2726/2727 [============================>.] - ETA: 0s - loss: 1.0098 - acc: 0.7653 - match1: 0.9863 - match2: 0.2978 - match3: 0.3921 - match4: 0.8059\n",
      "Epoch 22: val_acc did not improve from 0.77130\n",
      "INFO:tensorflow:Assets written to: /home/nochesita95/wandb/run-20220926_011548-3ace3vbc/files/model-best/assets\n"
     ]
    },
    {
     "name": "stderr",
     "output_type": "stream",
     "text": [
      "wandb: Adding directory to artifact (/home/nochesita95/wandb/run-20220926_011548-3ace3vbc/files/model-best)... Done. 0.0s\n"
     ]
    },
    {
     "name": "stdout",
     "output_type": "stream",
     "text": [
      "2727/2727 [==============================] - 204s 75ms/step - loss: 1.0097 - acc: 0.7652 - match1: 0.9863 - match2: 0.2977 - match3: 0.3921 - match4: 0.8059 - val_loss: 1.0049 - val_acc: 0.7709 - val_match1: 0.9867 - val_match2: 0.2970 - val_match3: 0.3907 - val_match4: 0.7992\n",
      "Epoch 23/50\n",
      "2726/2727 [============================>.] - ETA: 0s - loss: 1.0092 - acc: 0.7655 - match1: 0.9864 - match2: 0.2981 - match3: 0.3925 - match4: 0.8066\n",
      "Epoch 23: val_acc did not improve from 0.77130\n",
      "2727/2727 [==============================] - 203s 74ms/step - loss: 1.0093 - acc: 0.7655 - match1: 0.9864 - match2: 0.2980 - match3: 0.3924 - match4: 0.8066 - val_loss: 1.0061 - val_acc: 0.7709 - val_match1: 0.9859 - val_match2: 0.3061 - val_match3: 0.3968 - val_match4: 0.8031\n",
      "Epoch 24/50\n",
      "2726/2727 [============================>.] - ETA: 0s - loss: 1.0089 - acc: 0.7653 - match1: 0.9861 - match2: 0.2997 - match3: 0.3918 - match4: 0.8064\n",
      "Epoch 24: val_acc did not improve from 0.77130\n",
      "INFO:tensorflow:Assets written to: /home/nochesita95/wandb/run-20220926_011548-3ace3vbc/files/model-best/assets\n"
     ]
    },
    {
     "name": "stderr",
     "output_type": "stream",
     "text": [
      "wandb: Adding directory to artifact (/home/nochesita95/wandb/run-20220926_011548-3ace3vbc/files/model-best)... Done. 0.0s\n"
     ]
    },
    {
     "name": "stdout",
     "output_type": "stream",
     "text": [
      "2727/2727 [==============================] - 203s 75ms/step - loss: 1.0089 - acc: 0.7653 - match1: 0.9861 - match2: 0.2997 - match3: 0.3918 - match4: 0.8064 - val_loss: 1.0043 - val_acc: 0.7713 - val_match1: 0.9862 - val_match2: 0.2984 - val_match3: 0.3947 - val_match4: 0.8012\n",
      "Epoch 25/50\n",
      "2726/2727 [============================>.] - ETA: 0s - loss: 1.0087 - acc: 0.7653 - match1: 0.9865 - match2: 0.2990 - match3: 0.3927 - match4: 0.8067\n",
      "Epoch 25: val_acc improved from 0.77130 to 0.77166, saving model to best_model.h5\n",
      "2727/2727 [==============================] - 203s 74ms/step - loss: 1.0087 - acc: 0.7654 - match1: 0.9865 - match2: 0.2990 - match3: 0.3926 - match4: 0.8067 - val_loss: 1.0081 - val_acc: 0.7717 - val_match1: 0.9875 - val_match2: 0.2766 - val_match3: 0.3777 - val_match4: 0.7910\n",
      "Epoch 26/50\n",
      "2726/2727 [============================>.] - ETA: 0s - loss: 1.0084 - acc: 0.7654 - match1: 0.9865 - match2: 0.2997 - match3: 0.3926 - match4: 0.8066\n",
      "Epoch 26: val_acc did not improve from 0.77166\n",
      "2727/2727 [==============================] - 202s 74ms/step - loss: 1.0084 - acc: 0.7655 - match1: 0.9865 - match2: 0.2996 - match3: 0.3925 - match4: 0.8066 - val_loss: 1.0044 - val_acc: 0.7713 - val_match1: 0.9864 - val_match2: 0.3006 - val_match3: 0.3948 - val_match4: 0.8007\n",
      "Epoch 27/50\n",
      "2726/2727 [============================>.] - ETA: 0s - loss: 1.0082 - acc: 0.7653 - match1: 0.9866 - match2: 0.2993 - match3: 0.3922 - match4: 0.8068\n",
      "Epoch 27: val_acc did not improve from 0.77166\n",
      "2727/2727 [==============================] - 202s 74ms/step - loss: 1.0082 - acc: 0.7653 - match1: 0.9866 - match2: 0.2993 - match3: 0.3922 - match4: 0.8069 - val_loss: 1.0049 - val_acc: 0.7710 - val_match1: 0.9866 - val_match2: 0.2936 - val_match3: 0.3869 - val_match4: 0.7990\n",
      "Epoch 28/50\n",
      "2726/2727 [============================>.] - ETA: 0s - loss: 1.0079 - acc: 0.7654 - match1: 0.9865 - match2: 0.3001 - match3: 0.3927 - match4: 0.8073\n",
      "Epoch 28: val_acc did not improve from 0.77166\n",
      "2727/2727 [==============================] - 202s 74ms/step - loss: 1.0079 - acc: 0.7654 - match1: 0.9865 - match2: 0.3001 - match3: 0.3928 - match4: 0.8073 - val_loss: 1.0065 - val_acc: 0.7708 - val_match1: 0.9862 - val_match2: 0.3027 - val_match3: 0.3978 - val_match4: 0.8050\n",
      "Epoch 29/50\n",
      "2726/2727 [============================>.] - ETA: 0s - loss: 1.0076 - acc: 0.7653 - match1: 0.9864 - match2: 0.3004 - match3: 0.3931 - match4: 0.8065\n",
      "Epoch 29: val_acc did not improve from 0.77166\n",
      "INFO:tensorflow:Assets written to: /home/nochesita95/wandb/run-20220926_011548-3ace3vbc/files/model-best/assets\n"
     ]
    },
    {
     "name": "stderr",
     "output_type": "stream",
     "text": [
      "wandb: Adding directory to artifact (/home/nochesita95/wandb/run-20220926_011548-3ace3vbc/files/model-best)... Done. 0.0s\n"
     ]
    },
    {
     "name": "stdout",
     "output_type": "stream",
     "text": [
      "2727/2727 [==============================] - 203s 75ms/step - loss: 1.0076 - acc: 0.7653 - match1: 0.9864 - match2: 0.3004 - match3: 0.3932 - match4: 0.8065 - val_loss: 1.0036 - val_acc: 0.7715 - val_match1: 0.9868 - val_match2: 0.2889 - val_match3: 0.3944 - val_match4: 0.8010\n",
      "Epoch 30/50\n",
      "2726/2727 [============================>.] - ETA: 0s - loss: 1.0076 - acc: 0.7654 - match1: 0.9865 - match2: 0.3002 - match3: 0.3933 - match4: 0.8073\n",
      "Epoch 30: val_acc did not improve from 0.77166\n",
      "2727/2727 [==============================] - 203s 74ms/step - loss: 1.0076 - acc: 0.7654 - match1: 0.9865 - match2: 0.3001 - match3: 0.3932 - match4: 0.8071 - val_loss: 1.0057 - val_acc: 0.7714 - val_match1: 0.9861 - val_match2: 0.3055 - val_match3: 0.3982 - val_match4: 0.8041\n",
      "Epoch 31/50\n",
      "2726/2727 [============================>.] - ETA: 0s - loss: 1.0074 - acc: 0.7653 - match1: 0.9863 - match2: 0.2998 - match3: 0.3930 - match4: 0.8068\n",
      "Epoch 31: val_acc did not improve from 0.77166\n",
      "2727/2727 [==============================] - 202s 74ms/step - loss: 1.0074 - acc: 0.7654 - match1: 0.9863 - match2: 0.2997 - match3: 0.3929 - match4: 0.8067 - val_loss: 1.0036 - val_acc: 0.7713 - val_match1: 0.9864 - val_match2: 0.3008 - val_match3: 0.3970 - val_match4: 0.8020\n",
      "Epoch 32/50\n",
      "2726/2727 [============================>.] - ETA: 0s - loss: 1.0072 - acc: 0.7653 - match1: 0.9863 - match2: 0.2995 - match3: 0.3933 - match4: 0.8073\n",
      "Epoch 32: val_acc improved from 0.77166 to 0.77176, saving model to best_model.h5\n",
      "INFO:tensorflow:Assets written to: /home/nochesita95/wandb/run-20220926_011548-3ace3vbc/files/model-best/assets\n"
     ]
    },
    {
     "name": "stderr",
     "output_type": "stream",
     "text": [
      "wandb: Adding directory to artifact (/home/nochesita95/wandb/run-20220926_011548-3ace3vbc/files/model-best)... Done. 0.0s\n"
     ]
    },
    {
     "name": "stdout",
     "output_type": "stream",
     "text": [
      "2727/2727 [==============================] - 203s 75ms/step - loss: 1.0071 - acc: 0.7654 - match1: 0.9863 - match2: 0.2996 - match3: 0.3932 - match4: 0.8073 - val_loss: 1.0036 - val_acc: 0.7718 - val_match1: 0.9857 - val_match2: 0.3129 - val_match3: 0.3956 - val_match4: 0.8039\n",
      "Epoch 33/50\n",
      "2726/2727 [============================>.] - ETA: 0s - loss: 1.0070 - acc: 0.7655 - match1: 0.9863 - match2: 0.2996 - match3: 0.3936 - match4: 0.8074\n",
      "Epoch 33: val_acc did not improve from 0.77176\n",
      "2727/2727 [==============================] - 203s 74ms/step - loss: 1.0070 - acc: 0.7655 - match1: 0.9864 - match2: 0.2996 - match3: 0.3936 - match4: 0.8074 - val_loss: 1.0054 - val_acc: 0.7713 - val_match1: 0.9861 - val_match2: 0.3052 - val_match3: 0.3976 - val_match4: 0.8074\n",
      "Epoch 34/50\n",
      "2726/2727 [============================>.] - ETA: 0s - loss: 1.0066 - acc: 0.7656 - match1: 0.9866 - match2: 0.3007 - match3: 0.3945 - match4: 0.8070\n",
      "Epoch 34: val_acc did not improve from 0.77176\n",
      "2727/2727 [==============================] - 204s 75ms/step - loss: 1.0066 - acc: 0.7656 - match1: 0.9866 - match2: 0.3008 - match3: 0.3946 - match4: 0.8069 - val_loss: 1.0065 - val_acc: 0.7713 - val_match1: 0.9858 - val_match2: 0.3128 - val_match3: 0.3989 - val_match4: 0.8062\n",
      "Epoch 35/50\n",
      "2726/2727 [============================>.] - ETA: 0s - loss: 1.0065 - acc: 0.7654 - match1: 0.9865 - match2: 0.3009 - match3: 0.3944 - match4: 0.8074\n",
      "Epoch 35: val_acc did not improve from 0.77176\n",
      "2727/2727 [==============================] - 202s 74ms/step - loss: 1.0065 - acc: 0.7654 - match1: 0.9864 - match2: 0.3009 - match3: 0.3943 - match4: 0.8073 - val_loss: 1.0039 - val_acc: 0.7716 - val_match1: 0.9865 - val_match2: 0.3060 - val_match3: 0.4001 - val_match4: 0.8046\n",
      "Epoch 36/50\n",
      "2726/2727 [============================>.] - ETA: 0s - loss: 1.0064 - acc: 0.7657 - match1: 0.9867 - match2: 0.3005 - match3: 0.3943 - match4: 0.8082\n",
      "Epoch 36: val_acc did not improve from 0.77176\n",
      "INFO:tensorflow:Assets written to: /home/nochesita95/wandb/run-20220926_011548-3ace3vbc/files/model-best/assets\n"
     ]
    },
    {
     "name": "stderr",
     "output_type": "stream",
     "text": [
      "wandb: Adding directory to artifact (/home/nochesita95/wandb/run-20220926_011548-3ace3vbc/files/model-best)... Done. 0.0s\n"
     ]
    },
    {
     "name": "stdout",
     "output_type": "stream",
     "text": [
      "2727/2727 [==============================] - 203s 74ms/step - loss: 1.0064 - acc: 0.7657 - match1: 0.9867 - match2: 0.3004 - match3: 0.3943 - match4: 0.8081 - val_loss: 1.0023 - val_acc: 0.7716 - val_match1: 0.9871 - val_match2: 0.2885 - val_match3: 0.3907 - val_match4: 0.7981\n",
      "Epoch 37/50\n",
      "2726/2727 [============================>.] - ETA: 0s - loss: 1.0062 - acc: 0.7657 - match1: 0.9865 - match2: 0.3007 - match3: 0.3941 - match4: 0.8071\n",
      "Epoch 37: val_acc did not improve from 0.77176\n",
      "2727/2727 [==============================] - 202s 74ms/step - loss: 1.0062 - acc: 0.7657 - match1: 0.9865 - match2: 0.3007 - match3: 0.3941 - match4: 0.8071 - val_loss: 1.0079 - val_acc: 0.7712 - val_match1: 0.9866 - val_match2: 0.3050 - val_match3: 0.3926 - val_match4: 0.8035\n",
      "Epoch 38/50\n",
      "2726/2727 [============================>.] - ETA: 0s - loss: 1.0060 - acc: 0.7655 - match1: 0.9866 - match2: 0.3009 - match3: 0.3939 - match4: 0.8075\n",
      "Epoch 38: val_acc did not improve from 0.77176\n",
      "2727/2727 [==============================] - 202s 74ms/step - loss: 1.0060 - acc: 0.7655 - match1: 0.9866 - match2: 0.3008 - match3: 0.3938 - match4: 0.8075 - val_loss: 1.0038 - val_acc: 0.7713 - val_match1: 0.9857 - val_match2: 0.3129 - val_match3: 0.3999 - val_match4: 0.8060\n",
      "Epoch 39/50\n",
      "2726/2727 [============================>.] - ETA: 0s - loss: 1.0057 - acc: 0.7655 - match1: 0.9864 - match2: 0.3016 - match3: 0.3943 - match4: 0.8077\n",
      "Epoch 39: val_acc did not improve from 0.77176\n",
      "2727/2727 [==============================] - 203s 74ms/step - loss: 1.0057 - acc: 0.7655 - match1: 0.9864 - match2: 0.3015 - match3: 0.3944 - match4: 0.8077 - val_loss: 1.0035 - val_acc: 0.7717 - val_match1: 0.9872 - val_match2: 0.2858 - val_match3: 0.3890 - val_match4: 0.7978\n",
      "Epoch 40/50\n",
      "2726/2727 [============================>.] - ETA: 0s - loss: 1.0056 - acc: 0.7657 - match1: 0.9865 - match2: 0.3013 - match3: 0.3949 - match4: 0.8078\n",
      "Epoch 40: val_acc did not improve from 0.77176\n",
      "INFO:tensorflow:Assets written to: /home/nochesita95/wandb/run-20220926_011548-3ace3vbc/files/model-best/assets\n"
     ]
    },
    {
     "name": "stderr",
     "output_type": "stream",
     "text": [
      "wandb: Adding directory to artifact (/home/nochesita95/wandb/run-20220926_011548-3ace3vbc/files/model-best)... Done. 0.0s\n"
     ]
    },
    {
     "name": "stdout",
     "output_type": "stream",
     "text": [
      "2727/2727 [==============================] - 203s 74ms/step - loss: 1.0056 - acc: 0.7656 - match1: 0.9865 - match2: 0.3014 - match3: 0.3950 - match4: 0.8078 - val_loss: 1.0020 - val_acc: 0.7717 - val_match1: 0.9865 - val_match2: 0.2998 - val_match3: 0.3951 - val_match4: 0.8038\n",
      "Epoch 41/50\n",
      "2726/2727 [============================>.] - ETA: 0s - loss: 1.0055 - acc: 0.7656 - match1: 0.9867 - match2: 0.3016 - match3: 0.3948 - match4: 0.8079\n",
      "Epoch 41: val_acc did not improve from 0.77176\n",
      "INFO:tensorflow:Assets written to: /home/nochesita95/wandb/run-20220926_011548-3ace3vbc/files/model-best/assets\n"
     ]
    },
    {
     "name": "stderr",
     "output_type": "stream",
     "text": [
      "wandb: Adding directory to artifact (/home/nochesita95/wandb/run-20220926_011548-3ace3vbc/files/model-best)... Done. 0.0s\n"
     ]
    },
    {
     "name": "stdout",
     "output_type": "stream",
     "text": [
      "2727/2727 [==============================] - 203s 75ms/step - loss: 1.0055 - acc: 0.7657 - match1: 0.9867 - match2: 0.3016 - match3: 0.3948 - match4: 0.8078 - val_loss: 1.0017 - val_acc: 0.7716 - val_match1: 0.9867 - val_match2: 0.2995 - val_match3: 0.3964 - val_match4: 0.8021\n",
      "Epoch 42/50\n",
      "2726/2727 [============================>.] - ETA: 0s - loss: 1.0054 - acc: 0.7655 - match1: 0.9867 - match2: 0.3019 - match3: 0.3942 - match4: 0.8077\n",
      "Epoch 42: val_acc improved from 0.77176 to 0.77185, saving model to best_model.h5\n",
      "2727/2727 [==============================] - 203s 75ms/step - loss: 1.0054 - acc: 0.7655 - match1: 0.9867 - match2: 0.3019 - match3: 0.3942 - match4: 0.8077 - val_loss: 1.0034 - val_acc: 0.7718 - val_match1: 0.9874 - val_match2: 0.2816 - val_match3: 0.3818 - val_match4: 0.7990\n",
      "Epoch 43/50\n",
      "2726/2727 [============================>.] - ETA: 0s - loss: 1.0052 - acc: 0.7659 - match1: 0.9865 - match2: 0.3027 - match3: 0.3952 - match4: 0.8077\n",
      "Epoch 43: val_acc did not improve from 0.77185\n",
      "INFO:tensorflow:Assets written to: /home/nochesita95/wandb/run-20220926_011548-3ace3vbc/files/model-best/assets\n"
     ]
    },
    {
     "name": "stderr",
     "output_type": "stream",
     "text": [
      "wandb: Adding directory to artifact (/home/nochesita95/wandb/run-20220926_011548-3ace3vbc/files/model-best)... Done. 0.0s\n"
     ]
    },
    {
     "name": "stdout",
     "output_type": "stream",
     "text": [
      "2727/2727 [==============================] - 204s 75ms/step - loss: 1.0052 - acc: 0.7659 - match1: 0.9865 - match2: 0.3028 - match3: 0.3952 - match4: 0.8078 - val_loss: 1.0011 - val_acc: 0.7718 - val_match1: 0.9868 - val_match2: 0.2929 - val_match3: 0.3947 - val_match4: 0.8000\n",
      "Epoch 44/50\n",
      "2726/2727 [============================>.] - ETA: 0s - loss: 1.0048 - acc: 0.7658 - match1: 0.9866 - match2: 0.3022 - match3: 0.3953 - match4: 0.8075\n",
      "Epoch 44: val_acc did not improve from 0.77185\n",
      "INFO:tensorflow:Assets written to: /home/nochesita95/wandb/run-20220926_011548-3ace3vbc/files/model-best/assets\n"
     ]
    },
    {
     "name": "stderr",
     "output_type": "stream",
     "text": [
      "wandb: Adding directory to artifact (/home/nochesita95/wandb/run-20220926_011548-3ace3vbc/files/model-best)... Done. 0.0s\n"
     ]
    },
    {
     "name": "stdout",
     "output_type": "stream",
     "text": [
      "2727/2727 [==============================] - 203s 75ms/step - loss: 1.0048 - acc: 0.7658 - match1: 0.9866 - match2: 0.3022 - match3: 0.3954 - match4: 0.8076 - val_loss: 1.0009 - val_acc: 0.7718 - val_match1: 0.9867 - val_match2: 0.3001 - val_match3: 0.3972 - val_match4: 0.8024\n",
      "Epoch 45/50\n",
      "2726/2727 [============================>.] - ETA: 0s - loss: 1.0049 - acc: 0.7657 - match1: 0.9866 - match2: 0.3030 - match3: 0.3955 - match4: 0.8081\n",
      "Epoch 45: val_acc did not improve from 0.77185\n",
      "2727/2727 [==============================] - 203s 74ms/step - loss: 1.0049 - acc: 0.7657 - match1: 0.9866 - match2: 0.3032 - match3: 0.3954 - match4: 0.8082 - val_loss: 1.0037 - val_acc: 0.7717 - val_match1: 0.9872 - val_match2: 0.2861 - val_match3: 0.3942 - val_match4: 0.8004\n",
      "Epoch 46/50\n",
      "2726/2727 [============================>.] - ETA: 0s - loss: 1.0046 - acc: 0.7656 - match1: 0.9864 - match2: 0.3014 - match3: 0.3951 - match4: 0.8079\n",
      "Epoch 46: val_acc improved from 0.77185 to 0.77189, saving model to best_model.h5\n",
      "2727/2727 [==============================] - 203s 74ms/step - loss: 1.0046 - acc: 0.7657 - match1: 0.9864 - match2: 0.3015 - match3: 0.3951 - match4: 0.8078 - val_loss: 1.0014 - val_acc: 0.7719 - val_match1: 0.9864 - val_match2: 0.3006 - val_match3: 0.3989 - val_match4: 0.8037\n",
      "Epoch 47/50\n",
      "2726/2727 [============================>.] - ETA: 0s - loss: 1.0046 - acc: 0.7660 - match1: 0.9867 - match2: 0.3021 - match3: 0.3952 - match4: 0.8081\n",
      "Epoch 47: val_acc did not improve from 0.77189\n",
      "2727/2727 [==============================] - 203s 74ms/step - loss: 1.0046 - acc: 0.7660 - match1: 0.9867 - match2: 0.3021 - match3: 0.3952 - match4: 0.8081 - val_loss: 1.0019 - val_acc: 0.7718 - val_match1: 0.9862 - val_match2: 0.3105 - val_match3: 0.3989 - val_match4: 0.8051\n",
      "Epoch 48/50\n",
      "2726/2727 [============================>.] - ETA: 0s - loss: 1.0043 - acc: 0.7658 - match1: 0.9866 - match2: 0.3023 - match3: 0.3961 - match4: 0.8090\n",
      "Epoch 48: val_acc did not improve from 0.77189\n",
      "2727/2727 [==============================] - 203s 74ms/step - loss: 1.0043 - acc: 0.7658 - match1: 0.9866 - match2: 0.3023 - match3: 0.3961 - match4: 0.8090 - val_loss: 1.0026 - val_acc: 0.7715 - val_match1: 0.9859 - val_match2: 0.3139 - val_match3: 0.4000 - val_match4: 0.8048\n",
      "Epoch 49/50\n",
      "2726/2727 [============================>.] - ETA: 0s - loss: 1.0043 - acc: 0.7659 - match1: 0.9866 - match2: 0.3026 - match3: 0.3957 - match4: 0.8083\n",
      "Epoch 49: val_acc did not improve from 0.77189\n",
      "INFO:tensorflow:Assets written to: /home/nochesita95/wandb/run-20220926_011548-3ace3vbc/files/model-best/assets\n"
     ]
    },
    {
     "name": "stderr",
     "output_type": "stream",
     "text": [
      "wandb: Adding directory to artifact (/home/nochesita95/wandb/run-20220926_011548-3ace3vbc/files/model-best)... Done. 0.0s\n"
     ]
    },
    {
     "name": "stdout",
     "output_type": "stream",
     "text": [
      "2727/2727 [==============================] - 203s 75ms/step - loss: 1.0043 - acc: 0.7659 - match1: 0.9866 - match2: 0.3026 - match3: 0.3957 - match4: 0.8083 - val_loss: 1.0006 - val_acc: 0.7717 - val_match1: 0.9862 - val_match2: 0.3103 - val_match3: 0.3995 - val_match4: 0.8042\n",
      "Epoch 50/50\n",
      "2726/2727 [============================>.] - ETA: 0s - loss: 1.0042 - acc: 0.7659 - match1: 0.9869 - match2: 0.3035 - match3: 0.3958 - match4: 0.8079\n",
      "Epoch 50: val_acc did not improve from 0.77189\n",
      "2727/2727 [==============================] - 203s 74ms/step - loss: 1.0041 - acc: 0.7659 - match1: 0.9869 - match2: 0.3036 - match3: 0.3959 - match4: 0.8079 - val_loss: 1.0022 - val_acc: 0.7714 - val_match1: 0.9861 - val_match2: 0.3146 - val_match3: 0.3985 - val_match4: 0.8053\n"
     ]
    }
   ],
   "source": [
    "# import tensorflow_addons as tfa\n",
    "# metric = tfa.metrics.r_square.RSquare()\n",
    "# tf.keras.metrics.RootMeanSquaredError()\n",
    "\n",
    "model.compile(optimizer='adam', loss='categorical_crossentropy', metrics=['acc',match1, match2, match3, match4])\n",
    "# model.compile(optimizer='adam', loss='mean_squared_error', metrics=['acc', match1, match2, match3, match4])\n",
    "# history = model.fit(x_train, y_train, epochs=epoch, validation_data=(x_test, y_test), callbacks=[es, mc, WandbCallback()])\n",
    "history = model.fit(x_train, y_train, epochs=epoch, validation_data=(x_test, y_test), callbacks=[es, mc, WandbCallback()])\n",
    "\n"
   ]
  },
  {
   "cell_type": "markdown",
   "metadata": {
    "id": "-UeI_2OEtXkL"
   },
   "source": [
    "## 평가"
   ]
  },
  {
   "cell_type": "code",
   "execution_count": 83,
   "metadata": {
    "colab": {
     "base_uri": "https://localhost:8080/"
    },
    "id": "f0p1vTmItcpB",
    "outputId": "d6dfe210-35bc-4a2b-a119-05a48b93178d"
   },
   "outputs": [
    {
     "name": "stdout",
     "output_type": "stream",
     "text": [
      "682/682 - 50s - loss: 1.0713 - acc: 0.7703 - match1: 0.9863 - match2: 0.2269 - match3: 0.3534 - match4: 0.7763 - 50s/epoch - 73ms/step\n",
      "test_loss: 1.0713202953338623 \n",
      "test_acc: 0.776260495185852\n",
      "test_match1: 0.77028888463974\n",
      "test_match2: 0.9863095283508301\n",
      "test_match3: 0.22686535120010376\n",
      "test_match4: 0.35344868898391724\n"
     ]
    }
   ],
   "source": [
    "# 평가\n",
    "test_loss, match4, match1, match2, match3, test_acc = model.evaluate(x_test, y_test, verbose=2)\n",
    "print(\"test_loss: {} \".format(test_loss))\n",
    "print(\"test_acc: {}\".format(test_acc))\n",
    "print(\"test_match1: {}\".format(match1))\n",
    "print(\"test_match2: {}\".format(match2))\n",
    "print(\"test_match3: {}\".format(match3))\n",
    "print(\"test_match4: {}\".format(match4))"
   ]
  },
  {
   "cell_type": "code",
   "execution_count": 90,
   "metadata": {},
   "outputs": [
    {
     "name": "stdout",
     "output_type": "stream",
     "text": [
      "3408/3408 [==============================] - 3s 998us/step\n",
      "file has saved.\n"
     ]
    }
   ],
   "source": [
    "inf_data = train_data\n",
    "\n",
    "# 인퍼런스용 데이터셋\n",
    "def inf_mel(model, data):\n",
    "    temp_result = model.predict(data)\n",
    "    np.save('dim512_inf', temp_result)\n",
    "    print('file has saved.')\n",
    "\n",
    "inf_mel(model, inf_data)"
   ]
  },
  {
   "cell_type": "code",
   "execution_count": 91,
   "metadata": {},
   "outputs": [
    {
     "data": {
      "text/plain": [
       "array([[0.09690215, 0.01703895, 0.04080429, 0.77372783, 0.02106589,\n",
       "        0.05046088],\n",
       "       [0.10069682, 0.02590643, 0.07402409, 0.7130443 , 0.02185237,\n",
       "        0.06447601],\n",
       "       [0.05976965, 0.00968204, 0.09559699, 0.8094395 , 0.00977854,\n",
       "        0.01573324],\n",
       "       [0.06527718, 0.01209964, 0.08108936, 0.80754834, 0.01226337,\n",
       "        0.0217221 ],\n",
       "       [0.12432417, 0.04683331, 0.04042078, 0.5997846 , 0.04137602,\n",
       "        0.14726111]], dtype=float32)"
      ]
     },
     "execution_count": 91,
     "metadata": {},
     "output_type": "execute_result"
    }
   ],
   "source": [
    "inf_dim512 = np.load('dim512_inf.npy')\n",
    "inf_dim512[:5]"
   ]
  },
  {
   "cell_type": "code",
   "execution_count": 92,
   "metadata": {},
   "outputs": [],
   "source": [
    "inf_dim512 = pd.DataFrame(inf_dim512)\n",
    "inf_dim512.to_csv('din512_inf.tsv', sep='\\t', encoding='utf-8', index=False)"
   ]
  },
  {
   "cell_type": "code",
   "execution_count": 94,
   "metadata": {},
   "outputs": [
    {
     "data": {
      "text/html": [
       "<div>\n",
       "<style scoped>\n",
       "    .dataframe tbody tr th:only-of-type {\n",
       "        vertical-align: middle;\n",
       "    }\n",
       "\n",
       "    .dataframe tbody tr th {\n",
       "        vertical-align: top;\n",
       "    }\n",
       "\n",
       "    .dataframe thead th {\n",
       "        text-align: right;\n",
       "    }\n",
       "</style>\n",
       "<table border=\"1\" class=\"dataframe\">\n",
       "  <thead>\n",
       "    <tr style=\"text-align: right;\">\n",
       "      <th></th>\n",
       "      <th>0</th>\n",
       "      <th>1</th>\n",
       "      <th>2</th>\n",
       "      <th>3</th>\n",
       "      <th>4</th>\n",
       "      <th>5</th>\n",
       "    </tr>\n",
       "  </thead>\n",
       "  <tbody>\n",
       "    <tr>\n",
       "      <th>0</th>\n",
       "      <td>0.096902</td>\n",
       "      <td>0.017039</td>\n",
       "      <td>0.040804</td>\n",
       "      <td>0.773728</td>\n",
       "      <td>0.021066</td>\n",
       "      <td>0.050461</td>\n",
       "    </tr>\n",
       "    <tr>\n",
       "      <th>1</th>\n",
       "      <td>0.100697</td>\n",
       "      <td>0.025906</td>\n",
       "      <td>0.074024</td>\n",
       "      <td>0.713044</td>\n",
       "      <td>0.021852</td>\n",
       "      <td>0.064476</td>\n",
       "    </tr>\n",
       "    <tr>\n",
       "      <th>2</th>\n",
       "      <td>0.059770</td>\n",
       "      <td>0.009682</td>\n",
       "      <td>0.095597</td>\n",
       "      <td>0.809439</td>\n",
       "      <td>0.009779</td>\n",
       "      <td>0.015733</td>\n",
       "    </tr>\n",
       "    <tr>\n",
       "      <th>3</th>\n",
       "      <td>0.065277</td>\n",
       "      <td>0.012100</td>\n",
       "      <td>0.081089</td>\n",
       "      <td>0.807548</td>\n",
       "      <td>0.012263</td>\n",
       "      <td>0.021722</td>\n",
       "    </tr>\n",
       "    <tr>\n",
       "      <th>4</th>\n",
       "      <td>0.124324</td>\n",
       "      <td>0.046833</td>\n",
       "      <td>0.040421</td>\n",
       "      <td>0.599785</td>\n",
       "      <td>0.041376</td>\n",
       "      <td>0.147261</td>\n",
       "    </tr>\n",
       "  </tbody>\n",
       "</table>\n",
       "</div>"
      ],
      "text/plain": [
       "          0         1         2         3         4         5\n",
       "0  0.096902  0.017039  0.040804  0.773728  0.021066  0.050461\n",
       "1  0.100697  0.025906  0.074024  0.713044  0.021852  0.064476\n",
       "2  0.059770  0.009682  0.095597  0.809439  0.009779  0.015733\n",
       "3  0.065277  0.012100  0.081089  0.807548  0.012263  0.021722\n",
       "4  0.124324  0.046833  0.040421  0.599785  0.041376  0.147261"
      ]
     },
     "execution_count": 94,
     "metadata": {},
     "output_type": "execute_result"
    }
   ],
   "source": [
    "temp222 = pd.read_csv('din512_inf.tsv', sep='\\t')\n",
    "temp222.head()"
   ]
  },
  {
   "cell_type": "code",
   "execution_count": 40,
   "metadata": {},
   "outputs": [
    {
     "data": {
      "text/html": [
       "<div>\n",
       "<style scoped>\n",
       "    .dataframe tbody tr th:only-of-type {\n",
       "        vertical-align: middle;\n",
       "    }\n",
       "\n",
       "    .dataframe tbody tr th {\n",
       "        vertical-align: top;\n",
       "    }\n",
       "\n",
       "    .dataframe thead th {\n",
       "        text-align: right;\n",
       "    }\n",
       "</style>\n",
       "<table border=\"1\" class=\"dataframe\">\n",
       "  <thead>\n",
       "    <tr style=\"text-align: right;\">\n",
       "      <th></th>\n",
       "      <th>cat1</th>\n",
       "      <th>cat2</th>\n",
       "      <th>cat3</th>\n",
       "      <th>cat4</th>\n",
       "      <th>cat5</th>\n",
       "      <th>cat6</th>\n",
       "    </tr>\n",
       "  </thead>\n",
       "  <tbody>\n",
       "    <tr>\n",
       "      <th>0</th>\n",
       "      <td>0.083862</td>\n",
       "      <td>0.034479</td>\n",
       "      <td>0.026788</td>\n",
       "      <td>0.748910</td>\n",
       "      <td>0.027604</td>\n",
       "      <td>0.078358</td>\n",
       "    </tr>\n",
       "    <tr>\n",
       "      <th>1</th>\n",
       "      <td>0.042663</td>\n",
       "      <td>0.043163</td>\n",
       "      <td>0.009062</td>\n",
       "      <td>0.767415</td>\n",
       "      <td>0.051414</td>\n",
       "      <td>0.086285</td>\n",
       "    </tr>\n",
       "    <tr>\n",
       "      <th>2</th>\n",
       "      <td>0.183374</td>\n",
       "      <td>0.005770</td>\n",
       "      <td>0.235337</td>\n",
       "      <td>0.551223</td>\n",
       "      <td>0.013165</td>\n",
       "      <td>0.011131</td>\n",
       "    </tr>\n",
       "    <tr>\n",
       "      <th>3</th>\n",
       "      <td>0.002565</td>\n",
       "      <td>0.006234</td>\n",
       "      <td>0.008222</td>\n",
       "      <td>0.973222</td>\n",
       "      <td>0.006509</td>\n",
       "      <td>0.003247</td>\n",
       "    </tr>\n",
       "    <tr>\n",
       "      <th>4</th>\n",
       "      <td>0.016899</td>\n",
       "      <td>0.152607</td>\n",
       "      <td>0.008368</td>\n",
       "      <td>0.773301</td>\n",
       "      <td>0.023471</td>\n",
       "      <td>0.025355</td>\n",
       "    </tr>\n",
       "  </tbody>\n",
       "</table>\n",
       "</div>"
      ],
      "text/plain": [
       "       cat1      cat2      cat3      cat4      cat5      cat6\n",
       "0  0.083862  0.034479  0.026788  0.748910  0.027604  0.078358\n",
       "1  0.042663  0.043163  0.009062  0.767415  0.051414  0.086285\n",
       "2  0.183374  0.005770  0.235337  0.551223  0.013165  0.011131\n",
       "3  0.002565  0.006234  0.008222  0.973222  0.006509  0.003247\n",
       "4  0.016899  0.152607  0.008368  0.773301  0.023471  0.025355"
      ]
     },
     "execution_count": 40,
     "metadata": {},
     "output_type": "execute_result"
    }
   ],
   "source": [
    "test_data.head()"
   ]
  },
  {
   "cell_type": "code",
   "execution_count": 42,
   "metadata": {},
   "outputs": [
    {
     "data": {
      "text/plain": [
       "3"
      ]
     },
     "execution_count": 42,
     "metadata": {},
     "output_type": "execute_result"
    }
   ],
   "source": [
    "np.argmax(test_data.iloc[0])"
   ]
  },
  {
   "cell_type": "code",
   "execution_count": 95,
   "metadata": {},
   "outputs": [
    {
     "data": {
      "text/plain": [
       "['슬픔', '슬픔', '슬픔', '슬픔', '슬픔']"
      ]
     },
     "execution_count": 95,
     "metadata": {},
     "output_type": "execute_result"
    }
   ],
   "source": [
    "dim512_categories = []\n",
    "\n",
    "for i in range(len(temp222)):\n",
    "    temp_cat = np.argmax(temp222.iloc[i])\n",
    "    if temp_cat == 0: dim512_categories.append('기쁨')\n",
    "    elif temp_cat == 1: dim512_categories.append('긴장')\n",
    "    elif temp_cat == 2: dim512_categories.append('평화')\n",
    "    elif temp_cat == 3: dim512_categories.append('슬픔')\n",
    "    elif temp_cat == 4: dim512_categories.append('분노')\n",
    "    else: dim512_categories.append('중립')\n",
    "\n",
    "dim512_categories[:5]"
   ]
  },
  {
   "cell_type": "code",
   "execution_count": 96,
   "metadata": {},
   "outputs": [
    {
     "data": {
      "text/html": [
       "<div>\n",
       "<style scoped>\n",
       "    .dataframe tbody tr th:only-of-type {\n",
       "        vertical-align: middle;\n",
       "    }\n",
       "\n",
       "    .dataframe tbody tr th {\n",
       "        vertical-align: top;\n",
       "    }\n",
       "\n",
       "    .dataframe thead th {\n",
       "        text-align: right;\n",
       "    }\n",
       "</style>\n",
       "<table border=\"1\" class=\"dataframe\">\n",
       "  <thead>\n",
       "    <tr style=\"text-align: right;\">\n",
       "      <th></th>\n",
       "      <th>0</th>\n",
       "    </tr>\n",
       "  </thead>\n",
       "  <tbody>\n",
       "    <tr>\n",
       "      <th>0</th>\n",
       "      <td>슬픔</td>\n",
       "    </tr>\n",
       "    <tr>\n",
       "      <th>1</th>\n",
       "      <td>슬픔</td>\n",
       "    </tr>\n",
       "    <tr>\n",
       "      <th>2</th>\n",
       "      <td>슬픔</td>\n",
       "    </tr>\n",
       "    <tr>\n",
       "      <th>3</th>\n",
       "      <td>슬픔</td>\n",
       "    </tr>\n",
       "    <tr>\n",
       "      <th>4</th>\n",
       "      <td>슬픔</td>\n",
       "    </tr>\n",
       "  </tbody>\n",
       "</table>\n",
       "</div>"
      ],
      "text/plain": [
       "    0\n",
       "0  슬픔\n",
       "1  슬픔\n",
       "2  슬픔\n",
       "3  슬픔\n",
       "4  슬픔"
      ]
     },
     "execution_count": 96,
     "metadata": {},
     "output_type": "execute_result"
    }
   ],
   "source": [
    "dim512_cats = pd.DataFrame(dim512_categories)\n",
    "dim512_cats.head()"
   ]
  },
  {
   "cell_type": "code",
   "execution_count": 97,
   "metadata": {},
   "outputs": [
    {
     "data": {
      "text/html": [
       "<div>\n",
       "<style scoped>\n",
       "    .dataframe tbody tr th:only-of-type {\n",
       "        vertical-align: middle;\n",
       "    }\n",
       "\n",
       "    .dataframe tbody tr th {\n",
       "        vertical-align: top;\n",
       "    }\n",
       "\n",
       "    .dataframe thead th {\n",
       "        text-align: right;\n",
       "    }\n",
       "</style>\n",
       "<table border=\"1\" class=\"dataframe\">\n",
       "  <thead>\n",
       "    <tr style=\"text-align: right;\">\n",
       "      <th></th>\n",
       "      <th>0</th>\n",
       "    </tr>\n",
       "  </thead>\n",
       "  <tbody>\n",
       "    <tr>\n",
       "      <th>0</th>\n",
       "      <td>슬픔</td>\n",
       "    </tr>\n",
       "    <tr>\n",
       "      <th>1</th>\n",
       "      <td>슬픔</td>\n",
       "    </tr>\n",
       "    <tr>\n",
       "      <th>2</th>\n",
       "      <td>슬픔</td>\n",
       "    </tr>\n",
       "    <tr>\n",
       "      <th>3</th>\n",
       "      <td>슬픔</td>\n",
       "    </tr>\n",
       "    <tr>\n",
       "      <th>4</th>\n",
       "      <td>슬픔</td>\n",
       "    </tr>\n",
       "  </tbody>\n",
       "</table>\n",
       "</div>"
      ],
      "text/plain": [
       "    0\n",
       "0  슬픔\n",
       "1  슬픔\n",
       "2  슬픔\n",
       "3  슬픔\n",
       "4  슬픔"
      ]
     },
     "execution_count": 97,
     "metadata": {},
     "output_type": "execute_result"
    }
   ],
   "source": [
    "dim512_cats.to_csv('dim512_inf_labels.tsv', encoding='utf-8', sep='\\t', index=False)\n",
    "dim512_cats_test = pd.read_csv('dim512_inf_labels.tsv', sep='\\t')\n",
    "dim512_cats_test.head()"
   ]
  },
  {
   "cell_type": "code",
   "execution_count": null,
   "metadata": {
    "colab": {
     "base_uri": "https://localhost:8080/",
     "height": 398
    },
    "id": "S3x7Wgwa2VQv",
    "outputId": "f1cf4940-45cf-476d-92e3-602441bdea65"
   },
   "outputs": [],
   "source": [
    "# inf_data_path = 'mel_data'\n",
    "\n",
    "# # 인퍼런스용 데이터셋\n",
    "# def inf_dataloader(model, idx):\n",
    "#     for i in range(idx):\n",
    "#         temp = np.load(inf_data_path+f'/f_list_{i*10000}_{(i+1)*10000}.npy')\n",
    "#         temp_result = model.predict(temp)\n",
    "#         np.save(f'inf_result_{i}', temp_result)\n",
    "#         print(f'file no.{i} has saved.')\n",
    "\n",
    "# # inf_dataloader(model, 12)\n",
    "# inf_dataloader(resnet50, 12)"
   ]
  },
  {
   "cell_type": "code",
   "execution_count": null,
   "metadata": {},
   "outputs": [],
   "source": [
    "# npy_path = 'inf_npy_resnet'\n",
    "\n",
    "# def npy_concatenate(path, fname):\n",
    "#     npy0 = np.load(npy_path+'/inf_result_0.npy')\n",
    "#     npy1 = np.load(npy_path+'/inf_result_1.npy')\n",
    "#     npy2 = np.load(npy_path+'/inf_result_2.npy')\n",
    "#     npy3 = np.load(npy_path+'/inf_result_3.npy')\n",
    "#     npy4 = np.load(npy_path+'/inf_result_4.npy')\n",
    "#     npy5 = np.load(npy_path+'/inf_result_5.npy')\n",
    "#     npy6 = np.load(npy_path+'/inf_result_6.npy')\n",
    "#     npy7 = np.load(npy_path+'/inf_result_7.npy')\n",
    "#     npy8 = np.load(npy_path+'/inf_result_8.npy')\n",
    "#     npy9 = np.load(npy_path+'/inf_result_9.npy')\n",
    "#     npy10 = np.load(npy_path+'/inf_result_10.npy')\n",
    "#     npy11 = np.load(npy_path+'/inf_result_11.npy')\n",
    "\n",
    "#     inf_result_npy = np.concatenate((npy0, npy1, npy2, npy3, npy4, npy5, npy6, npy7, npy8, npy9, npy10, npy11), axis=0)\n",
    "    \n",
    "#     print(type(inf_result_npy))\n",
    "#     print(inf_result_npy.shape)\n",
    "    \n",
    "#     np.save(fname, inf_result_npy)\n",
    "\n",
    "# npy_concatenate(npy_path, 'inf_result_resnet')"
   ]
  },
  {
   "cell_type": "code",
   "execution_count": null,
   "metadata": {},
   "outputs": [],
   "source": [
    "# result = np.load('inf_result_resnet.npy')\n",
    "# result[:5]"
   ]
  },
  {
   "cell_type": "code",
   "execution_count": null,
   "metadata": {},
   "outputs": [],
   "source": [
    "# def is_result_good(result):\n",
    "#     c = []\n",
    "#     for i in range(len(result)):\n",
    "#         temp = np.argmax(result[i])+1\n",
    "#         if temp == 6:\n",
    "#             temp = '중립'\n",
    "#         elif temp == 5:\n",
    "#             temp = '분노'\n",
    "#         elif temp == 4:\n",
    "#             temp = '슬픔'\n",
    "#         elif temp == 3:\n",
    "#             temp = '평화'\n",
    "#         elif temp == 2:\n",
    "#             temp = '긴장'\n",
    "#         else:\n",
    "#             temp = '기쁨'\n",
    "#         c.append(temp)\n",
    "#     print(c[:10])\n",
    "\n",
    "# is_result_good(result)"
   ]
  },
  {
   "cell_type": "markdown",
   "metadata": {
    "tags": []
   },
   "source": [
    "## 인퍼런스 평가"
   ]
  },
  {
   "cell_type": "code",
   "execution_count": null,
   "metadata": {},
   "outputs": [],
   "source": [
    "'''\n",
    "대전제: 가사랑 멜로디랑 표현방법은 다를지언정 같은 감정(S)을 표현하고자 한다.\n",
    "근데 기존 가사만 의존하는 방식은 멜로디를 고려할 수가 없다. (e.g. 김건모 - 잘못된 만남)\n",
    "\n",
    "mel을 쓰는 이유-> 가사로만 S를 근사하기보다는 mel까지 분석해서 S에 대한 근사도를 올리기 위함\n",
    "\n",
    "cor1, cor4 -> 높게 나올수록 좋음 (가사가 표현하는 주된 감정들을 얼마나 캐치하고 있느냐)\n",
    "cor2, cor3 -> 어느 정도 높아야 하긴 하는데, 너무 높으면 또 안됨 (가사하고 얼마나 똑같이 표현하고 있느냐)\n",
    "\n",
    "2,3번을 말로 옮기면...\n",
    "-> 10~15%의 곡은 멜로디와 가사가 거의 비슷한 분위기를 가지고 있음\n",
    "-> 85~90%의 곡은 멜로디와 가사의 분위기가 다름 (얼마나 다른지는 1, 4를 봐야 알 수 있음)\n",
    "\n",
    "1,4번을 말로 옮기면...\n",
    "-> 88%의 곡은 멜로디와 가사가 공통으로 가지는 분위기가 1개 이상 존재함 (e.g. 기쁨+슬픔 & 기쁨/중립)\n",
    "-> 87%의 곡은 멜로디와 가사가 공통으로 가지는 분위기가 2개 이상 존재함 (e.g. 슬픔+분노+중립 & 슬픔+중립+평화)\n",
    "\n",
    "acc 수치\n",
    "-> 가장 메인이 되는 감정이 일치하는 비율 : 40%\n",
    "-> 그렇다면 나머지 60%는 틀린 것이냐? 그건 또 아님 (e.g. true=(0.46, 0.44, 0.2) pred=(0.44, 0.46, 0.2) -> 틀렸다 판정)\n",
    "\n",
    "99.99999\n",
    "99.99998\n",
    "99.99997\n",
    "\n",
    "0.0002\n",
    "\n",
    "mel의 감성분석한 라벨이 있으면 1, 2, 3, 4번의 적합한 수치가 얼마나 되는지 알 수 있음\n",
    "'''"
   ]
  }
 ],
 "metadata": {
  "accelerator": "GPU",
  "colab": {
   "background_execution": "on",
   "collapsed_sections": [],
   "machine_shape": "hm",
   "provenance": []
  },
  "gpuClass": "standard",
  "kernelspec": {
   "display_name": "Python 3 (ipykernel)",
   "language": "python",
   "name": "python3"
  },
  "language_info": {
   "codemirror_mode": {
    "name": "ipython",
    "version": 3
   },
   "file_extension": ".py",
   "mimetype": "text/x-python",
   "name": "python",
   "nbconvert_exporter": "python",
   "pygments_lexer": "ipython3",
   "version": "3.8.10"
  }
 },
 "nbformat": 4,
 "nbformat_minor": 4
}
