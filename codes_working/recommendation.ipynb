{
  "cells": [
    {
      "cell_type": "code",
      "execution_count": 14,
      "metadata": {
        "id": "763SgbUZlq1R"
      },
      "outputs": [],
      "source": [
        "%%capture\n",
        "import numpy as np\n",
        "from sklearn.feature_extraction.text import CountVectorizer\n",
        "from sklearn.metrics.pairwise import cosine_similarity\n",
        "import pandas as pd\n",
        "import time\n",
        "from multiprocessing import Pool\n",
        "\n",
        "from transformers import AutoTokenizer,AutoModelForSequenceClassification,TextClassificationPipeline,pipeline,AutoModel"
      ]
    },
    {
      "cell_type": "code",
      "execution_count": 2,
      "metadata": {
        "id": "0pBKuOh0mYp-"
      },
      "outputs": [],
      "source": [
        "# !pip install transformers"
      ]
    },
    {
      "cell_type": "code",
      "execution_count": 15,
      "metadata": {
        "colab": {
          "base_uri": "https://localhost:8080/",
          "height": 1000
        },
        "id": "KrLZ2BYRmFVm",
        "outputId": "fefa32c2-11dc-428e-a54a-bf4dcc61411d"
      },
      "outputs": [],
      "source": [
        "# load model, tokenizer\n",
        "num_labels = 6\n",
        "model = AutoModelForSequenceClassification.from_pretrained(\"qlqqqk/ft_batch32_con_sen\")\n",
        "\n",
        "# # freeze layers\n",
        "# for param in model.roberta.parameters():\n",
        "#     param.requires_grad = True\n",
        "\n",
        "tokenizer = AutoTokenizer.from_pretrained('klue/roberta-large')"
      ]
    },
    {
      "cell_type": "code",
      "execution_count": 16,
      "metadata": {
        "colab": {
          "base_uri": "https://localhost:8080/"
        },
        "id": "OZO4nOY0nAyN",
        "outputId": "dbfff56d-f493-43fd-bdce-bee1fe5b7eab"
      },
      "outputs": [
        {
          "name": "stderr",
          "output_type": "stream",
          "text": [
            "/home/wjswps/.local/lib/python3.8/site-packages/transformers/pipelines/text_classification.py:89: UserWarning: `return_all_scores` is now deprecated, use `top_k=1` if you want similar functionnality\n",
            "  warnings.warn(\n"
          ]
        }
      ],
      "source": [
        "# pipe = TextClassificationPipeline(model = model, tokenizer = tokenizer, return_all_scores=True, batch_size = 32, num_workers = 85) #device = device,\n",
        "pipe  = pipeline(\"text-classification\", model=model, tokenizer=tokenizer, return_all_scores = True)"
      ]
    },
    {
      "cell_type": "markdown",
      "metadata": {},
      "source": [
        "## 데이터 세팅\n",
        "- lyric(score_test.tsv) : (1,6) 가사 벡터\n",
        "- meta(lyric_data_v3.tsv) : 인덱스 기준 노래 제목/가수\n",
        "- emotion: 사용자의 감정벡터\n"
      ]
    },
    {
      "cell_type": "markdown",
      "metadata": {},
      "source": [
        "### emotion"
      ]
    },
    {
      "cell_type": "code",
      "execution_count": 17,
      "metadata": {
        "colab": {
          "base_uri": "https://localhost:8080/"
        },
        "id": "IQDOK4WCng8y",
        "outputId": "5ee65651-b743-4d9d-a4ce-03bd13982be4"
      },
      "outputs": [
        {
          "name": "stdout",
          "output_type": "stream",
          "text": [
            "0.3230167031288147\n"
          ]
        }
      ],
      "source": [
        "input = '오늘도 나는 라임오렌지나무를 심는다.' # inference 문장\n",
        "\n",
        "emotion = []\n",
        "for i in pipe(input):\n",
        "  print(i[0]['score']) #확인용\n",
        "  emotion.append(i[0]['score'])\n",
        "  emotion.append(i[1]['score'])\n",
        "  emotion.append(i[2]['score'])\n",
        "  emotion.append(i[3]['score'])\n",
        "  emotion.append(i[4]['score'])\n",
        "  emotion.append(i[5]['score'])\n",
        "  "
      ]
    },
    {
      "cell_type": "code",
      "execution_count": 18,
      "metadata": {
        "colab": {
          "base_uri": "https://localhost:8080/"
        },
        "id": "8ir0M6-Qp95h",
        "outputId": "3b0d41b6-d008-4abc-fc4a-9f94579c8cf0"
      },
      "outputs": [
        {
          "data": {
            "text/plain": [
              "array([[0.3230167 , 0.09041135, 0.00680735, 0.0459486 , 0.10450783,\n",
              "        0.42930818]])"
            ]
          },
          "execution_count": 18,
          "metadata": {},
          "output_type": "execute_result"
        }
      ],
      "source": [
        "emotion = np.array(emotion).reshape(1,-1)\n",
        "emotion #{'기쁨':0,'긴장':1,'평화':2,'슬픔':3,'분노':4,'중립':5}"
      ]
    },
    {
      "cell_type": "markdown",
      "metadata": {},
      "source": [
        "### lyric"
      ]
    },
    {
      "cell_type": "code",
      "execution_count": 19,
      "metadata": {
        "id": "wx__tEjRqQel"
      },
      "outputs": [
        {
          "data": {
            "text/plain": [
              "((112512, 6),\n",
              "     LABEL_0   LABEL_1   LABEL_2   LABEL_3   LABEL_4   LABEL_5\n",
              " 0  0.321668  0.050276  0.000602  0.013912  0.100803  0.512739\n",
              " 1  0.211127  0.195028  0.000657  0.017706  0.143551  0.431931\n",
              " 2  0.946268  0.002743  0.003444  0.031837  0.003763  0.011944\n",
              " 3  0.003543  0.029312  0.000641  0.821336  0.136336  0.008832\n",
              " 4  0.239259  0.642580  0.001295  0.056139  0.040510  0.020217)"
            ]
          },
          "execution_count": 19,
          "metadata": {},
          "output_type": "execute_result"
        }
      ],
      "source": [
        "# index num이 lyric_data_v3와 매칭되는 번호 \n",
        "lyric = pd.read_csv('data/score_test.tsv',sep='\\t')\n",
        "lyric = lyric.drop(columns=['Unnamed: 0','lyric'])\n",
        "lyric.shape,lyric.head()"
      ]
    },
    {
      "cell_type": "code",
      "execution_count": 20,
      "metadata": {
        "colab": {
          "base_uri": "https://localhost:8080/"
        },
        "id": "dkDOvUCasD4w",
        "outputId": "bf4c3694-0d65-4d95-c7dc-bd6b9b1f7eec"
      },
      "outputs": [
        {
          "data": {
            "text/plain": [
              "array([[0.27414498, 0.18235692, 0.23758395, 0.13272549, 0.1603689 ,\n",
              "        0.01281983]])"
            ]
          },
          "execution_count": 20,
          "metadata": {},
          "output_type": "execute_result"
        }
      ],
      "source": [
        "ly_list = []\n",
        "for i in lyric.values:\n",
        "    ly_list.append(np.array(i).reshape(1,-1))\n",
        "ly_list[27073]"
      ]
    },
    {
      "cell_type": "markdown",
      "metadata": {},
      "source": [
        "### meta"
      ]
    },
    {
      "cell_type": "code",
      "execution_count": 21,
      "metadata": {},
      "outputs": [
        {
          "data": {
            "text/html": [
              "<div>\n",
              "<style scoped>\n",
              "    .dataframe tbody tr th:only-of-type {\n",
              "        vertical-align: middle;\n",
              "    }\n",
              "\n",
              "    .dataframe tbody tr th {\n",
              "        vertical-align: top;\n",
              "    }\n",
              "\n",
              "    .dataframe thead th {\n",
              "        text-align: right;\n",
              "    }\n",
              "</style>\n",
              "<table border=\"1\" class=\"dataframe\">\n",
              "  <thead>\n",
              "    <tr style=\"text-align: right;\">\n",
              "      <th></th>\n",
              "      <th>lyric</th>\n",
              "      <th>id</th>\n",
              "      <th>song_id</th>\n",
              "      <th>song_name</th>\n",
              "      <th>artist</th>\n",
              "      <th>genre</th>\n",
              "      <th>album</th>\n",
              "      <th>album_id</th>\n",
              "      <th>release</th>\n",
              "    </tr>\n",
              "  </thead>\n",
              "  <tbody>\n",
              "    <tr>\n",
              "      <th>0</th>\n",
              "      <td>Feelings nothing more than feelings Trying to ...</td>\n",
              "      <td>0</td>\n",
              "      <td>4639910</td>\n",
              "      <td>Feelings</td>\n",
              "      <td>Various Artists</td>\n",
              "      <td>GN0900</td>\n",
              "      <td>불후의 명곡 - 7080 추억의 얄개시대 팝송베스트</td>\n",
              "      <td>2255639</td>\n",
              "      <td>20140512</td>\n",
              "    </tr>\n",
              "    <tr>\n",
              "      <th>1</th>\n",
              "      <td>i feel alright now but don't know how to speak...</td>\n",
              "      <td>8</td>\n",
              "      <td>1657318</td>\n",
              "      <td>Lovers’ Leap (Feat. Qypthone)</td>\n",
              "      <td>애플스</td>\n",
              "      <td>GN0300</td>\n",
              "      <td>Sexualmetro</td>\n",
              "      <td>353020</td>\n",
              "      <td>20070625</td>\n",
              "    </tr>\n",
              "    <tr>\n",
              "      <th>2</th>\n",
              "      <td>그대 스치는 바람처럼 불어와서 내 곁에 머무른 사람 나도 몰래 내쉬는 숨처럼 익숙해...</td>\n",
              "      <td>9</td>\n",
              "      <td>30310140</td>\n",
              "      <td>사랑, 그대라는 멜로디</td>\n",
              "      <td>진호</td>\n",
              "      <td>GN0100</td>\n",
              "      <td>Pastel Reflection</td>\n",
              "      <td>10047088</td>\n",
              "      <td>20170320</td>\n",
              "    </tr>\n",
              "    <tr>\n",
              "      <th>3</th>\n",
              "      <td>그냥 생각 없이 이렇다 할 뜻도 없이 쉼 없이 웃으며 떠드는 이들을 가만히 두리번거...</td>\n",
              "      <td>19</td>\n",
              "      <td>5579388</td>\n",
              "      <td>무얼 기다리나 (Feat. 조원선)</td>\n",
              "      <td>이영훈</td>\n",
              "      <td>GN0500,GN0800</td>\n",
              "      <td>내가 부른 그림 2</td>\n",
              "      <td>2303168</td>\n",
              "      <td>20150205</td>\n",
              "    </tr>\n",
              "    <tr>\n",
              "      <th>4</th>\n",
              "      <td>너를보면 나는 잠이와 이상하다 그치 잠이오면 나는 잠을자 이상하다 그치 자면서 너에...</td>\n",
              "      <td>29</td>\n",
              "      <td>3953129</td>\n",
              "      <td>창밖에 잠수교가 보인다</td>\n",
              "      <td>박영민</td>\n",
              "      <td>GN1500</td>\n",
              "      <td>창밖에 잠수교가 보인다 OST</td>\n",
              "      <td>2165909</td>\n",
              "      <td>19840910</td>\n",
              "    </tr>\n",
              "  </tbody>\n",
              "</table>\n",
              "</div>"
            ],
            "text/plain": [
              "                                               lyric  id   song_id  \\\n",
              "0  Feelings nothing more than feelings Trying to ...   0   4639910   \n",
              "1  i feel alright now but don't know how to speak...   8   1657318   \n",
              "2  그대 스치는 바람처럼 불어와서 내 곁에 머무른 사람 나도 몰래 내쉬는 숨처럼 익숙해...   9  30310140   \n",
              "3  그냥 생각 없이 이렇다 할 뜻도 없이 쉼 없이 웃으며 떠드는 이들을 가만히 두리번거...  19   5579388   \n",
              "4  너를보면 나는 잠이와 이상하다 그치 잠이오면 나는 잠을자 이상하다 그치 자면서 너에...  29   3953129   \n",
              "\n",
              "                       song_name           artist          genre  \\\n",
              "0                       Feelings  Various Artists         GN0900   \n",
              "1  Lovers’ Leap (Feat. Qypthone)              애플스         GN0300   \n",
              "2                   사랑, 그대라는 멜로디               진호         GN0100   \n",
              "3            무얼 기다리나 (Feat. 조원선)              이영훈  GN0500,GN0800   \n",
              "4                   창밖에 잠수교가 보인다              박영민         GN1500   \n",
              "\n",
              "                          album  album_id   release  \n",
              "0  불후의 명곡 - 7080 추억의 얄개시대 팝송베스트   2255639  20140512  \n",
              "1                   Sexualmetro    353020  20070625  \n",
              "2             Pastel Reflection  10047088  20170320  \n",
              "3                    내가 부른 그림 2   2303168  20150205  \n",
              "4              창밖에 잠수교가 보인다 OST   2165909  19840910  "
            ]
          },
          "execution_count": 21,
          "metadata": {},
          "output_type": "execute_result"
        }
      ],
      "source": [
        "meta = pd.read_csv('data/lyric_data_v3.tsv',sep='\\t')\n",
        "meta.head()"
      ]
    },
    {
      "cell_type": "markdown",
      "metadata": {},
      "source": [
        "## 코사인 유사도\n",
        "- 2d shape error로 인해 각 벡터마다 reshape(1,-1)을 진행하였음.\n",
        "- 유사도가 가장 높은 5개 출력하는 코드"
      ]
    },
    {
      "cell_type": "code",
      "execution_count": 22,
      "metadata": {
        "colab": {
          "base_uri": "https://localhost:8080/"
        },
        "id": "7v_xTyLHwgfe",
        "outputId": "88cc10ec-d2af-4a46-9e17-c8c69b38bbb6"
      },
      "outputs": [
        {
          "data": {
            "text/plain": [
              "array([[0.99102589]])"
            ]
          },
          "execution_count": 22,
          "metadata": {},
          "output_type": "execute_result"
        }
      ],
      "source": [
        "cosine_sim = cosine_similarity(emotion,ly_list[0])\n",
        "cosine_sim"
      ]
    },
    {
      "cell_type": "code",
      "execution_count": 23,
      "metadata": {
        "colab": {
          "base_uri": "https://localhost:8080/"
        },
        "id": "1DFYDSqysDO1",
        "outputId": "eefb745c-18f2-44c8-8e2b-68ceb48c4cdd"
      },
      "outputs": [
        {
          "name": "stdout",
          "output_type": "stream",
          "text": [
            "[(71731, array([[0.99905687]])), (35552, array([[0.99840071]])), (103689, array([[0.99827305]])), (12894, array([[0.99824959]])), (73987, array([[0.99799773]]))]\n"
          ]
        }
      ],
      "source": [
        "''''기쁨':0,'긴장':1,'평화':2,'슬픔':3,'분노':4,'중립':5\n",
        "코사인 유사도의 순서대로 5개 출력'''\n",
        "cosine = []\n",
        "n= 0\n",
        "for i,j in enumerate(ly_list):\n",
        "  cosine_sim = cosine_similarity(emotion,j)\n",
        "  cosine.append((i,cosine_sim))\n",
        "resys = sorted(cosine,key=lambda x:x[1],reverse=True)[:5]\n",
        "print(resys)\n",
        "# sorted_similar_music = sorted(cosine_sim,key=lambda x:x[1],reverse=True)[1:]\n",
        "# print(np.argsort(cosine_sim[0]))"
      ]
    },
    {
      "cell_type": "code",
      "execution_count": 48,
      "metadata": {
        "colab": {
          "base_uri": "https://localhost:8080/"
        },
        "id": "xWmE-6iFx44m",
        "outputId": "2dc64315-20f0-4f2f-98ba-e0ede0811c59"
      },
      "outputs": [
        {
          "name": "stdout",
          "output_type": "stream",
          "text": [
            "가수:윤항기 곡:나는 행복합니다 벡터값[[0.33905092 0.10154315 0.00080187 0.03704604 0.10188568 0.41967234]]\n",
            "가수:제8극장 곡:다섯번째 알람 소리에 벡터값[[0.33096766 0.09356253 0.0010026  0.01770524 0.1187799  0.43798208]]\n",
            "가수:ABBA 곡:Ring Ring 벡터값[[0.35185727 0.09457599 0.00127529 0.03336093 0.08668768 0.43224278]]\n",
            "가수:이미자 곡:떠난 사람 벡터값[[0.33758652 0.093244   0.00063492 0.01421414 0.10880288 0.44551751]]\n",
            "가수:클랑 (KLANG) 곡:Horizon 벡터값[[0.3510071  0.09588897 0.00079485 0.0200015  0.10299969 0.42930791]]\n"
          ]
        }
      ],
      "source": [
        "for i in resys:\n",
        "    n = i[0]\n",
        "    artist = meta.iloc[n]['artist']\n",
        "    song = meta.iloc[n]['song_name']\n",
        "    ly_vec = ly_list[n]\n",
        "    print(f'가수:{artist} 곡:{song} 벡터값{ly_vec}')"
      ]
    },
    {
      "cell_type": "code",
      "execution_count": null,
      "metadata": {
        "id": "u1Mx184UqCZS"
      },
      "outputs": [],
      "source": [
        "\n",
        "# def weighted_sum(a,b,vec):\n",
        "# # 예시 곡네임 분리\n",
        "#     fin_vec = np.empty((0,6))\n",
        "#     for i in range(len(vec)):\n",
        "#         ly_name = vec[i][0]\n",
        "\n",
        "#         #가사벡터와 멜로디 벡터 분리\n",
        "#         lyrics = vec[i][1:7]\n",
        "#         mel = vec[i][7:]\n",
        "\n",
        "#         wei_vec = a*lyrics + b*mel\n",
        "#         # wei_vec = wei_vec.reshape(1,6)\n",
        "#         fin_vec = np.vstack((fin_vec,wei_vec))\n",
        "#     return ly_name,fin_vec\n",
        "# name, vectors = weighted_sum(a,b,vec2)"
      ]
    },
    {
      "cell_type": "code",
      "execution_count": null,
      "metadata": {
        "id": "HCEzO0Yml158"
      },
      "outputs": [],
      "source": [
        "# cosine_sim = cosine_similarity(vec1,vectors)\n",
        "# print(cosine_sim)\n",
        "# print(sorted(cosine_sim[0],reverse=True)[:5]) # 나중에는 원본백터(곡 이름) 출력되도록\n",
        "# # sorted_similar_music = sorted(cosine_sim,key=lambda x:x[1],reverse=True)[1:]\n",
        "# print(np.argsort(cosine_sim[0]))"
      ]
    }
  ],
  "metadata": {
    "accelerator": "GPU",
    "colab": {
      "machine_shape": "hm",
      "provenance": []
    },
    "kernelspec": {
      "display_name": "Python 3.8.10 64-bit",
      "language": "python",
      "name": "python3"
    },
    "language_info": {
      "codemirror_mode": {
        "name": "ipython",
        "version": 3
      },
      "file_extension": ".py",
      "mimetype": "text/x-python",
      "name": "python",
      "nbconvert_exporter": "python",
      "pygments_lexer": "ipython3",
      "version": "3.8.10"
    },
    "vscode": {
      "interpreter": {
        "hash": "916dbcbb3f70747c44a77c7bcd40155683ae19c65e1c03b4aa3499c5328201f1"
      }
    }
  },
  "nbformat": 4,
  "nbformat_minor": 0
}
