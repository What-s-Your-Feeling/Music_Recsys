{
 "cells": [
  {
   "cell_type": "code",
   "execution_count": 4,
   "metadata": {},
   "outputs": [],
   "source": [
    "import numpy as np\n",
    "from sklearn.feature_extraction.text import CountVectorizer\n",
    "from sklearn.metrics.pairwise import cosine_similarity"
   ]
  },
  {
   "cell_type": "code",
   "execution_count": 2,
   "metadata": {},
   "outputs": [
    {
     "data": {
      "text/plain": [
       "array([[0.07881366, 0.29799024, 0.46988129, 0.05252708, 0.58458646,\n",
       "        0.13242137]])"
      ]
     },
     "execution_count": 2,
     "metadata": {},
     "output_type": "execute_result"
    }
   ],
   "source": [
    "vec1 = np.random.rand(1,6)\n",
    "vec1"
   ]
  },
  {
   "cell_type": "code",
   "execution_count": 19,
   "metadata": {},
   "outputs": [
    {
     "data": {
      "text/plain": [
       "array([[7.10701464e-01, 3.58878107e-01, 5.90569716e-01, 9.54690241e-02,\n",
       "        9.92899691e-01, 3.97544260e-01, 8.62830270e-01, 2.29090677e-01,\n",
       "        7.67976281e-01, 8.77904065e-01, 6.36545860e-01, 6.11500480e-01,\n",
       "        2.05171416e-01],\n",
       "       [1.07440103e-01, 5.93043249e-01, 1.90611836e-02, 9.66876101e-01,\n",
       "        2.96618365e-01, 6.61050855e-01, 5.68355299e-01, 5.78137618e-01,\n",
       "        4.49907673e-02, 8.27845385e-01, 8.29323843e-02, 8.02626389e-01,\n",
       "        7.92203047e-01],\n",
       "       [6.91681598e-01, 7.94667244e-01, 7.25730420e-01, 6.91154856e-01,\n",
       "        3.89445321e-01, 8.35381477e-01, 3.12173990e-01, 4.25894490e-01,\n",
       "        6.67612609e-01, 4.45032608e-01, 5.62909035e-01, 3.27271676e-01,\n",
       "        2.90734844e-01],\n",
       "       [6.91772467e-01, 2.46403202e-01, 9.48077019e-01, 9.06829447e-01,\n",
       "        7.04719362e-01, 3.60900704e-01, 3.04442788e-01, 4.79340274e-01,\n",
       "        2.99727681e-01, 2.49435781e-01, 6.69097092e-02, 2.58020575e-01,\n",
       "        9.98030872e-01],\n",
       "       [6.45452898e-01, 1.36766366e-01, 9.38250804e-01, 8.28280308e-01,\n",
       "        5.56801754e-01, 6.96159474e-01, 7.35276511e-02, 8.98430362e-01,\n",
       "        7.49294562e-01, 8.26736037e-01, 2.90892489e-01, 3.43702919e-01,\n",
       "        6.55755712e-01],\n",
       "       [4.10155719e-01, 5.86285165e-01, 6.23424381e-01, 3.65406291e-01,\n",
       "        6.35076821e-01, 1.07245593e-01, 7.30472442e-01, 1.04697360e-01,\n",
       "        4.07682449e-01, 4.10621652e-01, 1.33900446e-01, 9.62885781e-01,\n",
       "        3.77912223e-02],\n",
       "       [6.30937241e-02, 4.64713212e-01, 9.39798602e-01, 8.33385628e-02,\n",
       "        1.96509357e-01, 9.75352242e-01, 9.90457045e-01, 8.36658604e-01,\n",
       "        3.47807353e-01, 8.99994542e-01, 1.86040188e-01, 9.08327866e-01,\n",
       "        9.68303380e-01],\n",
       "       [8.78692495e-01, 2.74057462e-01, 5.76430229e-01, 2.52275475e-01,\n",
       "        2.52454579e-01, 4.70424729e-01, 9.03262232e-02, 8.47964902e-02,\n",
       "        2.32094108e-01, 5.93973447e-01, 2.34653700e-01, 1.98251330e-01,\n",
       "        6.70570580e-01],\n",
       "       [3.67955785e-01, 5.68411384e-01, 9.54241272e-01, 5.41458399e-01,\n",
       "        3.51892718e-01, 2.81905842e-01, 3.86198449e-01, 6.51169053e-01,\n",
       "        9.55803321e-01, 1.66758548e-01, 1.41742018e-01, 8.16512849e-01,\n",
       "        6.10959466e-01],\n",
       "       [3.72892697e-01, 5.29140610e-01, 9.71587875e-01, 8.65562754e-01,\n",
       "        1.89509549e-01, 9.09824066e-01, 4.45487169e-01, 3.11364192e-01,\n",
       "        1.28466587e-04, 4.87664909e-01, 8.32466221e-01, 5.21339384e-01,\n",
       "        5.91695491e-01]])"
      ]
     },
     "execution_count": 19,
     "metadata": {},
     "output_type": "execute_result"
    }
   ],
   "source": [
    "vec2 = np.random.rand(10,13)\n",
    "vec2"
   ]
  },
  {
   "cell_type": "code",
   "execution_count": 42,
   "metadata": {},
   "outputs": [
    {
     "data": {
      "text/plain": [
       "10"
      ]
     },
     "execution_count": 42,
     "metadata": {},
     "output_type": "execute_result"
    }
   ],
   "source": [
    "len(vec2)"
   ]
  },
  {
   "cell_type": "code",
   "execution_count": 22,
   "metadata": {},
   "outputs": [
    {
     "data": {
      "text/plain": [
       "0.7107014636523518"
      ]
     },
     "execution_count": 22,
     "metadata": {},
     "output_type": "execute_result"
    }
   ],
   "source": [
    "# 예시 곡네임 분리\n",
    "ly_name = vec2[0][0]\n",
    "ly_name"
   ]
  },
  {
   "cell_type": "code",
   "execution_count": 60,
   "metadata": {},
   "outputs": [
    {
     "data": {
      "text/plain": [
       "(array([0.59304325, 0.01906118, 0.9668761 , 0.29661836, 0.66105086,\n",
       "        0.5683553 ]),\n",
       " array([0.57813762, 0.04499077, 0.82784539, 0.08293238, 0.80262639,\n",
       "        0.79220305]))"
      ]
     },
     "execution_count": 60,
     "metadata": {},
     "output_type": "execute_result"
    }
   ],
   "source": [
    "#가사벡터와 멜로디 벡터 분리\n",
    "lyrics = vec2[1][1:7]\n",
    "mel = vec2[1][7:]\n",
    "lyrics,mel"
   ]
  },
  {
   "cell_type": "code",
   "execution_count": 56,
   "metadata": {},
   "outputs": [
    {
     "data": {
      "text/plain": [
       "1.6717246078003558"
      ]
     },
     "execution_count": 56,
     "metadata": {},
     "output_type": "execute_result"
    }
   ],
   "source": [
    "np.matmul(lyrics,mel)"
   ]
  },
  {
   "cell_type": "code",
   "execution_count": 88,
   "metadata": {},
   "outputs": [],
   "source": [
    "#가중합 에시(유저가 임의로 0~1사이의 가중치 선택)\n",
    "import random\n",
    "a = random.random()\n",
    "b = random.random()\n",
    "def weighted_sum(a,b,vec):\n",
    "# 예시 곡네임 분리\n",
    "    fin_vec = np.empty((0,6))\n",
    "    for i in range(len(vec)):\n",
    "        ly_name = vec[i][0]\n",
    "\n",
    "        #가사벡터와 멜로디 벡터 분리\n",
    "        lyrics = vec[i][1:7]\n",
    "        mel = vec[i][7:]\n",
    "\n",
    "        wei_vec = a*lyrics + b*mel\n",
    "        # wei_vec = wei_vec.reshape(1,6)\n",
    "        fin_vec = np.vstack((fin_vec,wei_vec))\n",
    "    return ly_name,fin_vec\n",
    "name, vectors = weighted_sum(a,b,vec2)"
   ]
  },
  {
   "cell_type": "code",
   "execution_count": 90,
   "metadata": {},
   "outputs": [
    {
     "data": {
      "text/plain": [
       "(10, 6)"
      ]
     },
     "execution_count": 90,
     "metadata": {},
     "output_type": "execute_result"
    }
   ],
   "source": [
    "vectors.shape"
   ]
  },
  {
   "cell_type": "code",
   "execution_count": 96,
   "metadata": {},
   "outputs": [
    {
     "name": "stdout",
     "output_type": "stream",
     "text": [
      "[[0.78893992 0.82631487 0.81421106 0.72653328 0.83086175 0.91732052\n",
      "  0.83021793 0.83720527 0.77112862 0.84761154]]\n",
      "[0.9173205222551745, 0.847611537521786, 0.8372052734379748, 0.8308617457218856, 0.8302179345983681]\n",
      "[3 8 0 2 1 6 4 7 9 5]\n"
     ]
    }
   ],
   "source": [
    "cosine_sim = cosine_similarity(vec1,vectors)\n",
    "print(cosine_sim)\n",
    "print(sorted(cosine_sim[0],reverse=True)[:5]) # 나중에는 원본백터(곡 이름) 출력되도록\n",
    "# sorted_similar_music = sorted(cosine_sim,key=lambda x:x[1],reverse=True)[1:]\n",
    "print(np.argsort(cosine_sim[0]))"
   ]
  },
  {
   "cell_type": "code",
   "execution_count": null,
   "metadata": {},
   "outputs": [],
   "source": [
    "def get_title_from_index(index):\n",
    "    return df[df.index == index][\"title\"].values[0]\n",
    "def get_index_from_title(title):\n",
    "    return df[df.title == title][\"index\"].values[0]\n",
    "\n",
    "movie_user_likes = \"Avatar\"\n",
    "movie_index = get_index_from_title(movie_user_likes)\n",
    "similar_movies = list(enumerate(cosine_sim[movie_index]))\n",
    "\n",
    "sorted_similar_movies = sorted(similar_movies,key=lambda x:x[1],reverse=True)[1:]\n",
    "\n",
    "i=0\n",
    "print(movie_user_likes+\"와 비슷한 영화 3편은 \"+\"\\n\")\n",
    "for item in sorted_similar_movies:\n",
    "    print(get_title_from_index(item[0]))\n",
    "    i=i+1\n",
    "    if i==3:\n",
    "        break"
   ]
  }
 ],
 "metadata": {
  "kernelspec": {
   "display_name": "Python 3.9.7",
   "language": "python",
   "name": "python3"
  },
  "language_info": {
   "codemirror_mode": {
    "name": "ipython",
    "version": 3
   },
   "file_extension": ".py",
   "mimetype": "text/x-python",
   "name": "python",
   "nbconvert_exporter": "python",
   "pygments_lexer": "ipython3",
   "version": "3.9.7"
  },
  "orig_nbformat": 4,
  "vscode": {
   "interpreter": {
    "hash": "40d3a090f54c6569ab1632332b64b2c03c39dcf918b08424e98f38b5ae0af88f"
   }
  }
 },
 "nbformat": 4,
 "nbformat_minor": 2
}
