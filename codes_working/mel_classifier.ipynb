{
  "nbformat": 4,
  "nbformat_minor": 0,
  "metadata": {
    "colab": {
      "provenance": [],
      "machine_shape": "hm",
      "background_execution": "on",
      "collapsed_sections": []
    },
    "kernelspec": {
      "name": "python3",
      "display_name": "Python 3"
    },
    "language_info": {
      "name": "python"
    },
    "accelerator": "GPU",
    "gpuClass": "standard"
  },
  "cells": [
    {
      "cell_type": "code",
      "source": [
        "from google.colab import drive\n",
        "drive.mount('/content/mydrive')"
      ],
      "metadata": {
        "colab": {
          "base_uri": "https://localhost:8080/"
        },
        "id": "WBSpk7XIlkgr",
        "outputId": "1fac2cc8-951f-445b-d40f-b579f0d49cf3"
      },
      "execution_count": null,
      "outputs": [
        {
          "output_type": "stream",
          "name": "stdout",
          "text": [
            "Mounted at /content/mydrive\n"
          ]
        }
      ]
    },
    {
      "cell_type": "code",
      "execution_count": null,
      "metadata": {
        "colab": {
          "base_uri": "https://localhost:8080/"
        },
        "id": "Dok5IP10k1TG",
        "outputId": "2c6f29bb-4df3-49f6-d474-5b969026b13a"
      },
      "outputs": [
        {
          "output_type": "stream",
          "name": "stdout",
          "text": [
            "tensorflow version: 2.8.2\n"
          ]
        }
      ],
      "source": [
        "import numpy as np\n",
        "import pandas as pd\n",
        "\n",
        "import sklearn\n",
        "from sklearn.model_selection import train_test_split as tts\n",
        "\n",
        "import tensorflow as tf\n",
        "\n",
        "from tensorflow.keras.models import Sequential, Model\n",
        "from tensorflow.keras.layers import Dense, Dropout, Flatten, GlobalMaxPooling2D, GlobalAveragePooling2D, Conv2D, \\\n",
        "                                    MaxPool2D, ZeroPadding2D, BatchNormalization, Input, DepthwiseConv2D, Add, LeakyReLU, ReLU\n",
        "from tensorflow.keras.optimizers import Adam, SGD\n",
        "from tensorflow.keras.callbacks import EarlyStopping, ModelCheckpoint\n",
        "\n",
        "from sklearn.model_selection import StratifiedKFold\n",
        "from tensorflow.keras.models import load_model\n",
        "from sklearn.metrics import accuracy_score\n",
        "\n",
        "\n",
        "print('tensorflow version:', tf.__version__)"
      ]
    },
    {
      "cell_type": "markdown",
      "source": [
        "## data load"
      ],
      "metadata": {
        "id": "eBc7C_D9qUfB"
      }
    },
    {
      "cell_type": "code",
      "source": [
        "train_test = np.load('/content/mydrive/MyDrive/AIFFELTHON/kakao_arena/mel_preprocessed/f_list_0_10000.npy')"
      ],
      "metadata": {
        "id": "sk3UZD2PqV5R"
      },
      "execution_count": null,
      "outputs": []
    },
    {
      "cell_type": "code",
      "source": [
        "train_test.shape"
      ],
      "metadata": {
        "colab": {
          "base_uri": "https://localhost:8080/"
        },
        "id": "e2u3k0EIqdZJ",
        "outputId": "52869858-f9ed-4441-ebbd-32378b322153"
      },
      "execution_count": null,
      "outputs": [
        {
          "output_type": "execute_result",
          "data": {
            "text/plain": [
              "(9986, 48, 1876, 1)"
            ]
          },
          "metadata": {},
          "execution_count": 7
        }
      ]
    },
    {
      "cell_type": "code",
      "source": [
        "x_train, x_test = tts(train_test, test_size=0.2)\n",
        "\n",
        "print(x_train.shape)\n",
        "print(x_test.shape)"
      ],
      "metadata": {
        "colab": {
          "base_uri": "https://localhost:8080/"
        },
        "id": "QoiOcyN_q45r",
        "outputId": "f229e304-09f2-4b61-8f1d-dbdfbb2a09ad"
      },
      "execution_count": null,
      "outputs": [
        {
          "output_type": "stream",
          "name": "stdout",
          "text": [
            "(7988, 48, 1876, 1)\n",
            "(1998, 48, 1876, 1)\n"
          ]
        }
      ]
    },
    {
      "cell_type": "code",
      "source": [
        "test_data = np.random.random((9986, 6))\n",
        "test_data"
      ],
      "metadata": {
        "colab": {
          "base_uri": "https://localhost:8080/"
        },
        "id": "_55rsVjjzkEj",
        "outputId": "dff68827-a8ba-4048-e7eb-95d6912a120b"
      },
      "execution_count": null,
      "outputs": [
        {
          "output_type": "execute_result",
          "data": {
            "text/plain": [
              "array([[0.42310607, 0.26300496, 0.89332795, 0.94022019, 0.71350086,\n",
              "        0.76172377],\n",
              "       [0.62905362, 0.60996775, 0.78501363, 0.27493135, 0.42144897,\n",
              "        0.96914037],\n",
              "       [0.69916421, 0.80115274, 0.884296  , 0.49890113, 0.63903061,\n",
              "        0.32772005],\n",
              "       ...,\n",
              "       [0.07832577, 0.90686169, 0.01610637, 0.08120896, 0.98699019,\n",
              "        0.55387039],\n",
              "       [0.93225606, 0.10934125, 0.93651069, 0.66610862, 0.49640238,\n",
              "        0.74304384],\n",
              "       [0.66903624, 0.13626548, 0.35321746, 0.28957911, 0.95822061,\n",
              "        0.30207084]])"
            ]
          },
          "metadata": {},
          "execution_count": 50
        }
      ]
    },
    {
      "cell_type": "code",
      "source": [
        "'''\n",
        "test_data에는 라벨 데이터가 들어가야 함\n",
        "라벨 데이터의 shape는 (N, 1, 6) 형태\n",
        "'''\n",
        "y_train, y_test = tts(test_data, test_size=0.2)\n",
        "\n",
        "print(y_train.shape)\n",
        "print(y_test.shape)"
      ],
      "metadata": {
        "colab": {
          "base_uri": "https://localhost:8080/"
        },
        "id": "dSJxCxC1xrtJ",
        "outputId": "485a9b70-67b3-4707-90d6-08a10877a555"
      },
      "execution_count": null,
      "outputs": [
        {
          "output_type": "stream",
          "name": "stdout",
          "text": [
            "(7988, 6)\n",
            "(1998, 6)\n"
          ]
        }
      ]
    },
    {
      "cell_type": "markdown",
      "source": [
        "## simple cnn"
      ],
      "metadata": {
        "id": "pRElNA4coe6d"
      }
    },
    {
      "cell_type": "code",
      "source": [
        "# model = tf.keras.models.Sequential([\n",
        "#     tf.keras.layers.Conv2D(16, (3,3), activation='relu', input_shape=(150, 150, 1)),\n",
        "#     tf.keras.layers.MaxPooling2D(2,2),\n",
        "#     tf.keras.layers.Conv2D(32, (3,3), activation='relu'),\n",
        "#     tf.keras.layers.MaxPooling2D(2,2),\n",
        "#     tf.keras.layers.Conv2D(32, (3,3), activation='relu'),\n",
        "#     tf.keras.layers.MaxPooling2D(2,2),\n",
        "#     tf.keras.layers.Flatten(),\n",
        "#     tf.keras.layers.Dense(512, activation='relu'),\n",
        "#     tf.keras.layers.Dense(1, activation='sigmoid')\n",
        "# ])\n",
        "# model.summary() # 신경망의 구조 확인"
      ],
      "metadata": {
        "id": "oGZopJlKs2pD"
      },
      "execution_count": null,
      "outputs": []
    },
    {
      "cell_type": "code",
      "source": [
        "'''\n",
        "input size = (N, 48, 1876, 1)\n",
        "\n",
        "1876 = 2*2*7*67\n",
        "48 = 2*2*2*2*3\n",
        "'''\n",
        "\n",
        "embedding_dim = 48 # 임베딩 벡터의 차원 // 여기서는 hz의 채널 수\n",
        "kernel_size = 4\n",
        "drop_ratio = 0.3\n",
        "hidden_units = 512 # 뉴런의 수\n",
        "\n",
        "def build_cnn():\n",
        "    model = Sequential()\n",
        "    model.add(Conv2D(16, kernel_size, padding='valid', activation='relu', input_shape=(48, 1876, 1)))\n",
        "    model.add(MaxPool2D(kernel_size))\n",
        "    model.add(Conv2D(32, kernel_size, padding='valid', activation='relu'))\n",
        "    model.add(MaxPool2D(kernel_size))\n",
        "    model.add(Flatten())\n",
        "    model.add(Dense(hidden_units, activation='relu'))\n",
        "    model.add(Dropout(drop_ratio))\n",
        "    model.add(Dense(6, activation='softmax'))\n",
        "    \n",
        "    return model\n",
        "\n",
        "model = build_cnn()\n",
        "model.summary()"
      ],
      "metadata": {
        "colab": {
          "base_uri": "https://localhost:8080/"
        },
        "id": "nJvdMCbxsutx",
        "outputId": "9bf1d212-fcce-4c53-c570-f202c647f97c"
      },
      "execution_count": null,
      "outputs": [
        {
          "output_type": "stream",
          "name": "stdout",
          "text": [
            "Model: \"sequential_11\"\n",
            "_________________________________________________________________\n",
            " Layer (type)                Output Shape              Param #   \n",
            "=================================================================\n",
            " conv2d_24 (Conv2D)          (None, 45, 1873, 16)      272       \n",
            "                                                                 \n",
            " max_pooling2d_23 (MaxPoolin  (None, 11, 468, 16)      0         \n",
            " g2D)                                                            \n",
            "                                                                 \n",
            " conv2d_25 (Conv2D)          (None, 8, 465, 32)        8224      \n",
            "                                                                 \n",
            " max_pooling2d_24 (MaxPoolin  (None, 2, 116, 32)       0         \n",
            " g2D)                                                            \n",
            "                                                                 \n",
            " flatten_7 (Flatten)         (None, 7424)              0         \n",
            "                                                                 \n",
            " dense_17 (Dense)            (None, 512)               3801600   \n",
            "                                                                 \n",
            " dropout_7 (Dropout)         (None, 512)               0         \n",
            "                                                                 \n",
            " dense_18 (Dense)            (None, 6)                 3078      \n",
            "                                                                 \n",
            "=================================================================\n",
            "Total params: 3,813,174\n",
            "Trainable params: 3,813,174\n",
            "Non-trainable params: 0\n",
            "_________________________________________________________________\n"
          ]
        }
      ]
    },
    {
      "cell_type": "code",
      "source": [
        "es = EarlyStopping(monitor='val_loss', mode='min', verbose=1, patience=3)\n",
        "mc = ModelCheckpoint('best_model.h5', monitor='val_acc', mode='max', verbose=1, save_best_only=True)"
      ],
      "metadata": {
        "id": "3xdrCTsb0dpK"
      },
      "execution_count": null,
      "outputs": []
    },
    {
      "cell_type": "code",
      "source": [
        "model.compile(optimizer='adam', loss='categorical_crossentropy', metrics=['acc'])\n",
        "history = model.fit(x_train, y_train, epochs=20, validation_data=(x_test, y_test), callbacks=[es, mc])"
      ],
      "metadata": {
        "colab": {
          "base_uri": "https://localhost:8080/"
        },
        "id": "6GxEtc5XwlVF",
        "outputId": "24ce11d2-ef24-457b-9480-7cc68b5a2516"
      },
      "execution_count": null,
      "outputs": [
        {
          "output_type": "stream",
          "name": "stdout",
          "text": [
            "Epoch 1/20\n",
            "250/250 [==============================] - ETA: 0s - loss: 81010560.0000 - acc: 0.1670\n",
            "Epoch 1: val_acc improved from -inf to 0.16817, saving model to best_model.h5\n",
            "250/250 [==============================] - 7s 22ms/step - loss: 81010560.0000 - acc: 0.1670 - val_loss: 43301796.0000 - val_acc: 0.1682\n",
            "Epoch 2/20\n",
            "250/250 [==============================] - ETA: 0s - loss: 2045210880.0000 - acc: 0.1694\n",
            "Epoch 2: val_acc improved from 0.16817 to 0.17267, saving model to best_model.h5\n",
            "250/250 [==============================] - 5s 19ms/step - loss: 2045210880.0000 - acc: 0.1694 - val_loss: 751107904.0000 - val_acc: 0.1727\n",
            "Epoch 3/20\n",
            "249/250 [============================>.] - ETA: 0s - loss: 10148216832.0000 - acc: 0.1610\n",
            "Epoch 3: val_acc did not improve from 0.17267\n",
            "250/250 [==============================] - 5s 18ms/step - loss: 10171256832.0000 - acc: 0.1610 - val_loss: 2064603904.0000 - val_acc: 0.1682\n",
            "Epoch 4/20\n",
            "247/250 [============================>.] - ETA: 0s - loss: 27324502016.0000 - acc: 0.1645\n",
            "Epoch 4: val_acc did not improve from 0.17267\n",
            "250/250 [==============================] - 5s 18ms/step - loss: 27461892096.0000 - acc: 0.1650 - val_loss: 8632144896.0000 - val_acc: 0.1727\n",
            "Epoch 4: early stopping\n"
          ]
        }
      ]
    },
    {
      "cell_type": "code",
      "source": [],
      "metadata": {
        "id": "-8rWJq5B0ir9"
      },
      "execution_count": null,
      "outputs": []
    }
  ]
}
