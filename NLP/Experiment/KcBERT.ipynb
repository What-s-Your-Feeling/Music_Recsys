{
  "cells": [
    {
      "cell_type": "code",
      "execution_count": null,
      "metadata": {
        "id": "p2FBYgdIU7wV"
      },
      "outputs": [],
      "source": [
        "%%capture\n",
        "!pip install tensorboard==2.9.1\n",
        "!pip install -q transformers pytorch_lightning emoji soynlp"
      ]
    },
    {
      "cell_type": "code",
      "execution_count": null,
      "metadata": {
        "id": "5oKv9ChNU7wX"
      },
      "outputs": [],
      "source": [
        "import os\n",
        "import pandas as pd\n",
        "import matplotlib.pyplot as plt\n",
        "import seaborn as sns\n",
        "\n",
        "from pprint import pprint\n",
        "\n",
        "import tensorflow as tf\n",
        "import torch\n",
        "from torch.utils.data import Dataset, DataLoader, TensorDataset\n",
        "from torch.optim.lr_scheduler import ExponentialLR\n",
        "\n",
        "from pytorch_lightning import LightningModule, Trainer, seed_everything\n",
        "from pytorch_lightning.callbacks import ModelCheckpoint,EarlyStopping\n",
        "import torchmetrics\n",
        "\n",
        "from transformers import BertForSequenceClassification, BertTokenizer, AdamW\n",
        "\n",
        "from sklearn.model_selection import train_test_split\n",
        "from sklearn.metrics import accuracy_score, precision_score, recall_score, f1_score\n",
        "\n",
        "import re\n",
        "import emoji\n",
        "from soynlp.normalizer import repeat_normalize\n",
        "\n",
        "#TPU 설정\n",
        "# resolver = tf.distribute.cluster_resolver.TPUClusterResolver(tpu='grpc://' + os.environ['COLAB_TPU_ADDR'])\n",
        "\n",
        "# tf.config.experimental_connect_to_cluster(resolver)\n",
        "# tf.tpu.experimental.initialize_tpu_system(resolver)"
      ]
    },
    {
      "cell_type": "code",
      "execution_count": null,
      "metadata": {
        "colab": {
          "base_uri": "https://localhost:8080/"
        },
        "id": "NiqDOWyWVOPD",
        "outputId": "1e9d043f-f787-4d57-b829-809a7d540982"
      },
      "outputs": [
        {
          "output_type": "stream",
          "name": "stdout",
          "text": [
            "Mounted at /content/drive\n"
          ]
        }
      ],
      "source": [
        "from google.colab import drive\n",
        "drive.mount('/content/drive')"
      ]
    },
    {
      "cell_type": "markdown",
      "metadata": {
        "id": "nyHyWQQQcufv"
      },
      "source": [
        "### 전처리 수정"
      ]
    },
    {
      "cell_type": "code",
      "execution_count": null,
      "metadata": {
        "colab": {
          "base_uri": "https://localhost:8080/",
          "height": 424
        },
        "id": "Xa8bjyRZcwdh",
        "outputId": "eab9e21f-7588-407e-a8dc-eab3a80ba228"
      },
      "outputs": [
        {
          "data": {
            "text/html": [
              "\n",
              "  <div id=\"df-dd4ac6ed-aeff-4b3a-852d-f2e8ab34045b\">\n",
              "    <div class=\"colab-df-container\">\n",
              "      <div>\n",
              "<style scoped>\n",
              "    .dataframe tbody tr th:only-of-type {\n",
              "        vertical-align: middle;\n",
              "    }\n",
              "\n",
              "    .dataframe tbody tr th {\n",
              "        vertical-align: top;\n",
              "    }\n",
              "\n",
              "    .dataframe thead th {\n",
              "        text-align: right;\n",
              "    }\n",
              "</style>\n",
              "<table border=\"1\" class=\"dataframe\">\n",
              "  <thead>\n",
              "    <tr style=\"text-align: right;\">\n",
              "      <th></th>\n",
              "      <th>content</th>\n",
              "      <th>label</th>\n",
              "    </tr>\n",
              "  </thead>\n",
              "  <tbody>\n",
              "    <tr>\n",
              "      <th>0</th>\n",
              "      <td>친구 남편이 암으로 세상을 떠났어. 보면서 우리 부부가 둘 다 건강하게 살아있는 게...</td>\n",
              "      <td>0</td>\n",
              "    </tr>\n",
              "    <tr>\n",
              "      <th>1</th>\n",
              "      <td>남자친구가 기념일을 까먹었어. 기분이 너무 안좋아.</td>\n",
              "      <td>1</td>\n",
              "    </tr>\n",
              "    <tr>\n",
              "      <th>2</th>\n",
              "      <td>숨소리마저 희미해진 할머니가 내게 미안하다고 하시고는 숨을 거두셨어.</td>\n",
              "      <td>3</td>\n",
              "    </tr>\n",
              "    <tr>\n",
              "      <th>3</th>\n",
              "      <td>이번에 정말 수고햇어욤 ㅎㅎ</td>\n",
              "      <td>0</td>\n",
              "    </tr>\n",
              "    <tr>\n",
              "      <th>4</th>\n",
              "      <td>퇴직을 한지 오래 되다 보니 사람들과 교류가 적어서 왠지 불안해.</td>\n",
              "      <td>1</td>\n",
              "    </tr>\n",
              "    <tr>\n",
              "      <th>...</th>\n",
              "      <td>...</td>\n",
              "      <td>...</td>\n",
              "    </tr>\n",
              "    <tr>\n",
              "      <th>66139</th>\n",
              "      <td>동기들이 다 퇴사하고 회사에 나만 남게 되었어. 동기들이 보고 싶고 회사에 가는 게...</td>\n",
              "      <td>3</td>\n",
              "    </tr>\n",
              "    <tr>\n",
              "      <th>66140</th>\n",
              "      <td>이번에 결혼을 약속했던 여자친구와 헤어지게 되었어.</td>\n",
              "      <td>3</td>\n",
              "    </tr>\n",
              "    <tr>\n",
              "      <th>66141</th>\n",
              "      <td>요즘 박보검이 대세더만...</td>\n",
              "      <td>5</td>\n",
              "    </tr>\n",
              "    <tr>\n",
              "      <th>66142</th>\n",
              "      <td>친구가 돈을 천만원 빌려달라는데 어떻게 해야 할지 모르겠어.</td>\n",
              "      <td>1</td>\n",
              "    </tr>\n",
              "    <tr>\n",
              "      <th>66143</th>\n",
              "      <td>세단어 노래 정말 감동이에요. 꽃길만 걷자구요~~^^</td>\n",
              "      <td>0</td>\n",
              "    </tr>\n",
              "  </tbody>\n",
              "</table>\n",
              "<p>66144 rows × 2 columns</p>\n",
              "</div>\n",
              "      <button class=\"colab-df-convert\" onclick=\"convertToInteractive('df-dd4ac6ed-aeff-4b3a-852d-f2e8ab34045b')\"\n",
              "              title=\"Convert this dataframe to an interactive table.\"\n",
              "              style=\"display:none;\">\n",
              "        \n",
              "  <svg xmlns=\"http://www.w3.org/2000/svg\" height=\"24px\"viewBox=\"0 0 24 24\"\n",
              "       width=\"24px\">\n",
              "    <path d=\"M0 0h24v24H0V0z\" fill=\"none\"/>\n",
              "    <path d=\"M18.56 5.44l.94 2.06.94-2.06 2.06-.94-2.06-.94-.94-2.06-.94 2.06-2.06.94zm-11 1L8.5 8.5l.94-2.06 2.06-.94-2.06-.94L8.5 2.5l-.94 2.06-2.06.94zm10 10l.94 2.06.94-2.06 2.06-.94-2.06-.94-.94-2.06-.94 2.06-2.06.94z\"/><path d=\"M17.41 7.96l-1.37-1.37c-.4-.4-.92-.59-1.43-.59-.52 0-1.04.2-1.43.59L10.3 9.45l-7.72 7.72c-.78.78-.78 2.05 0 2.83L4 21.41c.39.39.9.59 1.41.59.51 0 1.02-.2 1.41-.59l7.78-7.78 2.81-2.81c.8-.78.8-2.07 0-2.86zM5.41 20L4 18.59l7.72-7.72 1.47 1.35L5.41 20z\"/>\n",
              "  </svg>\n",
              "      </button>\n",
              "      \n",
              "  <style>\n",
              "    .colab-df-container {\n",
              "      display:flex;\n",
              "      flex-wrap:wrap;\n",
              "      gap: 12px;\n",
              "    }\n",
              "\n",
              "    .colab-df-convert {\n",
              "      background-color: #E8F0FE;\n",
              "      border: none;\n",
              "      border-radius: 50%;\n",
              "      cursor: pointer;\n",
              "      display: none;\n",
              "      fill: #1967D2;\n",
              "      height: 32px;\n",
              "      padding: 0 0 0 0;\n",
              "      width: 32px;\n",
              "    }\n",
              "\n",
              "    .colab-df-convert:hover {\n",
              "      background-color: #E2EBFA;\n",
              "      box-shadow: 0px 1px 2px rgba(60, 64, 67, 0.3), 0px 1px 3px 1px rgba(60, 64, 67, 0.15);\n",
              "      fill: #174EA6;\n",
              "    }\n",
              "\n",
              "    [theme=dark] .colab-df-convert {\n",
              "      background-color: #3B4455;\n",
              "      fill: #D2E3FC;\n",
              "    }\n",
              "\n",
              "    [theme=dark] .colab-df-convert:hover {\n",
              "      background-color: #434B5C;\n",
              "      box-shadow: 0px 1px 3px 1px rgba(0, 0, 0, 0.15);\n",
              "      filter: drop-shadow(0px 1px 2px rgba(0, 0, 0, 0.3));\n",
              "      fill: #FFFFFF;\n",
              "    }\n",
              "  </style>\n",
              "\n",
              "      <script>\n",
              "        const buttonEl =\n",
              "          document.querySelector('#df-dd4ac6ed-aeff-4b3a-852d-f2e8ab34045b button.colab-df-convert');\n",
              "        buttonEl.style.display =\n",
              "          google.colab.kernel.accessAllowed ? 'block' : 'none';\n",
              "\n",
              "        async function convertToInteractive(key) {\n",
              "          const element = document.querySelector('#df-dd4ac6ed-aeff-4b3a-852d-f2e8ab34045b');\n",
              "          const dataTable =\n",
              "            await google.colab.kernel.invokeFunction('convertToInteractive',\n",
              "                                                     [key], {});\n",
              "          if (!dataTable) return;\n",
              "\n",
              "          const docLinkHtml = 'Like what you see? Visit the ' +\n",
              "            '<a target=\"_blank\" href=https://colab.research.google.com/notebooks/data_table.ipynb>data table notebook</a>'\n",
              "            + ' to learn more about interactive tables.';\n",
              "          element.innerHTML = '';\n",
              "          dataTable['output_type'] = 'display_data';\n",
              "          await google.colab.output.renderOutput(dataTable, element);\n",
              "          const docLink = document.createElement('div');\n",
              "          docLink.innerHTML = docLinkHtml;\n",
              "          element.appendChild(docLink);\n",
              "        }\n",
              "      </script>\n",
              "    </div>\n",
              "  </div>\n",
              "  "
            ],
            "text/plain": [
              "                                                 content  label\n",
              "0      친구 남편이 암으로 세상을 떠났어. 보면서 우리 부부가 둘 다 건강하게 살아있는 게...      0\n",
              "1                           남자친구가 기념일을 까먹었어. 기분이 너무 안좋아.      1\n",
              "2                 숨소리마저 희미해진 할머니가 내게 미안하다고 하시고는 숨을 거두셨어.      3\n",
              "3                                        이번에 정말 수고햇어욤 ㅎㅎ      0\n",
              "4                   퇴직을 한지 오래 되다 보니 사람들과 교류가 적어서 왠지 불안해.      1\n",
              "...                                                  ...    ...\n",
              "66139  동기들이 다 퇴사하고 회사에 나만 남게 되었어. 동기들이 보고 싶고 회사에 가는 게...      3\n",
              "66140                       이번에 결혼을 약속했던 여자친구와 헤어지게 되었어.      3\n",
              "66141                                    요즘 박보검이 대세더만...      5\n",
              "66142                  친구가 돈을 천만원 빌려달라는데 어떻게 해야 할지 모르겠어.      1\n",
              "66143                      세단어 노래 정말 감동이에요. 꽃길만 걷자구요~~^^      0\n",
              "\n",
              "[66144 rows x 2 columns]"
            ]
          },
          "execution_count": 34,
          "metadata": {},
          "output_type": "execute_result"
        }
      ],
      "source": [
        "data_path = '/content/drive/MyDrive/Aiffel/AIFFELTON/preprocessing_data/propressing_train.csv'\n",
        "df = pd.read_csv(data_path)\n",
        "df"
      ]
    },
    {
      "cell_type": "code",
      "execution_count": null,
      "metadata": {
        "colab": {
          "base_uri": "https://localhost:8080/",
          "height": 113,
          "referenced_widgets": [
            "fb7c74a609ef469fa6bd57067f0cb110",
            "aeabb2b502a34bfa8efd63b44208889f",
            "6e794f12b480430aa92604e52a8fc29e",
            "bca497f54aaf479d95153041dc02629b",
            "2e746d357dae4f1aaa7934f481b28165",
            "26fe3c129d4541af935dc3e795c0183b",
            "163f04498ddb4533bb1ef5aee03a3d9d",
            "22ecc7fd928740008662f8dc19554b8f",
            "015633cf7274473fb9ee6729abafbd6b",
            "af7bb57d93e348339486a8f93b5f81f4",
            "6e258f8572e64c449c5e23d5ee4e8928",
            "e6544f6b860445e2be55049215c4ce34",
            "692b82f8f1b44333a16c525aa6b7960b",
            "ce129d777edb4752a8809a8eb7e49d90",
            "956c9d38de554a23b54d1582f06b518d",
            "0cfe919ba4f24e49a57574440ad8b5da",
            "9a4604fe5e9a4ffb8d95bf1493f2e14b",
            "bb6da4a8b917472c8c175071cb109036",
            "3e3c1ef5864a4de78539005fc3c6a6c4",
            "6767a32bb1344936a57ff5808e535c51",
            "9aca5e1bdfbf46489393d1fb1266e792",
            "d8340db64fc943e9bb0ee1467be26efb",
            "2ef618553618410aa1cd3444b7f51d01",
            "7ec02a6238cf4343b933fb30cdad4085",
            "6bab0c78a8334b24a41a5dbbbd690afa",
            "ea046b619617482191aeda6352f77134",
            "ee4a57e0ec8f4084900affc3c02c8b33",
            "3ed5a15759e54300842cc8a0c186ed39",
            "e1fec0a8b12443d5a848a97bad592a45",
            "0fecfdd26bea4f03b1843e90de99265e",
            "9ed2c47b0fe94407a07e97c77b46995f",
            "490ca86eca7645868834ef875df44be7",
            "322e5973406540219d97544f15e323a9"
          ]
        },
        "id": "fnY5zxWVdcq7",
        "outputId": "ff5f4f40-a387-492b-edf6-b51ede394942"
      },
      "outputs": [
        {
          "data": {
            "application/vnd.jupyter.widget-view+json": {
              "model_id": "fb7c74a609ef469fa6bd57067f0cb110",
              "version_major": 2,
              "version_minor": 0
            },
            "text/plain": [
              "Downloading vocab.txt:   0%|          | 0.00/244k [00:00<?, ?B/s]"
            ]
          },
          "metadata": {},
          "output_type": "display_data"
        },
        {
          "data": {
            "application/vnd.jupyter.widget-view+json": {
              "model_id": "e6544f6b860445e2be55049215c4ce34",
              "version_major": 2,
              "version_minor": 0
            },
            "text/plain": [
              "Downloading tokenizer_config.json:   0%|          | 0.00/49.0 [00:00<?, ?B/s]"
            ]
          },
          "metadata": {},
          "output_type": "display_data"
        },
        {
          "data": {
            "application/vnd.jupyter.widget-view+json": {
              "model_id": "2ef618553618410aa1cd3444b7f51d01",
              "version_major": 2,
              "version_minor": 0
            },
            "text/plain": [
              "Downloading config.json:   0%|          | 0.00/672 [00:00<?, ?B/s]"
            ]
          },
          "metadata": {},
          "output_type": "display_data"
        }
      ],
      "source": [
        "tokenizer = BertTokenizer.from_pretrained(\n",
        "            'beomi/kcbert-large'\n",
        "            )"
      ]
    },
    {
      "cell_type": "code",
      "execution_count": null,
      "metadata": {
        "id": "Fo8HSbiPdv-2"
      },
      "outputs": [],
      "source": [
        "def clean(x):\n",
        "  pattern = re.compile(f'[^ .,?!/@$%~％·∼()\\x00-\\x7Fㄱ-힣]+')\n",
        "  url_pattern = re.compile(\n",
        "    r'https?:\\/\\/(www\\.)?[-a-zA-Z0-9@:%._\\+~#=]{1,256}\\.[a-zA-Z0-9()]{1,6}\\b([-a-zA-Z0-9()@:%_\\+.~#?&//=]*)')\n",
        "  x = pattern.sub(' ', x)\n",
        "  x = url_pattern.sub('', x)\n",
        "  x = x.strip()\n",
        "  x = repeat_normalize(x, num_repeats=2) # ㅋㅋㅋㅋㅋㅋ .. -> ㅋㅋ 같이 반복되는 문자에 대해 변환 \n",
        "  return x\n",
        "sentence = []\n",
        "for i in df.content:\n",
        "  sentence.append(clean(str(i)))"
      ]
    },
    {
      "cell_type": "code",
      "execution_count": null,
      "metadata": {
        "colab": {
          "base_uri": "https://localhost:8080/"
        },
        "id": "DHJP3stJlt9M",
        "outputId": "9b0a6394-e98b-461b-8cda-16c4962fb9a3"
      },
      "outputs": [
        {
          "name": "stdout",
          "output_type": "stream",
          "text": [
            "6030 164 아니 원래 사드는 비밀리에 배치하고 배치한후에 발표하면 됐을것을 좌파들이 사드배치가 의심된다며 몇년전부터 개난리를 쳐왔고 그러니 비밀리에 못하고 공식적으로 배치결정을 할수밖에 없었고 중국은 당연히 반대하는거고 한국의 정치권이 잘못해놓고 왜 중국을 탓하냐 한국이 중국을 원망할 자격이 있냐 이거야\n",
            "18588 155 아 결국 친구한테 빌려준 돈을 떼이게 생겼어. 급전이 필요하다고 부탁해서 여러차례 빌려준게 벌써 천 만원이 넘는데 십 년이 지나도 갚을 생각을 안하는것 같아 연락을 했더니 전화번호도 바꾸고 잠적해버렸네. 나뿐만 아니고 이 친구한테 당한 사람이 한둘이 아냐. 아주 상습범이더구만.\n",
            "19006 299 쓰레기 쓰레기 쓰레기 쓰레기 쓰레기 쓰레기 쓰레기 쓰레기 쓰레기 쓰레기 쓰레기 쓰레기 쓰레기 쓰레기 쓰레기 쓰레기 쓰레기 쓰레기 쓰레기 쓰레기 쓰레기 쓰레기 쓰레기 쓰레기 쓰레기 쓰레기 쓰레기 쓰레기 쓰레기 쓰레기 쓰레기 쓰레기 쓰레기 쓰레기 쓰레기 쓰레기 쓰레기 쓰레기 쓰레기 쓰레기 쓰레기 쓰레기 쓰레기 쓰레기 쓰레기 쓰레기 쓰레기 쓰레기 쓰레기 쓰레기 쓰레기 쓰레기 쓰레기 쓰레기 쓰레기 쓰레기 쓰레기 쓰레기 쓰레기 쓰레기 쓰레기 쓰레기 쓰레기 쓰레기 쓰레기 쓰레기 쓰레기 쓰레기 쓰레기 쓰레기 쓰레기 쓰레기 쓰레기 쓰레기 쓰레기\n",
            "20022 295 사기꾼 바끄네 사기꾼 바끄네 사기꾼 바끄네 사기꾼 바끄네 사기꾼 바끄네 사기꾼 바끄네 사기꾼 바끄네 사기꾼 바끄네 사기꾼 바끄네 사기꾼 바끄네 사기꾼 바끄네 사기꾼 바끄네 사기꾼 바끄네 사기꾼 바끄네 사기꾼 바끄네 사기꾼 바끄네 사기꾼 바끄네 사기꾼 바끄네 사기꾼 바끄네 사기꾼 바끄네 사기꾼 바끄네 사기꾼 바끄네 사기꾼 바끄네 사기꾼 바끄네 사기꾼 바끄네 사기꾼 바끄네 사기꾼 바끄네 사기꾼 바끄네 사기꾼 바끄네 사기꾼 바끄네 사기꾼 바끄네 사기꾼 바끄네 사기꾼 바끄네 사기꾼 바끄네 사기꾼 바끄네 사기꾼 바끄네 니가인간이냐?\n",
            "33626 261 네이버 위키백과 황교안: 군대 면제 의혹, 여성비하 논란, 4.19 혼돈 5.16을혁명 논란, 전관예우 및 전화 변론, 법무부장관 인사청문회 위증, 법무부장관 임명 축하금 1억 1714만원 논란, 국정원 대선개입 사건 무마, 전관예우 수익기부 논란, 국가공무원법과 국가공무원 복무규정의 겸직금지 위반, 재산 신고 누락 논란, 총리 내정 후 세금 지각납부, 현역 부장검사2명 황교안 인사청문회 지원 논란, 교과서국정화 위안부합의 지지, 세월호 수사 외압과 인사보복...\n"
          ]
        }
      ],
      "source": [
        "for i,j in enumerate(sentence):\n",
        "  if len(j) > 150:\n",
        "    print(i,len(j),j)"
      ]
    },
    {
      "cell_type": "code",
      "execution_count": null,
      "metadata": {
        "colab": {
          "base_uri": "https://localhost:8080/",
          "height": 107
        },
        "id": "67iRjqgOqkJn",
        "outputId": "63a33717-46c3-44ce-da3a-421354080f30"
      },
      "outputs": [
        {
          "data": {
            "application/vnd.google.colaboratory.intrinsic+json": {
              "type": "string"
            },
            "text/plain": [
              "'쓰레기 쓰레기 쓰레기 쓰레기 쓰레기 쓰레기 쓰레기 쓰레기 쓰레기 쓰레기 쓰레기 쓰레기 쓰레기 쓰레기 쓰레기 쓰레기 쓰레기 쓰레기 쓰레기 쓰레기 쓰레기 쓰레기 쓰레기 쓰레기 쓰레기 쓰레기 쓰레기 쓰레기 쓰레기 쓰레기 쓰레기 쓰레기 쓰레기 쓰레기 쓰레기 쓰레기 쓰레기 쓰레기 쓰레기 쓰레기 쓰레기 쓰레기 쓰레기 쓰레기 쓰레기 쓰레기 쓰레기 쓰레기 쓰레기 쓰레기 쓰레기 쓰레기 쓰레기 쓰레기 쓰레기 쓰레기 쓰레기 쓰레기 쓰레기 쓰레기 쓰레기 쓰레기 쓰레기 쓰레기 쓰레기 쓰레기 쓰레기 쓰레기 쓰레기 쓰레기 쓰레기 쓰레기 쓰레기 쓰레기 쓰레기'"
            ]
          },
          "execution_count": 53,
          "metadata": {},
          "output_type": "execute_result"
        }
      ],
      "source": [
        "#soynlp normalize lib ---> ㅋㅋㅋㅋㅋㅋㅋㅋ => ㅋㅋ 토큰내에서 반복되는 문자에 대해서는 줄여줌 but 토큰이 반복되는 형태\n",
        "repeat_normalize(sentence[19006],num_repeats=2)"
      ]
    },
    {
      "cell_type": "code",
      "execution_count": null,
      "metadata": {
        "colab": {
          "base_uri": "https://localhost:8080/",
          "height": 35
        },
        "id": "rc2DDs1jutYB",
        "outputId": "43e72a5c-f1b9-4c5d-f147-15b1572ecb81"
      },
      "outputs": [
        {
          "output_type": "execute_result",
          "data": {
            "text/plain": [
              "'쓰레기 쓰레기'"
            ],
            "application/vnd.google.colaboratory.intrinsic+json": {
              "type": "string"
            }
          },
          "metadata": {},
          "execution_count": 5
        }
      ],
      "source": [
        "a = re.compile('(.+?\\s)+(\\\\1)')\n",
        "a.sub('\\\\1','쓰레기 쓰레기 쓰레기 쓰레기 쓰레기 쓰레기 쓰레기 쓰레기 쓰레기 쓰레기 쓰레기 쓰레기 쓰레기 쓰레기 쓰레기 쓰레기 쓰레기 쓰레기 쓰레기 쓰레기 쓰레기 쓰레기 쓰레기 쓰레기 쓰레기 쓰레기 쓰레기 쓰레기 쓰레기 쓰레기 쓰레기 쓰레기 쓰레기 쓰레기 쓰레기 쓰레기 쓰레기 쓰레기 쓰레기 쓰레기 쓰레기 쓰레기 쓰레기 쓰레기 쓰레기 쓰레기 쓰레기 쓰레기 쓰레기 쓰레기 쓰레기 쓰레기 쓰레기 쓰레기 쓰레기 쓰레기 쓰레기 쓰레기 쓰레기 쓰레기 쓰레기 쓰레기 쓰레기 쓰레기 쓰레기 쓰레기 쓰레기 쓰레기 쓰레기 쓰레기 쓰레기 쓰레기 쓰레기 쓰레기 쓰레기')"
      ]
    },
    {
      "cell_type": "code",
      "execution_count": null,
      "metadata": {
        "id": "QGc24NBZcn3R"
      },
      "outputs": [],
      "source": [
        "def preprocess_dataframe(df,tokenizer):\n",
        "    # emojis = ''.join(emoji.UNICODE_EMOJI.keys())\n",
        "    pattern = re.compile(f'[^ .,?!/@$%~％·∼()\\x00-\\x7Fㄱ-힣]+')\n",
        "    url_pattern = re.compile(\n",
        "        r'https?:\\/\\/(www\\.)?[-a-zA-Z0-9@:%._\\+~#=]{1,256}\\.[a-zA-Z0-9()]{1,6}\\b([-a-zA-Z0-9()@:%_\\+.~#?&//=]*)')\n",
        "\n",
        "    def clean(x):\n",
        "        x = pattern.sub(' ', x)\n",
        "        x = url_pattern.sub('', x)\n",
        "        x = x.strip()\n",
        "        x = repeat_normalize(x, num_repeats=2) # ㅋㅋㅋㅋㅋㅋ .. -> ㅋㅋ 같이 반복되는 문자에 대해 변환 \n",
        "        return x\n",
        "\n",
        "    df['content'] = df['content'].map(lambda x: tokenizer.encode(\n",
        "        clean(str(x)),\n",
        "        padding='max_length',\n",
        "        max_length=150,\n",
        "        truncation=True,\n",
        "    ))\n",
        "    return df"
      ]
    },
    {
      "cell_type": "code",
      "execution_count": null,
      "metadata": {
        "colab": {
          "base_uri": "https://localhost:8080/"
        },
        "id": "YoAnL3STdAKN",
        "outputId": "71208625-aa5d-414a-83e9-452b3e813fa8"
      },
      "outputs": [
        {
          "data": {
            "text/plain": [
              "66144"
            ]
          },
          "execution_count": 20,
          "metadata": {},
          "output_type": "execute_result"
        }
      ],
      "source": [
        "# for i in df.content:\n",
        "pro_df = preprocess_dataframe(df,tokenizer)\n",
        "len(pro_df.content)"
      ]
    },
    {
      "cell_type": "code",
      "execution_count": null,
      "metadata": {
        "colab": {
          "base_uri": "https://localhost:8080/",
          "height": 283
        },
        "id": "vjibx-0fKYc8",
        "outputId": "99f06512-535c-40c4-d3b7-f7d36f8d207d"
      },
      "outputs": [
        {
          "data": {
            "text/plain": [
              "<matplotlib.axes._subplots.AxesSubplot at 0x7f13c9d61390>"
            ]
          },
          "execution_count": 97,
          "metadata": {},
          "output_type": "execute_result"
        },
        {
          "data": {
            "image/png": "[encoded data removed]",
            "text/plain": [
              "<Figure size 432x288 with 1 Axes>"
            ]
          },
          "metadata": {},
          "output_type": "display_data"
        }
      ],
      "source": [
        "df['content'].str.len().hist()"
      ]
    },
    {
      "cell_type": "code",
      "execution_count": null,
      "metadata": {
        "colab": {
          "base_uri": "https://localhost:8080/",
          "height": 283
        },
        "id": "mptsxcXxK8-e",
        "outputId": "b2b9a873-2e04-4ae6-c2f3-deda590b0b43"
      },
      "outputs": [
        {
          "data": {
            "text/plain": [
              "<matplotlib.axes._subplots.AxesSubplot at 0x7f13c97e0d10>"
            ]
          },
          "execution_count": 99,
          "metadata": {},
          "output_type": "execute_result"
        },
        {
          "data": {
            "image/png": "[encoded data removed]",
            "text/plain": [
              "<Figure size 432x288 with 1 Axes>"
            ]
          },
          "metadata": {},
          "output_type": "display_data"
        }
      ],
      "source": [
        "import numpy as np\n",
        "df['content'].str.split().apply(lambda x: [len(i) for i in x]).map(lambda x: np.mean(x)).hist()"
      ]
    },
    {
      "cell_type": "code",
      "execution_count": null,
      "metadata": {
        "id": "_1yKDZgoLgoA"
      },
      "outputs": [],
      "source": []
    },
    {
      "cell_type": "code",
      "execution_count": null,
      "metadata": {
        "id": "3Sp1lhwuR-x8"
      },
      "outputs": [],
      "source": []
    },
    {
      "cell_type": "markdown",
      "metadata": {
        "id": "YMfXDlNbqcfr"
      },
      "source": [
        "\n",
        "### Data EDA"
      ]
    },
    {
      "cell_type": "code",
      "execution_count": null,
      "metadata": {
        "id": "VU-nXzuAU7wX"
      },
      "outputs": [],
      "source": [
        "data = pd.read_excel('/content/drive/MyDrive/Aiffel/AIFFELTON/감성대화/Training/한국어_단발성_대화_데이터셋.xlsx')\n",
        "data = data.iloc[:,:2]"
      ]
    },
    {
      "cell_type": "code",
      "execution_count": null,
      "metadata": {
        "id": "ZoD7UOWse02h"
      },
      "outputs": [],
      "source": [
        "data.loc[(data['Emotion'] == \"공포\"), 'Emotion'] = 0  #공포 => 0\n",
        "data.loc[(data['Emotion'] == \"놀람\"), 'Emotion'] = 1  #놀람 => 1\n",
        "data.loc[(data['Emotion'] == \"분노\"), 'Emotion'] = 2  #분노 => 2\n",
        "data.loc[(data['Emotion'] == \"슬픔\"), 'Emotion'] = 3  #슬픔 => 3\n",
        "data.loc[(data['Emotion'] == \"중립\"), 'Emotion'] = 4  #중립 => 4\n",
        "data.loc[(data['Emotion'] == \"행복\"), 'Emotion'] = 5  #행복 => 5\n",
        "data.loc[(data['Emotion'] == \"혐오\"), 'Emotion'] = 6  #혐오 => 6"
      ]
    },
    {
      "cell_type": "code",
      "execution_count": null,
      "metadata": {
        "colab": {
          "base_uri": "https://localhost:8080/"
        },
        "id": "Vlcxcjd_U7wX",
        "outputId": "5f1b0780-acd4-4184-9953-26f656702432"
      },
      "outputs": [
        {
          "data": {
            "text/html": [
              "\n",
              "  <div id=\"df-56435047-84b5-46a8-89dd-2efe060f0271\">\n",
              "    <div class=\"colab-df-container\">\n",
              "      <div>\n",
              "<style scoped>\n",
              "    .dataframe tbody tr th:only-of-type {\n",
              "        vertical-align: middle;\n",
              "    }\n",
              "\n",
              "    .dataframe tbody tr th {\n",
              "        vertical-align: top;\n",
              "    }\n",
              "\n",
              "    .dataframe thead th {\n",
              "        text-align: right;\n",
              "    }\n",
              "</style>\n",
              "<table border=\"1\" class=\"dataframe\">\n",
              "  <thead>\n",
              "    <tr style=\"text-align: right;\">\n",
              "      <th></th>\n",
              "      <th>Sentence</th>\n",
              "      <th>Emotion</th>\n",
              "    </tr>\n",
              "  </thead>\n",
              "  <tbody>\n",
              "    <tr>\n",
              "      <th>0</th>\n",
              "      <td>언니 동생으로 부르는게 맞는 일인가요..??</td>\n",
              "      <td>0</td>\n",
              "    </tr>\n",
              "    <tr>\n",
              "      <th>1</th>\n",
              "      <td>그냥 내 느낌일뿐겠지?</td>\n",
              "      <td>0</td>\n",
              "    </tr>\n",
              "    <tr>\n",
              "      <th>2</th>\n",
              "      <td>아직너무초기라서 그런거죠?</td>\n",
              "      <td>0</td>\n",
              "    </tr>\n",
              "    <tr>\n",
              "      <th>3</th>\n",
              "      <td>유치원버스 사고 낫다던데</td>\n",
              "      <td>0</td>\n",
              "    </tr>\n",
              "    <tr>\n",
              "      <th>4</th>\n",
              "      <td>근데 원래이런거맞나요</td>\n",
              "      <td>0</td>\n",
              "    </tr>\n",
              "  </tbody>\n",
              "</table>\n",
              "</div>\n",
              "      <button class=\"colab-df-convert\" onclick=\"convertToInteractive('df-56435047-84b5-46a8-89dd-2efe060f0271')\"\n",
              "              title=\"Convert this dataframe to an interactive table.\"\n",
              "              style=\"display:none;\">\n",
              "        \n",
              "  <svg xmlns=\"http://www.w3.org/2000/svg\" height=\"24px\"viewBox=\"0 0 24 24\"\n",
              "       width=\"24px\">\n",
              "    <path d=\"M0 0h24v24H0V0z\" fill=\"none\"/>\n",
              "    <path d=\"M18.56 5.44l.94 2.06.94-2.06 2.06-.94-2.06-.94-.94-2.06-.94 2.06-2.06.94zm-11 1L8.5 8.5l.94-2.06 2.06-.94-2.06-.94L8.5 2.5l-.94 2.06-2.06.94zm10 10l.94 2.06.94-2.06 2.06-.94-2.06-.94-.94-2.06-.94 2.06-2.06.94z\"/><path d=\"M17.41 7.96l-1.37-1.37c-.4-.4-.92-.59-1.43-.59-.52 0-1.04.2-1.43.59L10.3 9.45l-7.72 7.72c-.78.78-.78 2.05 0 2.83L4 21.41c.39.39.9.59 1.41.59.51 0 1.02-.2 1.41-.59l7.78-7.78 2.81-2.81c.8-.78.8-2.07 0-2.86zM5.41 20L4 18.59l7.72-7.72 1.47 1.35L5.41 20z\"/>\n",
              "  </svg>\n",
              "      </button>\n",
              "      \n",
              "  <style>\n",
              "    .colab-df-container {\n",
              "      display:flex;\n",
              "      flex-wrap:wrap;\n",
              "      gap: 12px;\n",
              "    }\n",
              "\n",
              "    .colab-df-convert {\n",
              "      background-color: #E8F0FE;\n",
              "      border: none;\n",
              "      border-radius: 50%;\n",
              "      cursor: pointer;\n",
              "      display: none;\n",
              "      fill: #1967D2;\n",
              "      height: 32px;\n",
              "      padding: 0 0 0 0;\n",
              "      width: 32px;\n",
              "    }\n",
              "\n",
              "    .colab-df-convert:hover {\n",
              "      background-color: #E2EBFA;\n",
              "      box-shadow: 0px 1px 2px rgba(60, 64, 67, 0.3), 0px 1px 3px 1px rgba(60, 64, 67, 0.15);\n",
              "      fill: #174EA6;\n",
              "    }\n",
              "\n",
              "    [theme=dark] .colab-df-convert {\n",
              "      background-color: #3B4455;\n",
              "      fill: #D2E3FC;\n",
              "    }\n",
              "\n",
              "    [theme=dark] .colab-df-convert:hover {\n",
              "      background-color: #434B5C;\n",
              "      box-shadow: 0px 1px 3px 1px rgba(0, 0, 0, 0.15);\n",
              "      filter: drop-shadow(0px 1px 2px rgba(0, 0, 0, 0.3));\n",
              "      fill: #FFFFFF;\n",
              "    }\n",
              "  </style>\n",
              "\n",
              "      <script>\n",
              "        const buttonEl =\n",
              "          document.querySelector('#df-56435047-84b5-46a8-89dd-2efe060f0271 button.colab-df-convert');\n",
              "        buttonEl.style.display =\n",
              "          google.colab.kernel.accessAllowed ? 'block' : 'none';\n",
              "\n",
              "        async function convertToInteractive(key) {\n",
              "          const element = document.querySelector('#df-56435047-84b5-46a8-89dd-2efe060f0271');\n",
              "          const dataTable =\n",
              "            await google.colab.kernel.invokeFunction('convertToInteractive',\n",
              "                                                     [key], {});\n",
              "          if (!dataTable) return;\n",
              "\n",
              "          const docLinkHtml = 'Like what you see? Visit the ' +\n",
              "            '<a target=\"_blank\" href=https://colab.research.google.com/notebooks/data_table.ipynb>data table notebook</a>'\n",
              "            + ' to learn more about interactive tables.';\n",
              "          element.innerHTML = '';\n",
              "          dataTable['output_type'] = 'display_data';\n",
              "          await google.colab.output.renderOutput(dataTable, element);\n",
              "          const docLink = document.createElement('div');\n",
              "          docLink.innerHTML = docLinkHtml;\n",
              "          element.appendChild(docLink);\n",
              "        }\n",
              "      </script>\n",
              "    </div>\n",
              "  </div>\n",
              "  "
            ],
            "text/plain": [
              "                   Sentence Emotion\n",
              "0  언니 동생으로 부르는게 맞는 일인가요..??       0\n",
              "1              그냥 내 느낌일뿐겠지?       0\n",
              "2            아직너무초기라서 그런거죠?       0\n",
              "3             유치원버스 사고 낫다던데       0\n",
              "4               근데 원래이런거맞나요       0"
            ]
          },
          "execution_count": 6,
          "metadata": {},
          "output_type": "execute_result"
        }
      ],
      "source": [
        "data.head()"
      ]
    },
    {
      "cell_type": "code",
      "execution_count": null,
      "metadata": {
        "id": "A0wnySQdfxTU"
      },
      "outputs": [],
      "source": [
        "# data.to_csv('/content/drive/MyDrive/Aiffel/AIFFELTON/감성대화/sen_data.csv')"
      ]
    },
    {
      "cell_type": "code",
      "execution_count": null,
      "metadata": {
        "colab": {
          "base_uri": "https://localhost:8080/"
        },
        "id": "GyQxxS0hfPoW",
        "outputId": "eaf6eba5-9250-49af-867c-8c085d3a8abd"
      },
      "outputs": [
        {
          "data": {
            "text/plain": [
              "array([0, 1, 2, 3, 4, 5, 6], dtype=object)"
            ]
          },
          "execution_count": 8,
          "metadata": {},
          "output_type": "execute_result"
        }
      ],
      "source": [
        "data.Emotion.unique()"
      ]
    },
    {
      "cell_type": "code",
      "execution_count": null,
      "metadata": {
        "id": "eaK_xChpU7wY"
      },
      "outputs": [],
      "source": [
        "len_list = []\n",
        "sen_list = []\n",
        "for i,j in enumerate(data.Sentence):\n",
        "    len_list.append(len(j))\n",
        "    sen_list.append((i,j))\n"
      ]
    },
    {
      "cell_type": "code",
      "execution_count": null,
      "metadata": {
        "colab": {
          "base_uri": "https://localhost:8080/"
        },
        "id": "SkVJS0gBU7wY",
        "outputId": "a4c2437d-557b-40d1-edd2-56e9e3d13ab3"
      },
      "outputs": [
        {
          "data": {
            "text/plain": [
              "38590"
            ]
          },
          "execution_count": 10,
          "metadata": {},
          "output_type": "execute_result"
        }
      ],
      "source": [
        "sen_list.sort()\n",
        "len_list.sort()\n",
        "# sorted(len_list,key=len_list[1])\n",
        "sen_list[-4][0]\n"
      ]
    },
    {
      "cell_type": "code",
      "execution_count": null,
      "metadata": {
        "colab": {
          "base_uri": "https://localhost:8080/"
        },
        "id": "1FMUt9W0U7wZ",
        "outputId": "b8011a5a-2003-4b09-f5a2-754cf5b43058"
      },
      "outputs": [
        {
          "data": {
            "text/plain": [
              "<matplotlib.axes._subplots.AxesSubplot at 0x7fa61ac9df50>"
            ]
          },
          "execution_count": 11,
          "metadata": {},
          "output_type": "execute_result"
        },
        {
          "data": {
            "image/png": "[encoded data removed]",
            "text/plain": [
              "<Figure size 432x288 with 1 Axes>"
            ]
          },
          "metadata": {},
          "output_type": "display_data"
        }
      ],
      "source": [
        "import seaborn as sns\n",
        "sns.lineplot(data=len_list)"
      ]
    },
    {
      "cell_type": "code",
      "execution_count": null,
      "metadata": {
        "colab": {
          "base_uri": "https://localhost:8080/"
        },
        "id": "UVcYaSOWU7wZ",
        "outputId": "c344f1a9-9f81-4b22-e6e7-301e1d182b55"
      },
      "outputs": [
        {
          "name": "stdout",
          "output_type": "stream",
          "text": [
            "244 0.056은 약한거 아니냐 지금 이용찬 정찬헌 정성훈 손영민 걸린거보면 싸그리다 취소수준인데\n",
            "1374 딴데 보는척하면서 저 보는 것 같고,그때 저도 큰눈뜨면서 당황해서 한발 늦게 눈을 돌려요..\n",
            "1496 빨갱이 기레기새끼 구조작업으로 사람 구하는게 아니라 북한군 죽이는데 쓰는 전쟁무기로 써야지.\n",
            "1681 물론 저야 첫 달이기에 월급에 대해서는 회사에서도 아직 아무런 말이 없지만솔직히 불안합니다.\n",
            "1953 나 매일 만원버스 타고 출퇴근하는데 설마 출퇴근시간은 버스 안줄일 거지?? 설마..아닐거야!\n",
            "2485 저소득층 무너지면 중산층이 저소득층이 되는 상황이 오는건 잘 알것이다 이제 대한민국은 망한다\n",
            "2689 학점은 좋은편인데아니면 그냥 방통대 유교과나와서 유치원다녀서 임용고시 준비하는게 나을까요..\n",
            "2780 운동 블로그랑 동영상은 열심히 보고 있는데 혹시 이러다 괜히 자세 잘못잡히지 않을까 싶어서요\n",
            "2835 혹시 다른 애니중에책걸상이 밀리는 그런 장면있는 애니아시는 분 있나요?ㅠㅠㅠㅠㅠㅠㅠㅠㅠㅠㅠㅠ\n",
            "2858 그런데어제 즉 6월 3일에 팬티에 갈색피가 비쳐서생리대를 했는데 색깔이 계속 갈색이에요...\n",
            "3680 미안하다는 말을 너무 많이 해서 미안하다고 이제 말도 못하겟고어떻게 하면 풀수 잇을까요??ㅜ\n",
            "4572  그때쯤 부터일주일에 두세번정도 화장실 가서 볼일[소변] 보고화장지에 묻은거 확인 해보면..\n",
            "4889 AI와 로봇으로 양극화는 더 심해질 것이므로 당장 대책을 마련해야 하는데 정부의 상태가?..\n",
            "6027 3살만 더 붙이면 20살이네 국제 결혼도 아니고 국내 커플 20살 차이는 세계 십안에 들것네\n",
            "6452 술먹고 운전하겠다는거 아니라 전날 먹은 술 혹시나 불면 나올까 걱정될때 쓰라고 달아논거 ㅡㅡ\n",
            "6476 호수같은거 대학생들이 술마시고 빠지는 경우는 있는데... 폰이 다른곳에 가있었다는건 뭐지??\n",
            "6761 어제부터 1998 작품 kbs 야망의 전설 보는중인데 90년대 히트작은 거의 최수종이더만..\n",
            "7274 남자들 버스에서 매일 만나는 호감가는 여자가있으면 여자가 내리고 나서도 맨날 빤히 쳐다봄??\n",
            "7651 여기서 개고기가 한국문화라며 입에 거품무는 것들은 개고기집 친인척들이거나 업자일 가능성 높지\n",
            "8439  헝가리가 멕시코 완전히 바르고 있슴 ㄷㄷㄷㄷㄷㄷㄷㄷㄷㄷㄷㄷㄷㄷㄷㄷㄷㄷㄷㄷㄷㄷㄷㄷㄷㄷㄷㄷㄷㄷ\n",
            "8453  그리고 국보는 동일하게 중요한것이지 나라에서 압장서서 국보의 높낮이를 따지다니 어이가 없네\n",
            "8624  참... 충격스럽네요...... ㅡㅡ;;; 헐.......................ㅠㅠ\n",
            "9416 그래 전진은 열심히 신화만해라 혹시나 무도에서 섭외 가도 보는 시청자들 위해서 절대 하지말고\n",
            "9560 조카가 작년에 면허를 일주일만에 따오길래 과정들어보니까 도로주행연습을 6시간한대더라 진심충격\n",
            "10117 살다살다 이름도 모르고 얼굴 한번 본 적 없는 사람이 부럽다고 생각하게 줄은 몰랐는데. ㅎ0\n",
            "10688 와 100만대당 24대면 불량률이 0.0024퍼 뿐이 안되는건데, 진짜 대단하다 전량회수는.\n",
            "10742 호날두는 종착역이 맨유 아닌가? 본인도 인터뷰에서 종종 맨유로 언젠가 돌아가고 싶다고 했는데\n",
            "11400  아직도 저 돼지일가가 인간인줄알고 대화라는게 가능하다고 생각하는 머저리들이 있는게 놀라움.\n",
            "11837 닭대가리년이 친중하며 진핑이한테 붙으니까 미국 오빠가 확돌아서네 ㅉㅉ 외교를 이딴식으로 하냐\n",
            "11871 열심히 나라 비판하고 권력 비판하고 그런 애들 중에서 제대로 군대 간 애들이 없는 것 같어?\n",
            "11972 대선후보들은 외교부 내 친일파 척결 공약해라 윤병세 포함 외교부 내 친일파 간첩죄로 처벌해라\n",
            "12136 닭근혜 보다 차라리 정치를 몰라도 이런 분들이 나라를 이끌면 백번이고 천번이고 더 잘할듯..\n",
            "12345 구체적 물증이 없으니 강제소환 못 하는 것이아니라 돈으로 산 변호인 덕분이겠지만.. 두고보자\n",
            "12761 꺼져라 쪽바리새 ㄲ ㅣ 들아!가서다시는 오지마라. 오면대사관쓸어버릴거다! 쪽 바 리 들아!!\n",
            "13428 국가 부패지수에는 눈귀 닫고 아스팔트 위에 싸질러 놓은 똥이 거름이라며 치우지 않으려는 꼴.\n",
            "13437 김기춘 자리에연연하지않고 마지막 봉사랍니다 개뿔 봉사 ? 박근네한테 끝까지봉사 잘한다 영감탱\n",
            "13456 와 여기 일베 엄청 많네죽기 직전까지 평생 전라도 욕이나 하면세 살아라 방콕 백수 찌질이들아\n",
            "13502 세상에서 제일 편하게 살고있는 김치년을 더 편하게 만들자는 이 취지의 밑바닥은 어디란 말이요\n",
            "13974 왜이리 부역자들이 많나요?...이제 그만하고..................꺼지라 시바르로마\n",
            "14312 스엠 여기 댓글정리좀 해줘라 한글도 못읽는것들이 제목만읽고 내용은 안읽고와서는 욕만 잔뜩한다\n",
            "14885 남의 눈에서 피눈물 냈으니 그사랑이 얼마나 깊다해도 이미 핏빛으로 얼룩이고 있지 않을까~~~\n",
            "15399 국민들이 이젠 박큰애를 보는게 너무 힘들고 어이없다......니가 싼 똥 구려서 피하고 싶다\n",
            "15590 저게 21만이라고 ??? 미친... 차라리 하이엔드급 이어폰이나 헤드셋을 사라 미친짓이다..\n",
            "16349 안민석 의원 그렇게 쉽게 한사람의 명예를 훼손한것 면책특권 뒤에 숨으려 하지 말고 사과해라.\n",
            "16389 정신병자가 너무 사회를 혼란하게하면 중세 마녀사냥때처럼 화형시키자. OOO 때 려 잡 자!!\n",
            "16432 그 사실이 무엇이든 이런 시도 자체가 문제가 있음을 스스로 증명해보인거다!쓰레기보다 못한것!\n",
            "16819 진짜 친박인지 뭔박인지 두개골 터져서 우동사리가 튀어나올때까지 대가리 벽돌로 찍어버리고 싶다\n",
            "17771 다들 이제 곧 상반기다...채용 정보 랑 공채 등등등등 많이 뜰거다 아는데....아는데...\n",
            "17877 아돈 너무 안되면 야간하고그래도 할만하면 주간뛰려고하는데뭘우째해야대.ㅠ 도와줘 편돌순님아들.\n",
            "18122 공기계를 사고 싶은데 비싸긴 비싸네.. 스펙을 따지면 분명 살만한데 컴퓨터 한대값이라 고민중\n",
            "19635 9개월 되기 한달전에 다른 남자가 낚아가면 기분더럽겠다 ㅋㅋㅋㅋㅋ.... (내 얘기구나..)\n",
            "19796 2NE1처럼 명곡 수도없이 많이 내놓은 그룹도 결국 해체됐다는 사실을 받아들이기 힘들다...\n",
            "20419 다른 군대아니고 해군이라서 좀 편하겠지란 생각이 있긴하지만그래도 엄연한 군대 ㅠㅠㅠㅠㅠㅠㅠㅠ\n",
            "20420  특히 무언가 화제거리에 대해 극단적으로 안좋게 말하면 약간 제 의식도 그런쪽에 쏠려요 ㅠㅠ\n",
            "20854  오해가있엇다고 미안하다고 하니까그넘도 자기도 그짓하고난후 존나후회했다고 하더라고요 ㅋㅋ;;\n",
            "20921 퇴근은 여섯시반일은 옛날옛적에 끝났고 할짓없어서 여기 처음 글 남겨보네요........ㅠ_ㅠ\n",
            "20957 우리가 다시 만나게된다면네가 다시 나한테로 와준다면왜이제왓냐고 너무밉다고 울고불고 때안쓸거야\n",
            "21255 저녁을 가족과 함께 보내고 싶은게 너무 큰 바램인가?.. 어느순간 부터 가족과 거리감을 느낌\n",
            "21550  가진건 젊음 뿐이고.헬게이트 여야만 먹고살수있는 현실...결국 모든게 살이 문제구나 싶다.\n",
            "21694 그러다가 제대하면 헤어지고..이런 여자들은 그냥 휴가 나올 때 한번 하고이런 용도라던데...\n",
            "21920  꼭 다이어트 아니더라도 마일러 사이러스 운동해서 뭔가 효과를 봤다거나 한 판녀들ㅜㅜㅠㅠ..\n",
            "22373  어린애가 둘이나 있어서 물건 가지고 가기 힘드니 담부턴 집으로 가져다 달라고 부탁드렸네요.\n",
            "22380 LG V20 지금 나오면 완전 묻힐텐데 갤노트7은 제품도 제품이지만 출시타이밍이 정말좋았다.\n",
            "22553 아프지 않아서 계속던지다 아파서 안던지게되는게 아니라, 아프기전에 관리가 되어야 하는것이다.\n",
            "22688 트럼프는 바보 같군 미군이 동맹국에 영향력 행사위해 파병한거지ㅠ지킬려고 파병한걸로 아나보다.\n",
            "22763 일본처럼 동남아나 조선족 엄격하게 관리하는 나라에서는 몇몇 자국인 빼고 크게 문제될거 없을듯\n",
            "22959 임대아파트 외제차.. 주민들차도 있겠지만 임대라 관리 허술한거 이용하는 얌체 딜러들꺼도많다.\n",
            "23657 용서 받고 싶거든 한국사능력검정시험 고급(1급) 따서 SNS에 인증하고 사과문 다시 올려라.\n",
            "24006 창조비맄ㅋㅋㅋ 되도 않은 거 만들면서 세금은 세금대로 줄줄, 이것이 그 유명한 창조경제군요!\n",
            "24201 연기 잘 하는 이유를 알겠음. 기사에 캐릭터 분석한 거 보는데 와 맞아맞아 이러면서 보게 됨\n",
            "24297 시청률이 3사 비교해서 바닥이다 보니 새시즌 구상중에 말이 새어 나가서 판이 엎어진듯....\n",
            "24783 대한민국 대단하다. 사람이 몇명이 죽었는데... 돈 있으면 안돼는게 없구나. 법이 없는 나라\n",
            "24856 이제 순실전자 쓰지말고 독립군 후원했던 lg 전자 씁시다. 저희 가족은 20년째 삼성 안써요\n",
            "24866 글쎄다 규리야 리하야 시하야혼자 가겠다는 넘이 행복했었다는 소리는 들어 본 적이 없어서리??\n",
            "24895 용병합작25승 원삼12승 상수 3할치면 무조건 4강간다 그러나 그것이 뜻대로 안되니 문제지.\n",
            "25539 빨리 핵무기 만들어서 중,일,북에 핵폭탄 날려서 동북아 제패하여 식민화시키고 최강자가되야한다\n",
            "25557 정용화는 무혐의라지만 너무이르고 이연희는 연기력이 후달리고 최우식 윤박이 하기엔 너무 아깝다\n",
            "26343 연기를 못하는 건 아닌데, 여주를 할 만큼 드라마를 이끌 능력이 있다고 보이지는 않는데...\n",
            "26622 혼모노들은 별루 없던데 저번에 3회차 관람갔을때 엔딩곡 따라부르자고 외쳤는데 아무도 안불렀음\n",
            "26737 고딩때 발가락에 생에 처음 쥐났을때 잉?? 발까락이 왜 꼬이지?? 이런 생각 들었는데,,,,\n",
            "27005  기본적으로 개도국이 많고 축구의 열정이 크지 않은 아시아대륙의 수준은 사실상 하향 평준화.\n",
            "27556 어차피 전 중국어를 공부할 생각이라 여기 신청했는데보니까 괜찮은 거 같아서 남겨 봅니다 ~!\n",
            "28623 같이 사회보는 장근석한테도 막던지던데 그분위기에 안정적으로 대처하는 장근석이 진짜 프로였다.\n",
            "28871 직가님 진찌 배우신분ㅜㅜㅜㅜㅜ원년멤버 그대로가야 의미가 있다는 말에 전적으로 동의합니다ㅜㅜㅜ\n",
            "28884 춤추고 노래하는 고지용씨보다 자기일 멋지게 하며 큰 포부갖고 있는것도 보기좋고 멋지시네요~~\n",
            "28897 63번버스 매일타는데 다른기사님들보다 참 젊은기사분이라고 생각했었는데 멋지시기까지 하네요!!\n",
            "28907 네 그래야죠 뭐라하든 신경쓰실거없습니다 지금까지해온것처럼만 잘준비해주세요!!힘내세요 특검!!\n",
            "29055 로즈 데뷔골 기억난다 아스널전 코너킥 상황에서 뒤로 흘러 나온 골을 논스톱 발리로 그냥ㅋㅋㅋ\n",
            "29097 떳떳하게 벗고 활동하면서 치료되는 과정도 같이 지켜보면 보는 사람들이 더 기뻐할것 같아요~~\n",
            "29477 드라마 존잼. 도깨비씨 액션에 사극에 뽀뽀씬에, 저승씨랑 터널에서 걸어주시고 종합선물세트였네\n",
            "31537 우리형 환한 미소봐라 세상을 다가진 기분이다 지금 형이 기분이 매우좋다 클럽아메리카 조심해라\n",
            "32019 종민님 똑똑해진듯. 작년 수상소감은 어리버리 하더니. 오늘은 말도 잘하네. 정말 천재 ^ ^\n",
            "32554 백종원님 구수한 말투에 요리도 최고시고 센스가 넘치시고 집중할때 삐죽 튀어나온 입 섹시해요!\n",
            "33481 오늘날 안중근의사가 살아계셨더라면 아베보다 이 윤가넘부터 총으로 대갈통을 쐈을텐데......\n",
            "33610 도배다시하고 화장대 새로 설치하고 변기 갈아주고 시술자와 미용사 수행원으로 두면 나올려나??\n",
            "33901 늙으면 뜨신 구들목이 제격인데, 닭새끼 한 마리 목숨 연명시켜 보겠다고 노인네들두 고생이네,\n",
            "34072  친구새낀 대학때문에 바쁜데 같이좀하자고 볼멘소리햇더니 이번에 대학 연합 엠티도 빠진다네여.\n",
            "34577  저 멍청한 무능하며 파렴치의 극치를 보여주는 박근혜가 국회가서 뭐 \" 구국의 개헌\" ㅋㅋㅋ\n",
            "34757  특히 SNS에 글 남겨서 누가보면 크라운제이로부터의 피해자로 인식케 될수도 있게 만들었어.\n",
            "34810  마치 좌파 애들이 힘껏 변명하는, 사회주의 자체는 좋은 의도에서 나왔다고 하는 것과 같이.\n",
            "34844  지금 이 곳 댓글만 보아도 남자들의 경우 피임에 대해 안일한 생각을 가진 것 같이 보인다.\n",
            "35039 폭스바겐 헐값에 대량 구매하는 호구들 덕에 외국계 회사들이 우리나라 자체를 호구로 보게됐다.\n",
            "35157 다카키마사오 이명박그네 ~~~그리고 친일후손집단 개누리~~독도 머지않아 다케시마로 바뀌겠군~\n",
            "35175 존나 웃겨 학대와 유기 사실 개싫으면 키우지도 않는다 새끼가 귀여워 키우다 질리니 변하는거지\n",
            "35218 국민이 모여 나라를 이루는건데 국민이 미개하니 나라가 이모양 이꼴 아니겠나 -몽Junior-\n",
            "35509 저번 폭발폰 조사 종 이라면서 아직도 감감무소식이네 일주일이면 조사하고도 남는 시간 아닌가?\n",
            "36005 그렇게 어버이연합과 엄마부대라는것들이 설쳐대더니 진짜 어디다 그런이름을 붙이고 욕을먹이는건지\n",
            "37161 나 가상현실기 사성 해봤는댕 헉 걍 애들 장남검수준 별로 몰입도 않돼긍 속았단 느낌 들더라구\n",
            "37192 머리 끄뎅이 잡아 방에 처넣고 대갈 좃놔 공격 해주고 싶네 왜 그래? 쯔위가 멀 잘못 했냐?\n",
            "37202 믿을 사람이 없어서 딱 봐도 나라 들쑤셔놓기만할 애를... 힐러리라는 모범답안을 두고..어휴\n",
            "37493 선진국은 저렇게 모든 사람들을 배려하지만 미개한 헬조선은 수탈하기에만 바쁘다 이기야!! ㅋㅋ\n",
            "37505 천당 가고 싶으면 십일조 하고 헌금해라. 부처에게도 헌금내라. 뭐는 개 풀뜻어 먹는 소리인지\n",
            "37828 아이폰 이번에 산입장에서 왜 사람들이 아이폰 아이폰했는지 전혀 모르겠다 갔다 버리고싶다 진짜\n",
            "38085 난 벌금 세금 안낸다ㅋ재판해라 할 말 졸라 많으니깐..이런 개같은 나라에 단돈 일원도 못준다\n",
            "38091 5만원 미만은 괜찮은걸로 알고 있었는데국회의원, 나라님은 그리두 많은 비리가 있는데,,,쯧쯧\n",
            "38190 우리나라에 예수가 나타나서 불평등 해소하자고 해도 포퓰리즘이라고 입에 거품 물 ㅅㄲ들 널렸네\n",
            "38324 옳고 그름이 기준이 아닌 무리들 박그네를 위해서라면 국민에게 총질도 할놈들이참에 쓸어버려야지\n",
            "38514 한시즌을 성공적으로 보낸것도 아니고 시즌초반 잘한다고 이런기사며 면제며 하는건 그닥 별루인듯\n",
            "38543 하여간 얼굴색 하나 안 변하고 뻔뻔하게 거짓말 잘하는 여자라는건 대한민국에서 알아줘야 한다.\n"
          ]
        }
      ],
      "source": [
        "for i in sen_list:\n",
        "    if len(i[1]) == 51:\n",
        "        print(i[0],i[1])"
      ]
    },
    {
      "cell_type": "code",
      "execution_count": null,
      "metadata": {
        "colab": {
          "base_uri": "https://localhost:8080/"
        },
        "id": "26BeavcWU7wZ",
        "outputId": "51a11afe-dc75-43a4-f8b6-4a074c5907c8"
      },
      "outputs": [
        {
          "data": {
            "text/plain": [
              "51"
            ]
          },
          "execution_count": 13,
          "metadata": {},
          "output_type": "execute_result"
        }
      ],
      "source": [
        "len('하여간 얼굴색 하나 안 변하고 뻔뻔하게 거짓말 잘하는 여자라는건 대한민국에서 알아줘야 한다.')"
      ]
    },
    {
      "cell_type": "code",
      "execution_count": null,
      "metadata": {
        "colab": {
          "base_uri": "https://localhost:8080/"
        },
        "id": "lT-iIoAXU7wa",
        "outputId": "37fd44fe-c23a-46a7-96b1-1c110a3ab5f9"
      },
      "outputs": [
        {
          "data": {
            "text/plain": [
              "array([0, 1, 2, 3, 4, 5, 6], dtype=object)"
            ]
          },
          "execution_count": 14,
          "metadata": {},
          "output_type": "execute_result"
        }
      ],
      "source": [
        "data.Emotion.unique()"
      ]
    },
    {
      "cell_type": "code",
      "execution_count": null,
      "metadata": {
        "id": "xB-eCuliU7wa"
      },
      "outputs": [],
      "source": [
        "# x_train,x_val = train_test_split(data,test_size=0.2,random_state=42)\n",
        "# x_train.to_csv('/content/drive/MyDrive/Aiffel/AIFFELTON/감성대화/sen_train.csv')\n",
        "# x_val.to_csv('/content/drive/MyDrive/Aiffel/AIFFELTON/감성대화/sen_val.csv')"
      ]
    },
    {
      "cell_type": "code",
      "execution_count": null,
      "metadata": {
        "id": "0SB_qK4ffioJ"
      },
      "outputs": [],
      "source": [
        "li = [x for x in range(5)]"
      ]
    },
    {
      "cell_type": "markdown",
      "metadata": {
        "id": "9fFsV0ukqcf5"
      },
      "source": [
        "### data_load"
      ]
    },
    {
      "cell_type": "code",
      "execution_count": null,
      "metadata": {
        "colab": {
          "base_uri": "https://localhost:8080/"
        },
        "id": "-gIb5I2aqcf6",
        "outputId": "b05df596-8e6e-4fc1-be1e-b92fc3004ef6"
      },
      "outputs": [
        {
          "data": {
            "text/html": [
              "\n",
              "  <div id=\"df-ad43be4a-6dd0-49ec-aa71-a02328bb7626\">\n",
              "    <div class=\"colab-df-container\">\n",
              "      <div>\n",
              "<style scoped>\n",
              "    .dataframe tbody tr th:only-of-type {\n",
              "        vertical-align: middle;\n",
              "    }\n",
              "\n",
              "    .dataframe tbody tr th {\n",
              "        vertical-align: top;\n",
              "    }\n",
              "\n",
              "    .dataframe thead th {\n",
              "        text-align: right;\n",
              "    }\n",
              "</style>\n",
              "<table border=\"1\" class=\"dataframe\">\n",
              "  <thead>\n",
              "    <tr style=\"text-align: right;\">\n",
              "      <th></th>\n",
              "      <th>content</th>\n",
              "      <th>emotion</th>\n",
              "      <th>label</th>\n",
              "    </tr>\n",
              "  </thead>\n",
              "  <tbody>\n",
              "    <tr>\n",
              "      <th>0</th>\n",
              "      <td>아내가 드디어 출산하게 되어서 정말 신이 나.</td>\n",
              "      <td>기쁨</td>\n",
              "      <td>0</td>\n",
              "    </tr>\n",
              "    <tr>\n",
              "      <th>1</th>\n",
              "      <td>당뇨랑 합병증 때문에 먹어야 할 약이 열 가지가 넘어가니까 스트레스야.</td>\n",
              "      <td>긴장</td>\n",
              "      <td>1</td>\n",
              "    </tr>\n",
              "    <tr>\n",
              "      <th>2</th>\n",
              "      <td>고등학교에 올라오니 중학교 때보다 수업이 갑자기 어려워져서 당황스러워.</td>\n",
              "      <td>긴장</td>\n",
              "      <td>1</td>\n",
              "    </tr>\n",
              "    <tr>\n",
              "      <th>3</th>\n",
              "      <td>재취업이 돼서 받게 된 첫 월급으로 온 가족이 외식을 할 예정이야. 너무 행복해.</td>\n",
              "      <td>기쁨</td>\n",
              "      <td>0</td>\n",
              "    </tr>\n",
              "    <tr>\n",
              "      <th>4</th>\n",
              "      <td>빚을 드디어 다 갚게 되어서 이제야 안도감이 들어.</td>\n",
              "      <td>평화</td>\n",
              "      <td>2</td>\n",
              "    </tr>\n",
              "    <tr>\n",
              "      <th>...</th>\n",
              "      <td>...</td>\n",
              "      <td>...</td>\n",
              "      <td>...</td>\n",
              "    </tr>\n",
              "    <tr>\n",
              "      <th>82676</th>\n",
              "      <td>솔직히 예보 제대로 못하는 데 세금이라도 아끼게 그냥 폐지해라..</td>\n",
              "      <td>분노</td>\n",
              "      <td>4</td>\n",
              "    </tr>\n",
              "    <tr>\n",
              "      <th>82677</th>\n",
              "      <td>재미가 없으니 망하지</td>\n",
              "      <td>분노</td>\n",
              "      <td>4</td>\n",
              "    </tr>\n",
              "    <tr>\n",
              "      <th>82678</th>\n",
              "      <td>공장 도시락 비우생적임 아르바이트했는데 화장실가성 손도 않씯고 재료 담고 바닥 떨어...</td>\n",
              "      <td>분노</td>\n",
              "      <td>4</td>\n",
              "    </tr>\n",
              "    <tr>\n",
              "      <th>82679</th>\n",
              "      <td>코딱지 만한 나라에서 지들끼리 피터지게 싸우는 센징 클래스 ㅉㅉㅉ</td>\n",
              "      <td>분노</td>\n",
              "      <td>4</td>\n",
              "    </tr>\n",
              "    <tr>\n",
              "      <th>82680</th>\n",
              "      <td>와이프도 그렇고 댓글 다 볼텐데 이휘재 좀 하차 하라고 전해주세요</td>\n",
              "      <td>분노</td>\n",
              "      <td>4</td>\n",
              "    </tr>\n",
              "  </tbody>\n",
              "</table>\n",
              "<p>82681 rows × 3 columns</p>\n",
              "</div>\n",
              "      <button class=\"colab-df-convert\" onclick=\"convertToInteractive('df-ad43be4a-6dd0-49ec-aa71-a02328bb7626')\"\n",
              "              title=\"Convert this dataframe to an interactive table.\"\n",
              "              style=\"display:none;\">\n",
              "        \n",
              "  <svg xmlns=\"http://www.w3.org/2000/svg\" height=\"24px\"viewBox=\"0 0 24 24\"\n",
              "       width=\"24px\">\n",
              "    <path d=\"M0 0h24v24H0V0z\" fill=\"none\"/>\n",
              "    <path d=\"M18.56 5.44l.94 2.06.94-2.06 2.06-.94-2.06-.94-.94-2.06-.94 2.06-2.06.94zm-11 1L8.5 8.5l.94-2.06 2.06-.94-2.06-.94L8.5 2.5l-.94 2.06-2.06.94zm10 10l.94 2.06.94-2.06 2.06-.94-2.06-.94-.94-2.06-.94 2.06-2.06.94z\"/><path d=\"M17.41 7.96l-1.37-1.37c-.4-.4-.92-.59-1.43-.59-.52 0-1.04.2-1.43.59L10.3 9.45l-7.72 7.72c-.78.78-.78 2.05 0 2.83L4 21.41c.39.39.9.59 1.41.59.51 0 1.02-.2 1.41-.59l7.78-7.78 2.81-2.81c.8-.78.8-2.07 0-2.86zM5.41 20L4 18.59l7.72-7.72 1.47 1.35L5.41 20z\"/>\n",
              "  </svg>\n",
              "      </button>\n",
              "      \n",
              "  <style>\n",
              "    .colab-df-container {\n",
              "      display:flex;\n",
              "      flex-wrap:wrap;\n",
              "      gap: 12px;\n",
              "    }\n",
              "\n",
              "    .colab-df-convert {\n",
              "      background-color: #E8F0FE;\n",
              "      border: none;\n",
              "      border-radius: 50%;\n",
              "      cursor: pointer;\n",
              "      display: none;\n",
              "      fill: #1967D2;\n",
              "      height: 32px;\n",
              "      padding: 0 0 0 0;\n",
              "      width: 32px;\n",
              "    }\n",
              "\n",
              "    .colab-df-convert:hover {\n",
              "      background-color: #E2EBFA;\n",
              "      box-shadow: 0px 1px 2px rgba(60, 64, 67, 0.3), 0px 1px 3px 1px rgba(60, 64, 67, 0.15);\n",
              "      fill: #174EA6;\n",
              "    }\n",
              "\n",
              "    [theme=dark] .colab-df-convert {\n",
              "      background-color: #3B4455;\n",
              "      fill: #D2E3FC;\n",
              "    }\n",
              "\n",
              "    [theme=dark] .colab-df-convert:hover {\n",
              "      background-color: #434B5C;\n",
              "      box-shadow: 0px 1px 3px 1px rgba(0, 0, 0, 0.15);\n",
              "      filter: drop-shadow(0px 1px 2px rgba(0, 0, 0, 0.3));\n",
              "      fill: #FFFFFF;\n",
              "    }\n",
              "  </style>\n",
              "\n",
              "      <script>\n",
              "        const buttonEl =\n",
              "          document.querySelector('#df-ad43be4a-6dd0-49ec-aa71-a02328bb7626 button.colab-df-convert');\n",
              "        buttonEl.style.display =\n",
              "          google.colab.kernel.accessAllowed ? 'block' : 'none';\n",
              "\n",
              "        async function convertToInteractive(key) {\n",
              "          const element = document.querySelector('#df-ad43be4a-6dd0-49ec-aa71-a02328bb7626');\n",
              "          const dataTable =\n",
              "            await google.colab.kernel.invokeFunction('convertToInteractive',\n",
              "                                                     [key], {});\n",
              "          if (!dataTable) return;\n",
              "\n",
              "          const docLinkHtml = 'Like what you see? Visit the ' +\n",
              "            '<a target=\"_blank\" href=https://colab.research.google.com/notebooks/data_table.ipynb>data table notebook</a>'\n",
              "            + ' to learn more about interactive tables.';\n",
              "          element.innerHTML = '';\n",
              "          dataTable['output_type'] = 'display_data';\n",
              "          await google.colab.output.renderOutput(dataTable, element);\n",
              "          const docLink = document.createElement('div');\n",
              "          docLink.innerHTML = docLinkHtml;\n",
              "          element.appendChild(docLink);\n",
              "        }\n",
              "      </script>\n",
              "    </div>\n",
              "  </div>\n",
              "  "
            ],
            "text/plain": [
              "                                                 content emotion  label\n",
              "0                              아내가 드디어 출산하게 되어서 정말 신이 나.      기쁨      0\n",
              "1                당뇨랑 합병증 때문에 먹어야 할 약이 열 가지가 넘어가니까 스트레스야.      긴장      1\n",
              "2                고등학교에 올라오니 중학교 때보다 수업이 갑자기 어려워져서 당황스러워.      긴장      1\n",
              "3          재취업이 돼서 받게 된 첫 월급으로 온 가족이 외식을 할 예정이야. 너무 행복해.      기쁨      0\n",
              "4                           빚을 드디어 다 갚게 되어서 이제야 안도감이 들어.      평화      2\n",
              "...                                                  ...     ...    ...\n",
              "82676               솔직히 예보 제대로 못하는 데 세금이라도 아끼게 그냥 폐지해라..      분노      4\n",
              "82677                                        재미가 없으니 망하지      분노      4\n",
              "82678  공장 도시락 비우생적임 아르바이트했는데 화장실가성 손도 않씯고 재료 담고 바닥 떨어...      분노      4\n",
              "82679               코딱지 만한 나라에서 지들끼리 피터지게 싸우는 센징 클래스 ㅉㅉㅉ      분노      4\n",
              "82680               와이프도 그렇고 댓글 다 볼텐데 이휘재 좀 하차 하라고 전해주세요      분노      4\n",
              "\n",
              "[82681 rows x 3 columns]"
            ]
          },
          "execution_count": 17,
          "metadata": {},
          "output_type": "execute_result"
        }
      ],
      "source": [
        "data_pro = pd.read_excel('/content/drive/MyDrive/Aiffel/AIFFELTON/preprocessing_data/data_processing_re(82681).xlsx')\n",
        "data_pro"
      ]
    },
    {
      "cell_type": "code",
      "execution_count": null,
      "metadata": {
        "colab": {
          "base_uri": "https://localhost:8080/"
        },
        "id": "GEQhVMNTqcf7",
        "outputId": "1a39500a-0a17-4c1e-f07c-6f765446e7b9"
      },
      "outputs": [
        {
          "data": {
            "text/html": [
              "\n",
              "  <div id=\"df-490eaeb5-b1b5-4c77-aad9-6c8088f78e06\">\n",
              "    <div class=\"colab-df-container\">\n",
              "      <div>\n",
              "<style scoped>\n",
              "    .dataframe tbody tr th:only-of-type {\n",
              "        vertical-align: middle;\n",
              "    }\n",
              "\n",
              "    .dataframe tbody tr th {\n",
              "        vertical-align: top;\n",
              "    }\n",
              "\n",
              "    .dataframe thead th {\n",
              "        text-align: right;\n",
              "    }\n",
              "</style>\n",
              "<table border=\"1\" class=\"dataframe\">\n",
              "  <thead>\n",
              "    <tr style=\"text-align: right;\">\n",
              "      <th></th>\n",
              "      <th>content</th>\n",
              "      <th>label</th>\n",
              "    </tr>\n",
              "  </thead>\n",
              "  <tbody>\n",
              "    <tr>\n",
              "      <th>0</th>\n",
              "      <td>아내가 드디어 출산하게 되어서 정말 신이 나.</td>\n",
              "      <td>0</td>\n",
              "    </tr>\n",
              "    <tr>\n",
              "      <th>1</th>\n",
              "      <td>당뇨랑 합병증 때문에 먹어야 할 약이 열 가지가 넘어가니까 스트레스야.</td>\n",
              "      <td>1</td>\n",
              "    </tr>\n",
              "    <tr>\n",
              "      <th>2</th>\n",
              "      <td>고등학교에 올라오니 중학교 때보다 수업이 갑자기 어려워져서 당황스러워.</td>\n",
              "      <td>1</td>\n",
              "    </tr>\n",
              "    <tr>\n",
              "      <th>3</th>\n",
              "      <td>재취업이 돼서 받게 된 첫 월급으로 온 가족이 외식을 할 예정이야. 너무 행복해.</td>\n",
              "      <td>0</td>\n",
              "    </tr>\n",
              "    <tr>\n",
              "      <th>4</th>\n",
              "      <td>빚을 드디어 다 갚게 되어서 이제야 안도감이 들어.</td>\n",
              "      <td>2</td>\n",
              "    </tr>\n",
              "    <tr>\n",
              "      <th>...</th>\n",
              "      <td>...</td>\n",
              "      <td>...</td>\n",
              "    </tr>\n",
              "    <tr>\n",
              "      <th>82676</th>\n",
              "      <td>솔직히 예보 제대로 못하는 데 세금이라도 아끼게 그냥 폐지해라..</td>\n",
              "      <td>4</td>\n",
              "    </tr>\n",
              "    <tr>\n",
              "      <th>82677</th>\n",
              "      <td>재미가 없으니 망하지</td>\n",
              "      <td>4</td>\n",
              "    </tr>\n",
              "    <tr>\n",
              "      <th>82678</th>\n",
              "      <td>공장 도시락 비우생적임 아르바이트했는데 화장실가성 손도 않씯고 재료 담고 바닥 떨어...</td>\n",
              "      <td>4</td>\n",
              "    </tr>\n",
              "    <tr>\n",
              "      <th>82679</th>\n",
              "      <td>코딱지 만한 나라에서 지들끼리 피터지게 싸우는 센징 클래스 ㅉㅉㅉ</td>\n",
              "      <td>4</td>\n",
              "    </tr>\n",
              "    <tr>\n",
              "      <th>82680</th>\n",
              "      <td>와이프도 그렇고 댓글 다 볼텐데 이휘재 좀 하차 하라고 전해주세요</td>\n",
              "      <td>4</td>\n",
              "    </tr>\n",
              "  </tbody>\n",
              "</table>\n",
              "<p>82681 rows × 2 columns</p>\n",
              "</div>\n",
              "      <button class=\"colab-df-convert\" onclick=\"convertToInteractive('df-490eaeb5-b1b5-4c77-aad9-6c8088f78e06')\"\n",
              "              title=\"Convert this dataframe to an interactive table.\"\n",
              "              style=\"display:none;\">\n",
              "        \n",
              "  <svg xmlns=\"http://www.w3.org/2000/svg\" height=\"24px\"viewBox=\"0 0 24 24\"\n",
              "       width=\"24px\">\n",
              "    <path d=\"M0 0h24v24H0V0z\" fill=\"none\"/>\n",
              "    <path d=\"M18.56 5.44l.94 2.06.94-2.06 2.06-.94-2.06-.94-.94-2.06-.94 2.06-2.06.94zm-11 1L8.5 8.5l.94-2.06 2.06-.94-2.06-.94L8.5 2.5l-.94 2.06-2.06.94zm10 10l.94 2.06.94-2.06 2.06-.94-2.06-.94-.94-2.06-.94 2.06-2.06.94z\"/><path d=\"M17.41 7.96l-1.37-1.37c-.4-.4-.92-.59-1.43-.59-.52 0-1.04.2-1.43.59L10.3 9.45l-7.72 7.72c-.78.78-.78 2.05 0 2.83L4 21.41c.39.39.9.59 1.41.59.51 0 1.02-.2 1.41-.59l7.78-7.78 2.81-2.81c.8-.78.8-2.07 0-2.86zM5.41 20L4 18.59l7.72-7.72 1.47 1.35L5.41 20z\"/>\n",
              "  </svg>\n",
              "      </button>\n",
              "      \n",
              "  <style>\n",
              "    .colab-df-container {\n",
              "      display:flex;\n",
              "      flex-wrap:wrap;\n",
              "      gap: 12px;\n",
              "    }\n",
              "\n",
              "    .colab-df-convert {\n",
              "      background-color: #E8F0FE;\n",
              "      border: none;\n",
              "      border-radius: 50%;\n",
              "      cursor: pointer;\n",
              "      display: none;\n",
              "      fill: #1967D2;\n",
              "      height: 32px;\n",
              "      padding: 0 0 0 0;\n",
              "      width: 32px;\n",
              "    }\n",
              "\n",
              "    .colab-df-convert:hover {\n",
              "      background-color: #E2EBFA;\n",
              "      box-shadow: 0px 1px 2px rgba(60, 64, 67, 0.3), 0px 1px 3px 1px rgba(60, 64, 67, 0.15);\n",
              "      fill: #174EA6;\n",
              "    }\n",
              "\n",
              "    [theme=dark] .colab-df-convert {\n",
              "      background-color: #3B4455;\n",
              "      fill: #D2E3FC;\n",
              "    }\n",
              "\n",
              "    [theme=dark] .colab-df-convert:hover {\n",
              "      background-color: #434B5C;\n",
              "      box-shadow: 0px 1px 3px 1px rgba(0, 0, 0, 0.15);\n",
              "      filter: drop-shadow(0px 1px 2px rgba(0, 0, 0, 0.3));\n",
              "      fill: #FFFFFF;\n",
              "    }\n",
              "  </style>\n",
              "\n",
              "      <script>\n",
              "        const buttonEl =\n",
              "          document.querySelector('#df-490eaeb5-b1b5-4c77-aad9-6c8088f78e06 button.colab-df-convert');\n",
              "        buttonEl.style.display =\n",
              "          google.colab.kernel.accessAllowed ? 'block' : 'none';\n",
              "\n",
              "        async function convertToInteractive(key) {\n",
              "          const element = document.querySelector('#df-490eaeb5-b1b5-4c77-aad9-6c8088f78e06');\n",
              "          const dataTable =\n",
              "            await google.colab.kernel.invokeFunction('convertToInteractive',\n",
              "                                                     [key], {});\n",
              "          if (!dataTable) return;\n",
              "\n",
              "          const docLinkHtml = 'Like what you see? Visit the ' +\n",
              "            '<a target=\"_blank\" href=https://colab.research.google.com/notebooks/data_table.ipynb>data table notebook</a>'\n",
              "            + ' to learn more about interactive tables.';\n",
              "          element.innerHTML = '';\n",
              "          dataTable['output_type'] = 'display_data';\n",
              "          await google.colab.output.renderOutput(dataTable, element);\n",
              "          const docLink = document.createElement('div');\n",
              "          docLink.innerHTML = docLinkHtml;\n",
              "          element.appendChild(docLink);\n",
              "        }\n",
              "      </script>\n",
              "    </div>\n",
              "  </div>\n",
              "  "
            ],
            "text/plain": [
              "                                                 content  label\n",
              "0                              아내가 드디어 출산하게 되어서 정말 신이 나.      0\n",
              "1                당뇨랑 합병증 때문에 먹어야 할 약이 열 가지가 넘어가니까 스트레스야.      1\n",
              "2                고등학교에 올라오니 중학교 때보다 수업이 갑자기 어려워져서 당황스러워.      1\n",
              "3          재취업이 돼서 받게 된 첫 월급으로 온 가족이 외식을 할 예정이야. 너무 행복해.      0\n",
              "4                           빚을 드디어 다 갚게 되어서 이제야 안도감이 들어.      2\n",
              "...                                                  ...    ...\n",
              "82676               솔직히 예보 제대로 못하는 데 세금이라도 아끼게 그냥 폐지해라..      4\n",
              "82677                                        재미가 없으니 망하지      4\n",
              "82678  공장 도시락 비우생적임 아르바이트했는데 화장실가성 손도 않씯고 재료 담고 바닥 떨어...      4\n",
              "82679               코딱지 만한 나라에서 지들끼리 피터지게 싸우는 센징 클래스 ㅉㅉㅉ      4\n",
              "82680               와이프도 그렇고 댓글 다 볼텐데 이휘재 좀 하차 하라고 전해주세요      4\n",
              "\n",
              "[82681 rows x 2 columns]"
            ]
          },
          "execution_count": 18,
          "metadata": {},
          "output_type": "execute_result"
        }
      ],
      "source": [
        "data_pro = data_pro.drop(['emotion'],axis=1)\n",
        "data_pro"
      ]
    },
    {
      "cell_type": "code",
      "execution_count": null,
      "metadata": {
        "id": "lG4oJ6mJqcf7"
      },
      "outputs": [],
      "source": [
        "x_tr,x_val = train_test_split(data_pro,stratify=data_pro['label'],test_size=0.2,random_state=42)"
      ]
    },
    {
      "cell_type": "code",
      "execution_count": null,
      "metadata": {
        "colab": {
          "base_uri": "https://localhost:8080/"
        },
        "id": "GjqF8IQzqcf8",
        "outputId": "45793248-61e7-4a37-f675-73d2df0bcae6"
      },
      "outputs": [
        {
          "data": {
            "text/plain": [
              "((66144, 2), (16537, 2))"
            ]
          },
          "execution_count": 20,
          "metadata": {},
          "output_type": "execute_result"
        }
      ],
      "source": [
        "x_tr.shape,x_val.shape"
      ]
    },
    {
      "cell_type": "code",
      "execution_count": null,
      "metadata": {
        "colab": {
          "base_uri": "https://localhost:8080/"
        },
        "id": "855hIm0Fqcf8",
        "outputId": "5b47a4f0-862c-4e25-f876-ba3b756a5271"
      },
      "outputs": [
        {
          "data": {
            "text/plain": [
              "(3    19065\n",
              " 4    16433\n",
              " 1    16178\n",
              " 0     8869\n",
              " 5     3861\n",
              " 2     1738\n",
              " Name: label, dtype: int64, 3    4766\n",
              " 4    4108\n",
              " 1    4045\n",
              " 0    2218\n",
              " 5     966\n",
              " 2     434\n",
              " Name: label, dtype: int64)"
            ]
          },
          "execution_count": 21,
          "metadata": {},
          "output_type": "execute_result"
        }
      ],
      "source": [
        "x_tr.label.value_counts(),x_val.label.value_counts()"
      ]
    },
    {
      "cell_type": "code",
      "execution_count": null,
      "metadata": {
        "id": "C5kFJP0zqcf8"
      },
      "outputs": [],
      "source": [
        "x_tr.to_csv('/content/drive/MyDrive/Aiffel/AIFFELTON/preprocessing_data/propressing_train.csv',index=False)\n",
        "x_val.to_csv('/content/drive/MyDrive/Aiffel/AIFFELTON/preprocessing_data/propressing_val.csv',index=False)"
      ]
    },
    {
      "cell_type": "code",
      "execution_count": null,
      "metadata": {
        "colab": {
          "base_uri": "https://localhost:8080/"
        },
        "id": "o8FwHHjpqcf9",
        "outputId": "1d192dd1-03ee-4408-d2a0-1aad5b0cebf7"
      },
      "outputs": [
        {
          "data": {
            "text/plain": [
              "<matplotlib.axes._subplots.AxesSubplot at 0x7fa619f19e10>"
            ]
          },
          "execution_count": 23,
          "metadata": {},
          "output_type": "execute_result"
        },
        {
          "data": {
            "image/png": "[encoded data removed]",
            "text/plain": [
              "<Figure size 432x288 with 1 Axes>"
            ]
          },
          "metadata": {},
          "output_type": "display_data"
        }
      ],
      "source": [
        "import matplotlib.pyplot as plt\n",
        "import seaborn as sns\n",
        "tr = pd.read_csv('/content/drive/MyDrive/Aiffel/AIFFELTON/preprocessing_data/propressing_train.csv')\n",
        "leng = []\n",
        "for i in tr.content:\n",
        "    leng.append(len(i))\n",
        "sns.lineplot(data=leng)"
      ]
    },
    {
      "cell_type": "markdown",
      "metadata": {
        "id": "XM7qHYTiqcf9"
      },
      "source": [
        "### model setting"
      ]
    },
    {
      "cell_type": "code",
      "execution_count": null,
      "metadata": {
        "id": "EzysX9wMU7wa"
      },
      "outputs": [],
      "source": [
        "class Arg:\n",
        "    random_seed: int = 42 # Random Seed\n",
        "    pretrained_model: str = 'beomi/kcbert-large'  # Transformers PLM name\n",
        "    pretrained_tokenizer: str = ''  # Optional, Transformers Tokenizer Name. Overrides `pretrained_model`\n",
        "    auto_batch_size: str = 'power'  # Let PyTorch Lightening find the best batch size \n",
        "    batch_size: int = 0  # Optional, Train/Eval Batch Size. Overrides `auto_batch_size` \n",
        "    lr: float = 5e-6  # Starting Learning Rate\n",
        "    epochs: int = 5  # Max Epochs\n",
        "    max_length: int = 150  # Max Length input size\n",
        "    report_cycle: int = 1000  # Report (Train Metrics) Cycle\n",
        "    train_data_path: str = '/content/drive/MyDrive/Aiffel/AIFFELTON/preprocessing_data/propressing_train.csv'  # Train Dataset file \n",
        "    val_data_path: str = '/content/drive/MyDrive/Aiffel/AIFFELTON/preprocessing_data/propressing_val.csv'  # Validation Dataset file \n",
        "    cpu_workers: int = os.cpu_count()  # Multi cpu workers\n",
        "    test_mode: bool = False  # Test Mode enables `fast_dev_run`\n",
        "    optimizer: str = 'AdamW'  # AdamW vs AdamP\n",
        "    lr_scheduler: str = 'exp'  # ExponentialLR vs CosineAnnealingWarmRestarts\n",
        "    fp16: bool = False  # Enable train on FP16\n",
        "    tpu_cores: int = 0  # Enable TPU with 1 core or 8 cores\n",
        "    checkpoint: str = '/content/drive/MyDrive/Aiffel/AIFFELTON/model/checkpoint/KcBert-epoch=01-val_loss=0.75-v1.ckpt'\n",
        "\n",
        "args = Arg()"
      ]
    },
    {
      "cell_type": "code",
      "execution_count": null,
      "metadata": {
        "id": "OLbOoi-yU7wb"
      },
      "outputs": [],
      "source": [
        "# args.tpu_cores = 8  # Enables TPU\n",
        "args.fp16 = True  # Enables GPU FP16\n",
        "args.batch_size = 16  # Force setup batch_size\n",
        "tr_met_list,val_met_list = [],[]\n",
        "checkpoint_callback = ModelCheckpoint(\n",
        "    monitor = 'val_loss',\n",
        "    dirpath = '/content/drive/MyDrive/Aiffel/AIFFELTON/model/checkpoint/',\n",
        "    filename = 'KcBert-{epoch:02d}-{val_loss:.2f}'\n",
        ")\n",
        "early_stopping = EarlyStopping(\n",
        "    monitor='val_loss',\n",
        "    patience=1,\n",
        "    verbose=True,\n",
        "    mode='min')"
      ]
    },
    {
      "cell_type": "code",
      "execution_count": null,
      "metadata": {
        "id": "F6yHAFoCU7wb"
      },
      "outputs": [],
      "source": [
        "class Model(LightningModule):\n",
        "    def __init__(self, options):\n",
        "        super().__init__()\n",
        "        self.args = options\n",
        "        self.bert = BertForSequenceClassification.from_pretrained(self.args.pretrained_model,num_labels=6) #num_labels == 태그 개수\n",
        "        self.tokenizer = BertTokenizer.from_pretrained(\n",
        "            self.args.pretrained_tokenizer\n",
        "            if self.args.pretrained_tokenizer\n",
        "            else self.args.pretrained_model\n",
        "        )\n",
        "        # #metrics\n",
        "        # self.train_acc = torchmetrics.Accuracy()\n",
        "        # self.train_recall = torchmetrics.Recall(num_classes=6,average=\"\")\n",
        "        # self.train_f1 = torchmetrics.F1(number_classes=6,\n",
        "        # average=\"weighted\")\n",
        "        \n",
        "        # self.val_acc = torchmetrics.Accuracy()\n",
        "        # self.val_f1 = torchmetrics.F1(number_classes=6,\n",
        "        # average=\"weighted\")\n",
        "\n",
        "\n",
        "    def forward(self, **kwargs):\n",
        "        return self.bert(**kwargs)\n",
        "\n",
        "    def training_step(self, batch, batch_idx):\n",
        "        data_, labels = batch\n",
        "        output = self(input_ids=data_, labels=labels)\n",
        "\n",
        "        # Transformers 4.0.0+\n",
        "        loss = output.loss\n",
        "        logits = output.logits\n",
        "        \n",
        "        preds = logits.argmax(dim=-1)\n",
        "\n",
        "        y_true = labels.cpu().numpy()\n",
        "        y_pred = preds.cpu().numpy()\n",
        "\n",
        "        # Acc, Precision, Recall, F1\n",
        "        metrics = [\n",
        "            metric\n",
        "            for metric in\n",
        "            (accuracy_score(y_true=y_true, y_pred=y_pred),\n",
        "             precision_score(y_true=y_true, y_pred=y_pred,average='weighted'),\n",
        "             recall_score(y_true=y_true, y_pred=y_pred,average='weighted'),\n",
        "             f1_score(y_true=y_true, y_pred=y_pred,average='weighted'))\n",
        "        ]\n",
        "        # metrics = [\n",
        "        #     metric(y_true=y_true, y_pred=y_pred,average='weighted')\n",
        "        #     for metric in\n",
        "        #     (precision_score, recall_score, f1_score)\n",
        "        # ]\n",
        "\n",
        "        tensorboard_logs = {\n",
        "            'train_loss': loss.cpu().detach().numpy().tolist(),\n",
        "            'train_acc': metrics[0],\n",
        "            'train_precision': metrics[1],\n",
        "            'train_recall': metrics[2],\n",
        "            'train_f1': metrics[3],\n",
        "        }\n",
        "        tr_met_list.append(tensorboard_logs)\n",
        "        if (batch_idx % self.args.report_cycle) == 0:\n",
        "            print()\n",
        "          \n",
        "            pprint(tensorboard_logs)\n",
        "        return {'loss': loss, 'log': tensorboard_logs}\n",
        "\n",
        "    def validation_step(self, batch, batch_idx):\n",
        "        data_, labels = batch\n",
        "        output = self(input_ids=data_, labels=labels)\n",
        "\n",
        "        # Transformers 4.0.0+\n",
        "        loss = output.loss\n",
        "        logits = output.logits\n",
        "\n",
        "        preds = logits.argmax(dim=-1)\n",
        "\n",
        "        y_true = list(labels.cpu().numpy())\n",
        "        y_pred = list(preds.cpu().numpy())\n",
        "\n",
        "        return {\n",
        "            'loss': loss,\n",
        "            'y_true': y_true,\n",
        "            'y_pred': y_pred,\n",
        "        }\n",
        "\n",
        "    def validation_epoch_end(self, outputs):\n",
        "        loss = torch.tensor(0, dtype=torch.float)\n",
        "        for i in outputs:\n",
        "            loss += i['loss'].cpu().detach()\n",
        "        _loss = loss / len(outputs)\n",
        "\n",
        "        loss = float(_loss)\n",
        "        y_true = []\n",
        "        y_pred = []\n",
        "\n",
        "        for i in outputs:\n",
        "            y_true += i['y_true']\n",
        "            y_pred += i['y_pred']\n",
        "\n",
        "        # Acc, Precision, Recall, F1\n",
        "        metrics = [\n",
        "            metric\n",
        "            for metric in\n",
        "            (accuracy_score(y_true=y_true, y_pred=y_pred),\n",
        "             precision_score(y_true=y_true, y_pred=y_pred,average='weighted'),\n",
        "             recall_score(y_true=y_true, y_pred=y_pred,average='weighted'),\n",
        "             f1_score(y_true=y_true, y_pred=y_pred,average='weighted'))\n",
        "        ]\n",
        "        # metrics = [\n",
        "        #     metric(y_true=y_true, y_pred=y_pred,average='weighted')\n",
        "        #     for metric in\n",
        "        #     (precision_score, recall_score, f1_score)\n",
        "        # ]\n",
        "        self.log('val_loss',loss)\n",
        "        tensorboard_logs = {\n",
        "            'val_loss': loss,\n",
        "            'val_acc': metrics[0],\n",
        "            'val_precision': metrics[1],\n",
        "            'val_recall': metrics[2],\n",
        "            'val_f1': metrics[3],\n",
        "        }\n",
        "        val_met_list.append(tensorboard_logs)\n",
        "        print()\n",
        "        pprint(tensorboard_logs)\n",
        "        return {'loss': _loss, 'log': tensorboard_logs}\n",
        "\n",
        "    def configure_optimizers(self):\n",
        "        if self.args.optimizer == 'AdamW':\n",
        "            optimizer = AdamW(self.parameters(), lr=self.args.lr)\n",
        "        elif self.args.optimizer == 'AdamP':\n",
        "            from adamp import AdamP\n",
        "            optimizer = AdamP(self.parameters(), lr=self.args.lr)\n",
        "        else:\n",
        "            raise NotImplementedError('Only AdamW and AdamP is Supported!')\n",
        "        if self.args.lr_scheduler == 'cos':\n",
        "            scheduler = CosineAnnealingWarmRestarts(optimizer, T_0=1, T_mult=2)\n",
        "        elif self.args.lr_scheduler == 'exp':\n",
        "            scheduler = ExponentialLR(optimizer, gamma=0.5)\n",
        "        else:\n",
        "            raise NotImplementedError('Only cos and exp lr scheduler is Supported!')\n",
        "        return {\n",
        "            'optimizer': optimizer,\n",
        "            'scheduler': scheduler,\n",
        "        }\n",
        "\n",
        "    def read_data(self, path):\n",
        "        if path.endswith('xlsx'):\n",
        "            return pd.read_excel(path)\n",
        "        elif path.endswith('csv'):\n",
        "            return pd.read_csv(path)\n",
        "        elif path.endswith('tsv') or path.endswith('txt'):\n",
        "            return pd.read_csv(path, sep='\\t')\n",
        "        else:\n",
        "            raise NotImplementedError('Only Excel(xlsx)/Csv/Tsv(txt) are Supported')\n",
        "\n",
        "    def preprocess_dataframe(self, df):\n",
        "        # emojis = ''.join(emoji.UNICODE_EMOJI.keys())\n",
        "        pattern = re.compile(f'[^ .,?!/@$%~％·∼()\\x00-\\x7Fㄱ-힣]+')\n",
        "        url_pattern = re.compile(\n",
        "            r'https?:\\/\\/(www\\.)?[-a-zA-Z0-9@:%._\\+~#=]{1,256}\\.[a-zA-Z0-9()]{1,6}\\b([-a-zA-Z0-9()@:%_\\+.~#?&//=]*)')\n",
        "\n",
        "        def clean(x):\n",
        "            x = pattern.sub(' ', x)\n",
        "            x = url_pattern.sub('', x)\n",
        "            x = x.strip()\n",
        "            x = repeat_normalize(x, num_repeats=2) # ㅋㅋㅋㅋㅋㅋ .. -> ㅋㅋ 같이 반복되는 문자에 대해 변환 \n",
        "            return x\n",
        "\n",
        "        df['content'] = df['content'].map(lambda x: self.tokenizer.encode(\n",
        "            clean(str(x)),\n",
        "            padding='max_length',\n",
        "            max_length=self.args.max_length,\n",
        "            truncation=True,\n",
        "        ))\n",
        "        return df\n",
        "\n",
        "    def train_dataloader(self):\n",
        "        df = self.read_data(self.args.train_data_path)\n",
        "        df = self.preprocess_dataframe(df)\n",
        "\n",
        "        dataset = TensorDataset(\n",
        "            torch.tensor(df['content'].to_list(), dtype=torch.long),\n",
        "            torch.tensor(df['label'].to_list(), dtype=torch.long),\n",
        "        )\n",
        "        return DataLoader(\n",
        "            dataset,\n",
        "            batch_size=self.args.batch_size or self.batch_size,\n",
        "            shuffle=True,\n",
        "            num_workers=self.args.cpu_workers,\n",
        "        )\n",
        "\n",
        "    def val_dataloader(self):\n",
        "        df = self.read_data(self.args.val_data_path)\n",
        "        df = self.preprocess_dataframe(df)\n",
        "\n",
        "        dataset = TensorDataset(\n",
        "            torch.tensor(df['content'].to_list(), dtype=torch.long),\n",
        "            torch.tensor(df['label'].to_list(), dtype=torch.long),\n",
        "        )\n",
        "        return DataLoader(\n",
        "            dataset,\n",
        "            batch_size=self.args.batch_size or self.batch_size,\n",
        "            shuffle=False,\n",
        "            num_workers=self.args.cpu_workers,\n",
        "        )\n"
      ]
    },
    {
      "cell_type": "code",
      "execution_count": null,
      "metadata": {
        "id": "T8CsJV-LU7wc"
      },
      "outputs": [],
      "source": [
        "def main():\n",
        "    print(\"Using PyTorch Ver\", torch.__version__)\n",
        "    print(\"Fix Seed:\", args.random_seed)\n",
        "    seed_everything(args.random_seed)\n",
        "    model = Model(args)\n",
        "    # summary(model)\n",
        "    print(\":: Start Training ::\")\n",
        "    trainer = Trainer(\n",
        "        resume_from_checkpoint=args.checkpoint,\n",
        "        callbacks = [checkpoint_callback,early_stopping],\n",
        "        max_epochs=args.epochs,\n",
        "        fast_dev_run=args.test_mode,\n",
        "        num_sanity_val_steps=None if args.test_mode else 0,\n",
        "        auto_scale_batch_size=args.auto_batch_size if args.auto_batch_size and not args.batch_size else False,\n",
        "        # For GPU Setup\n",
        "        deterministic=torch.cuda.is_available(),\n",
        "        gpus=-1 if torch.cuda.is_available() else None,\n",
        "        precision=16 if args.fp16 else 32,\n",
        "        # For TPU Setup\n",
        "        # tpu_cores=args.tpu_cores if args.tpu_cores else None,\n",
        "    )\n",
        "    trainer.fit(model)"
      ]
    },
    {
      "cell_type": "code",
      "execution_count": null,
      "metadata": {
        "id": "EdSSRHBQqcgB"
      },
      "outputs": [],
      "source": [
        "# from torchsummary import summary\n",
        "# summary(model)\n"
      ]
    },
    {
      "cell_type": "code",
      "execution_count": null,
      "metadata": {
        "colab": {
          "background_save": true,
          "base_uri": "https://localhost:8080/",
          "height": 766,
          "referenced_widgets": [
            "6ccc8aed16c34f989504145ee93850b1",
            "f3c98814689f4d4ca9064c038ac622df",
            "b4d0a9d5a2b9475eaf35a0a2930cd618",
            "4baafd8cb50b4d7daf56df3ee43cf369",
            "40891be9352b451681dacb782952d35d",
            "9e98e23ebca541b28bc18020ef62a9b7",
            "573299a18ccc4d1fad3cf2995f78b5cb",
            "a822b98af90747a59bfd64a09b630eba",
            "f15d13479b7f48d3b6d973e5e2dc7564",
            "cea0e70398e44909bf1a3dc7b521e991",
            "41cc58e7dbe44e11bebd6cf7184188b4"
          ]
        },
        "id": "u4XDjQEBU7wc",
        "outputId": "e5507d9d-2b9d-44c2-d57a-77d953541ebe"
      },
      "outputs": [
        {
          "name": "stderr",
          "output_type": "stream",
          "text": [
            "INFO:pytorch_lightning.utilities.seed:Global seed set to 42\n"
          ]
        },
        {
          "name": "stdout",
          "output_type": "stream",
          "text": [
            "Using PyTorch Ver 1.12.1+cu113\n",
            "Fix Seed: 42\n"
          ]
        },
        {
          "name": "stderr",
          "output_type": "stream",
          "text": [
            "Some weights of the model checkpoint at beomi/kcbert-large were not used when initializing BertForSequenceClassification: ['cls.predictions.transform.dense.bias', 'cls.predictions.transform.LayerNorm.bias', 'cls.predictions.decoder.weight', 'cls.predictions.transform.dense.weight', 'cls.seq_relationship.bias', 'cls.predictions.decoder.bias', 'cls.predictions.transform.LayerNorm.weight', 'cls.predictions.bias', 'cls.seq_relationship.weight']\n",
            "- This IS expected if you are initializing BertForSequenceClassification from the checkpoint of a model trained on another task or with another architecture (e.g. initializing a BertForSequenceClassification model from a BertForPreTraining model).\n",
            "- This IS NOT expected if you are initializing BertForSequenceClassification from the checkpoint of a model that you expect to be exactly identical (initializing a BertForSequenceClassification model from a BertForSequenceClassification model).\n",
            "Some weights of BertForSequenceClassification were not initialized from the model checkpoint at beomi/kcbert-large and are newly initialized: ['classifier.weight', 'classifier.bias']\n",
            "You should probably TRAIN this model on a down-stream task to be able to use it for predictions and inference.\n"
          ]
        },
        {
          "name": "stdout",
          "output_type": "stream",
          "text": [
            ":: Start Training ::\n"
          ]
        },
        {
          "name": "stderr",
          "output_type": "stream",
          "text": [
            "INFO:pytorch_lightning.utilities.rank_zero:Using 16bit native Automatic Mixed Precision (AMP)\n",
            "INFO:pytorch_lightning.utilities.rank_zero:GPU available: True (cuda), used: True\n",
            "INFO:pytorch_lightning.utilities.rank_zero:TPU available: False, using: 0 TPU cores\n",
            "INFO:pytorch_lightning.utilities.rank_zero:IPU available: False, using: 0 IPUs\n",
            "INFO:pytorch_lightning.utilities.rank_zero:HPU available: False, using: 0 HPUs\n",
            "WARNING:pytorch_lightning.loggers.tensorboard:Missing logger folder: /content/lightning_logs\n",
            "INFO:pytorch_lightning.utilities.rank_zero:Restoring states from the checkpoint path at /content/drive/MyDrive/Aiffel/AIFFELTON/model/checkpoint/KcBert-epoch=01-val_loss=0.75-v1.ckpt\n",
            "INFO:pytorch_lightning.accelerators.cuda:LOCAL_RANK: 0 - CUDA_VISIBLE_DEVICES: [0]\n",
            "INFO:pytorch_lightning.callbacks.model_summary:\n",
            "  | Name | Type                          | Params\n",
            "-------------------------------------------------------\n",
            "0 | bert | BertForSequenceClassification | 334 M \n",
            "-------------------------------------------------------\n",
            "334 M     Trainable params\n",
            "0         Non-trainable params\n",
            "334 M     Total params\n",
            "668.793   Total estimated model params size (MB)\n",
            "INFO:pytorch_lightning.utilities.rank_zero:Restored all states from the checkpoint file at /content/drive/MyDrive/Aiffel/AIFFELTON/model/checkpoint/KcBert-epoch=01-val_loss=0.75-v1.ckpt\n"
          ]
        },
        {
          "data": {
            "application/vnd.jupyter.widget-view+json": {
              "model_id": "6ccc8aed16c34f989504145ee93850b1",
              "version_major": 2,
              "version_minor": 0
            },
            "text/plain": [
              "Training: 4134it [00:00, ?it/s]"
            ]
          },
          "metadata": {},
          "output_type": "display_data"
        },
        {
          "name": "stdout",
          "output_type": "stream",
          "text": [
            "\n",
            "{'train_acc': 0.9375,\n",
            " 'train_f1': 0.9398809523809524,\n",
            " 'train_loss': 0.49385738372802734,\n",
            " 'train_precision': 0.953125,\n",
            " 'train_recall': 0.9375}\n",
            "\n",
            "{'train_acc': 0.75,\n",
            " 'train_f1': 0.7708333333333333,\n",
            " 'train_loss': 0.8125190734863281,\n",
            " 'train_precision': 0.8385416666666666,\n",
            " 'train_recall': 0.75}\n",
            "\n",
            "{'train_acc': 0.9375,\n",
            " 'train_f1': 0.9365079365079365,\n",
            " 'train_loss': 0.381955623626709,\n",
            " 'train_precision': 0.95,\n",
            " 'train_recall': 0.9375}\n"
          ]
        }
      ],
      "source": [
        "import warnings\n",
        "warnings.filterwarnings('ignore') \n",
        "main()"
      ]
    },
    {
      "cell_type": "code",
      "execution_count": null,
      "metadata": {
        "id": "bjB2t_5qmvXs"
      },
      "outputs": [],
      "source": [
        "loss,acc,precision,recall,f1 = [],[],[],[],[]\n",
        "for i in range(len(tr_met_list)):\n",
        "    loss.append(tr_met_list[i]['train_loss'])\n",
        "    acc.append(tr_met_list[i]['train_acc'])\n",
        "    precision.append(tr_met_list[i]['train_precision'])\n",
        "    recall.append(tr_met_list[i]['train_recall'])\n",
        "    f1.append(tr_met_list[i]['train_f1'])"
      ]
    },
    {
      "cell_type": "code",
      "execution_count": null,
      "metadata": {
        "colab": {
          "base_uri": "https://localhost:8080/",
          "height": 520
        },
        "id": "p-uj68CSmvXt",
        "outputId": "80be9008-0e87-404d-eec3-7150a1743791"
      },
      "outputs": [
        {
          "data": {
            "text/plain": [
              "<matplotlib.axes._subplots.AxesSubplot at 0x7f1858bf2610>"
            ]
          },
          "execution_count": 12,
          "metadata": {},
          "output_type": "execute_result"
        },
        {
          "data": {
            "image/png": "[encoded data removed]",
            "text/plain": [
              "<Figure size 1440x576 with 5 Axes>"
            ]
          },
          "metadata": {},
          "output_type": "display_data"
        },
        {
          "data": {
            "text/plain": [
              "<Figure size 1440x576 with 0 Axes>"
            ]
          },
          "metadata": {},
          "output_type": "display_data"
        }
      ],
      "source": [
        "fig, axes = plt.subplots(1, 5,figsize=(20,8))\n",
        "plt.figure(figsize=(20,8))\n",
        "sns.lineplot(data=loss,ax=axes[0])\n",
        "sns.lineplot(data=acc,ax=axes[1])\n",
        "sns.lineplot(data=precision,ax=axes[2])\n",
        "sns.lineplot(data=recall,ax=axes[3])\n",
        "sns.lineplot(data=f1,ax=axes[4])"
      ]
    },
    {
      "cell_type": "code",
      "execution_count": null,
      "metadata": {
        "id": "RsNJ2vk0U7wd"
      },
      "outputs": [],
      "source": [
        "loss,acc,precision,recall,f1 = [],[],[],[],[]\n",
        "for i in range(len(val_met_list)):\n",
        "    loss.append(val_met_list[i]['val_loss'])\n",
        "    acc.append(val_met_list[i]['val_acc'])\n",
        "    precision.append(val_met_list[i]['val_precision'])\n",
        "    recall.append(val_met_list[i]['val_recall'])\n",
        "    f1.append(val_met_list[i]['val_f1'])"
      ]
    },
    {
      "cell_type": "code",
      "execution_count": null,
      "metadata": {
        "colab": {
          "base_uri": "https://localhost:8080/"
        },
        "id": "BRY_chM_lkq4",
        "outputId": "cd8ec4e4-8da5-48a5-9d1c-addcd45c9671"
      },
      "outputs": [
        {
          "data": {
            "text/plain": [
              "<matplotlib.axes._subplots.AxesSubplot at 0x7f185a9d4390>"
            ]
          },
          "execution_count": 14,
          "metadata": {},
          "output_type": "execute_result"
        },
        {
          "data": {
            "image/png": "[encoded data removed]",
            "text/plain": [
              "<Figure size 1440x576 with 5 Axes>"
            ]
          },
          "metadata": {},
          "output_type": "display_data"
        },
        {
          "data": {
            "text/plain": [
              "<Figure size 1440x576 with 0 Axes>"
            ]
          },
          "metadata": {},
          "output_type": "display_data"
        }
      ],
      "source": [
        "fig, axes = plt.subplots(1, 5,figsize=(20,8))\n",
        "plt.figure(figsize=(20,8))\n",
        "sns.lineplot(data=loss,ax=axes[0])\n",
        "sns.lineplot(data=acc,ax=axes[1])\n",
        "sns.lineplot(data=precision,ax=axes[2])\n",
        "sns.lineplot(data=recall,ax=axes[3])\n",
        "sns.lineplot(data=f1,ax=axes[4])"
      ]
    },
    {
      "cell_type": "code",
      "execution_count": null,
      "metadata": {
        "colab": {
          "base_uri": "https://localhost:8080/",
          "height": 407
        },
        "id": "70acE1B_SAZU",
        "outputId": "d0ab2d76-1038-4140-d4b6-874eaff08e4e"
      },
      "outputs": [
        {
          "ename": "TypeError",
          "evalue": "ignored",
          "output_type": "error",
          "traceback": [
            "\u001b[0;31m---------------------------------------------------------------------------\u001b[0m",
            "\u001b[0;31mTypeError\u001b[0m                                 Traceback (most recent call last)",
            "\u001b[0;32m<ipython-input-10-ec7694b2afb9>\u001b[0m in \u001b[0;36m<module>\u001b[0;34m\u001b[0m\n\u001b[1;32m     11\u001b[0m \u001b[0;34m\u001b[0m\u001b[0m\n\u001b[1;32m     12\u001b[0m \u001b[0mchk_path\u001b[0m \u001b[0;34m=\u001b[0m \u001b[0;34m'/content/drive/MyDrive/Aiffel/AIFFELTON/model/checkpoint/KcBert-epoch=01-val_loss=0.75-v1.ckpt'\u001b[0m\u001b[0;34m\u001b[0m\u001b[0;34m\u001b[0m\u001b[0m\n\u001b[0;32m---> 13\u001b[0;31m \u001b[0mmodel2\u001b[0m \u001b[0;34m=\u001b[0m \u001b[0mMyLightningModule\u001b[0m\u001b[0;34m.\u001b[0m\u001b[0mload_from_checkpoint\u001b[0m\u001b[0;34m(\u001b[0m\u001b[0mchk_path\u001b[0m\u001b[0;34m)\u001b[0m\u001b[0;34m\u001b[0m\u001b[0;34m\u001b[0m\u001b[0m\n\u001b[0m\u001b[1;32m     14\u001b[0m \u001b[0mresults\u001b[0m \u001b[0;34m=\u001b[0m \u001b[0mtrainer\u001b[0m\u001b[0;34m.\u001b[0m\u001b[0mtest\u001b[0m\u001b[0;34m(\u001b[0m\u001b[0mmodel\u001b[0m\u001b[0;34m=\u001b[0m\u001b[0mmodel2\u001b[0m\u001b[0;34m,\u001b[0m \u001b[0mverbose\u001b[0m\u001b[0;34m=\u001b[0m\u001b[0;32mTrue\u001b[0m\u001b[0;34m)\u001b[0m\u001b[0;34m\u001b[0m\u001b[0;34m\u001b[0m\u001b[0m\n",
            "\u001b[0;32m/usr/local/lib/python3.7/dist-packages/pytorch_lightning/core/saving.py\u001b[0m in \u001b[0;36mload_from_checkpoint\u001b[0;34m(cls, checkpoint_path, map_location, hparams_file, strict, **kwargs)\u001b[0m\n\u001b[1;32m    141\u001b[0m             \u001b[0mhparams_file\u001b[0m\u001b[0;34m,\u001b[0m\u001b[0;34m\u001b[0m\u001b[0;34m\u001b[0m\u001b[0m\n\u001b[1;32m    142\u001b[0m             \u001b[0mstrict\u001b[0m\u001b[0;34m,\u001b[0m\u001b[0;34m\u001b[0m\u001b[0;34m\u001b[0m\u001b[0m\n\u001b[0;32m--> 143\u001b[0;31m             \u001b[0;34m**\u001b[0m\u001b[0mkwargs\u001b[0m\u001b[0;34m,\u001b[0m\u001b[0;34m\u001b[0m\u001b[0;34m\u001b[0m\u001b[0m\n\u001b[0m\u001b[1;32m    144\u001b[0m         )\n\u001b[1;32m    145\u001b[0m \u001b[0;34m\u001b[0m\u001b[0m\n",
            "\u001b[0;32m/usr/local/lib/python3.7/dist-packages/pytorch_lightning/core/saving.py\u001b[0m in \u001b[0;36m_load_from_checkpoint\u001b[0;34m(cls, checkpoint_path, map_location, hparams_file, strict, **kwargs)\u001b[0m\n\u001b[1;32m    203\u001b[0m     \u001b[0;32mif\u001b[0m \u001b[0missubclass\u001b[0m\u001b[0;34m(\u001b[0m\u001b[0mcls\u001b[0m\u001b[0;34m,\u001b[0m \u001b[0mpl\u001b[0m\u001b[0;34m.\u001b[0m\u001b[0mLightningDataModule\u001b[0m\u001b[0;34m)\u001b[0m\u001b[0;34m:\u001b[0m\u001b[0;34m\u001b[0m\u001b[0;34m\u001b[0m\u001b[0m\n\u001b[1;32m    204\u001b[0m         \u001b[0;32mreturn\u001b[0m \u001b[0m_load_state\u001b[0m\u001b[0;34m(\u001b[0m\u001b[0mcls\u001b[0m\u001b[0;34m,\u001b[0m \u001b[0mcheckpoint\u001b[0m\u001b[0;34m,\u001b[0m \u001b[0;34m**\u001b[0m\u001b[0mkwargs\u001b[0m\u001b[0;34m)\u001b[0m\u001b[0;34m\u001b[0m\u001b[0;34m\u001b[0m\u001b[0m\n\u001b[0;32m--> 205\u001b[0;31m     \u001b[0;32mreturn\u001b[0m \u001b[0m_load_state\u001b[0m\u001b[0;34m(\u001b[0m\u001b[0mcls\u001b[0m\u001b[0;34m,\u001b[0m \u001b[0mcheckpoint\u001b[0m\u001b[0;34m,\u001b[0m \u001b[0mstrict\u001b[0m\u001b[0;34m=\u001b[0m\u001b[0mstrict\u001b[0m\u001b[0;34m,\u001b[0m \u001b[0;34m**\u001b[0m\u001b[0mkwargs\u001b[0m\u001b[0;34m)\u001b[0m\u001b[0;34m\u001b[0m\u001b[0;34m\u001b[0m\u001b[0m\n\u001b[0m\u001b[1;32m    206\u001b[0m \u001b[0;34m\u001b[0m\u001b[0m\n\u001b[1;32m    207\u001b[0m \u001b[0;34m\u001b[0m\u001b[0m\n",
            "\u001b[0;32m/usr/local/lib/python3.7/dist-packages/pytorch_lightning/core/saving.py\u001b[0m in \u001b[0;36m_load_state\u001b[0;34m(cls, checkpoint, strict, **cls_kwargs_new)\u001b[0m\n\u001b[1;32m    248\u001b[0m         \u001b[0m_cls_kwargs\u001b[0m \u001b[0;34m=\u001b[0m \u001b[0;34m{\u001b[0m\u001b[0mk\u001b[0m\u001b[0;34m:\u001b[0m \u001b[0mv\u001b[0m \u001b[0;32mfor\u001b[0m \u001b[0mk\u001b[0m\u001b[0;34m,\u001b[0m \u001b[0mv\u001b[0m \u001b[0;32min\u001b[0m \u001b[0m_cls_kwargs\u001b[0m\u001b[0;34m.\u001b[0m\u001b[0mitems\u001b[0m\u001b[0;34m(\u001b[0m\u001b[0;34m)\u001b[0m \u001b[0;32mif\u001b[0m \u001b[0mk\u001b[0m \u001b[0;32min\u001b[0m \u001b[0mcls_init_args_name\u001b[0m\u001b[0;34m}\u001b[0m\u001b[0;34m\u001b[0m\u001b[0;34m\u001b[0m\u001b[0m\n\u001b[1;32m    249\u001b[0m \u001b[0;34m\u001b[0m\u001b[0m\n\u001b[0;32m--> 250\u001b[0;31m     \u001b[0mobj\u001b[0m \u001b[0;34m=\u001b[0m \u001b[0mcls\u001b[0m\u001b[0;34m(\u001b[0m\u001b[0;34m**\u001b[0m\u001b[0m_cls_kwargs\u001b[0m\u001b[0;34m)\u001b[0m\u001b[0;34m\u001b[0m\u001b[0;34m\u001b[0m\u001b[0m\n\u001b[0m\u001b[1;32m    251\u001b[0m \u001b[0;34m\u001b[0m\u001b[0m\n\u001b[1;32m    252\u001b[0m     \u001b[0;31m# give model a chance to load something\u001b[0m\u001b[0;34m\u001b[0m\u001b[0;34m\u001b[0m\u001b[0;34m\u001b[0m\u001b[0m\n",
            "\u001b[0;31mTypeError\u001b[0m: __init__() missing 2 required positional arguments: 'learning_rate' and 'another_parameter'"
          ]
        }
      ],
      "source": [
        "# model = my_model(layers=3, drop_rate=0)\n",
        "# trainer = pl.Trainer()\n",
        "# chk_path = \"/path_to_checkpoint/my_checkpoint_file.ckpt\"\n",
        "# model2 = my_model.load_from_checkpoint(chk_path, layers=3, drop_rate=0)\n",
        "# results = trainer.test(model=model2, datamodule=my_datamodule, verbose=True)\n",
        "class MyLightningModule(LightningModule):\n",
        "    def __init__(self, learning_rate, another_parameter, *args, **kwargs):\n",
        "        super().__init__()\n",
        "        self.save_hyperparameters()\n",
        "\n",
        "\n",
        "chk_path = '/content/drive/MyDrive/Aiffel/AIFFELTON/model/checkpoint/KcBert-epoch=01-val_loss=0.75-v1.ckpt'\n",
        "model2 = MyLightningModule.load_from_checkpoint(chk_path)\n",
        "results = trainer.test(model=model2, verbose=True)\n"
      ]
    },
    {
      "cell_type": "code",
      "execution_count": null,
      "metadata": {
        "id": "8K3Br1QsS37Q"
      },
      "outputs": [],
      "source": []
    }
  ],
  "metadata": {
    "accelerator": "GPU",
    "colab": {
      "collapsed_sections": [
        "9fFsV0ukqcf5"
      ],
      "machine_shape": "hm",
      "provenance": []
    },
    "gpuClass": "standard",
    "kernelspec": {
      "display_name": "Python 3",
      "language": "python",
      "name": "python3"
    },
    "language_info": {
      "codemirror_mode": {
        "name": "ipython",
        "version": 3
      },
      "file_extension": ".py",
      "mimetype": "text/x-python",
      "name": "python",
      "nbconvert_exporter": "python",
      "pygments_lexer": "ipython3",
      "version": "3.7.13"
    },
    "vscode": {
      "interpreter": {
        "hash": "31f2aee4e71d21fbe5cf8b01ff0e069b9275f58929596ceb00d14d90e3e16cd6"
      }
    },
    "widgets": {
      "application/vnd.jupyter.widget-state+json": {
        "015633cf7274473fb9ee6729abafbd6b": {
          "model_module": "@jupyter-widgets/controls",
          "model_module_version": "1.5.0",
          "model_name": "ProgressStyleModel",
          "state": {
            "_model_module": "@jupyter-widgets/controls",
            "_model_module_version": "1.5.0",
            "_model_name": "ProgressStyleModel",
            "_view_count": null,
            "_view_module": "@jupyter-widgets/base",
            "_view_module_version": "1.2.0",
            "_view_name": "StyleView",
            "bar_color": null,
            "description_width": ""
          }
        },
        "0cfe919ba4f24e49a57574440ad8b5da": {
          "model_module": "@jupyter-widgets/base",
          "model_module_version": "1.2.0",
          "model_name": "LayoutModel",
          "state": {
            "_model_module": "@jupyter-widgets/base",
            "_model_module_version": "1.2.0",
            "_model_name": "LayoutModel",
            "_view_count": null,
            "_view_module": "@jupyter-widgets/base",
            "_view_module_version": "1.2.0",
            "_view_name": "LayoutView",
            "align_content": null,
            "align_items": null,
            "align_self": null,
            "border": null,
            "bottom": null,
            "display": null,
            "flex": null,
            "flex_flow": null,
            "grid_area": null,
            "grid_auto_columns": null,
            "grid_auto_flow": null,
            "grid_auto_rows": null,
            "grid_column": null,
            "grid_gap": null,
            "grid_row": null,
            "grid_template_areas": null,
            "grid_template_columns": null,
            "grid_template_rows": null,
            "height": null,
            "justify_content": null,
            "justify_items": null,
            "left": null,
            "margin": null,
            "max_height": null,
            "max_width": null,
            "min_height": null,
            "min_width": null,
            "object_fit": null,
            "object_position": null,
            "order": null,
            "overflow": null,
            "overflow_x": null,
            "overflow_y": null,
            "padding": null,
            "right": null,
            "top": null,
            "visibility": null,
            "width": null
          }
        },
        "0fecfdd26bea4f03b1843e90de99265e": {
          "model_module": "@jupyter-widgets/base",
          "model_module_version": "1.2.0",
          "model_name": "LayoutModel",
          "state": {
            "_model_module": "@jupyter-widgets/base",
            "_model_module_version": "1.2.0",
            "_model_name": "LayoutModel",
            "_view_count": null,
            "_view_module": "@jupyter-widgets/base",
            "_view_module_version": "1.2.0",
            "_view_name": "LayoutView",
            "align_content": null,
            "align_items": null,
            "align_self": null,
            "border": null,
            "bottom": null,
            "display": null,
            "flex": null,
            "flex_flow": null,
            "grid_area": null,
            "grid_auto_columns": null,
            "grid_auto_flow": null,
            "grid_auto_rows": null,
            "grid_column": null,
            "grid_gap": null,
            "grid_row": null,
            "grid_template_areas": null,
            "grid_template_columns": null,
            "grid_template_rows": null,
            "height": null,
            "justify_content": null,
            "justify_items": null,
            "left": null,
            "margin": null,
            "max_height": null,
            "max_width": null,
            "min_height": null,
            "min_width": null,
            "object_fit": null,
            "object_position": null,
            "order": null,
            "overflow": null,
            "overflow_x": null,
            "overflow_y": null,
            "padding": null,
            "right": null,
            "top": null,
            "visibility": null,
            "width": null
          }
        },
        "163f04498ddb4533bb1ef5aee03a3d9d": {
          "model_module": "@jupyter-widgets/controls",
          "model_module_version": "1.5.0",
          "model_name": "DescriptionStyleModel",
          "state": {
            "_model_module": "@jupyter-widgets/controls",
            "_model_module_version": "1.5.0",
            "_model_name": "DescriptionStyleModel",
            "_view_count": null,
            "_view_module": "@jupyter-widgets/base",
            "_view_module_version": "1.2.0",
            "_view_name": "StyleView",
            "description_width": ""
          }
        },
        "22ecc7fd928740008662f8dc19554b8f": {
          "model_module": "@jupyter-widgets/base",
          "model_module_version": "1.2.0",
          "model_name": "LayoutModel",
          "state": {
            "_model_module": "@jupyter-widgets/base",
            "_model_module_version": "1.2.0",
            "_model_name": "LayoutModel",
            "_view_count": null,
            "_view_module": "@jupyter-widgets/base",
            "_view_module_version": "1.2.0",
            "_view_name": "LayoutView",
            "align_content": null,
            "align_items": null,
            "align_self": null,
            "border": null,
            "bottom": null,
            "display": null,
            "flex": null,
            "flex_flow": null,
            "grid_area": null,
            "grid_auto_columns": null,
            "grid_auto_flow": null,
            "grid_auto_rows": null,
            "grid_column": null,
            "grid_gap": null,
            "grid_row": null,
            "grid_template_areas": null,
            "grid_template_columns": null,
            "grid_template_rows": null,
            "height": null,
            "justify_content": null,
            "justify_items": null,
            "left": null,
            "margin": null,
            "max_height": null,
            "max_width": null,
            "min_height": null,
            "min_width": null,
            "object_fit": null,
            "object_position": null,
            "order": null,
            "overflow": null,
            "overflow_x": null,
            "overflow_y": null,
            "padding": null,
            "right": null,
            "top": null,
            "visibility": null,
            "width": null
          }
        },
        "26fe3c129d4541af935dc3e795c0183b": {
          "model_module": "@jupyter-widgets/base",
          "model_module_version": "1.2.0",
          "model_name": "LayoutModel",
          "state": {
            "_model_module": "@jupyter-widgets/base",
            "_model_module_version": "1.2.0",
            "_model_name": "LayoutModel",
            "_view_count": null,
            "_view_module": "@jupyter-widgets/base",
            "_view_module_version": "1.2.0",
            "_view_name": "LayoutView",
            "align_content": null,
            "align_items": null,
            "align_self": null,
            "border": null,
            "bottom": null,
            "display": null,
            "flex": null,
            "flex_flow": null,
            "grid_area": null,
            "grid_auto_columns": null,
            "grid_auto_flow": null,
            "grid_auto_rows": null,
            "grid_column": null,
            "grid_gap": null,
            "grid_row": null,
            "grid_template_areas": null,
            "grid_template_columns": null,
            "grid_template_rows": null,
            "height": null,
            "justify_content": null,
            "justify_items": null,
            "left": null,
            "margin": null,
            "max_height": null,
            "max_width": null,
            "min_height": null,
            "min_width": null,
            "object_fit": null,
            "object_position": null,
            "order": null,
            "overflow": null,
            "overflow_x": null,
            "overflow_y": null,
            "padding": null,
            "right": null,
            "top": null,
            "visibility": null,
            "width": null
          }
        },
        "2e746d357dae4f1aaa7934f481b28165": {
          "model_module": "@jupyter-widgets/base",
          "model_module_version": "1.2.0",
          "model_name": "LayoutModel",
          "state": {
            "_model_module": "@jupyter-widgets/base",
            "_model_module_version": "1.2.0",
            "_model_name": "LayoutModel",
            "_view_count": null,
            "_view_module": "@jupyter-widgets/base",
            "_view_module_version": "1.2.0",
            "_view_name": "LayoutView",
            "align_content": null,
            "align_items": null,
            "align_self": null,
            "border": null,
            "bottom": null,
            "display": null,
            "flex": null,
            "flex_flow": null,
            "grid_area": null,
            "grid_auto_columns": null,
            "grid_auto_flow": null,
            "grid_auto_rows": null,
            "grid_column": null,
            "grid_gap": null,
            "grid_row": null,
            "grid_template_areas": null,
            "grid_template_columns": null,
            "grid_template_rows": null,
            "height": null,
            "justify_content": null,
            "justify_items": null,
            "left": null,
            "margin": null,
            "max_height": null,
            "max_width": null,
            "min_height": null,
            "min_width": null,
            "object_fit": null,
            "object_position": null,
            "order": null,
            "overflow": null,
            "overflow_x": null,
            "overflow_y": null,
            "padding": null,
            "right": null,
            "top": null,
            "visibility": null,
            "width": null
          }
        },
        "2ef618553618410aa1cd3444b7f51d01": {
          "model_module": "@jupyter-widgets/controls",
          "model_module_version": "1.5.0",
          "model_name": "HBoxModel",
          "state": {
            "_dom_classes": [],
            "_model_module": "@jupyter-widgets/controls",
            "_model_module_version": "1.5.0",
            "_model_name": "HBoxModel",
            "_view_count": null,
            "_view_module": "@jupyter-widgets/controls",
            "_view_module_version": "1.5.0",
            "_view_name": "HBoxView",
            "box_style": "",
            "children": [
              "IPY_MODEL_7ec02a6238cf4343b933fb30cdad4085",
              "IPY_MODEL_6bab0c78a8334b24a41a5dbbbd690afa",
              "IPY_MODEL_ea046b619617482191aeda6352f77134"
            ],
            "layout": "IPY_MODEL_ee4a57e0ec8f4084900affc3c02c8b33"
          }
        },
        "322e5973406540219d97544f15e323a9": {
          "model_module": "@jupyter-widgets/controls",
          "model_module_version": "1.5.0",
          "model_name": "DescriptionStyleModel",
          "state": {
            "_model_module": "@jupyter-widgets/controls",
            "_model_module_version": "1.5.0",
            "_model_name": "DescriptionStyleModel",
            "_view_count": null,
            "_view_module": "@jupyter-widgets/base",
            "_view_module_version": "1.2.0",
            "_view_name": "StyleView",
            "description_width": ""
          }
        },
        "3e3c1ef5864a4de78539005fc3c6a6c4": {
          "model_module": "@jupyter-widgets/base",
          "model_module_version": "1.2.0",
          "model_name": "LayoutModel",
          "state": {
            "_model_module": "@jupyter-widgets/base",
            "_model_module_version": "1.2.0",
            "_model_name": "LayoutModel",
            "_view_count": null,
            "_view_module": "@jupyter-widgets/base",
            "_view_module_version": "1.2.0",
            "_view_name": "LayoutView",
            "align_content": null,
            "align_items": null,
            "align_self": null,
            "border": null,
            "bottom": null,
            "display": null,
            "flex": null,
            "flex_flow": null,
            "grid_area": null,
            "grid_auto_columns": null,
            "grid_auto_flow": null,
            "grid_auto_rows": null,
            "grid_column": null,
            "grid_gap": null,
            "grid_row": null,
            "grid_template_areas": null,
            "grid_template_columns": null,
            "grid_template_rows": null,
            "height": null,
            "justify_content": null,
            "justify_items": null,
            "left": null,
            "margin": null,
            "max_height": null,
            "max_width": null,
            "min_height": null,
            "min_width": null,
            "object_fit": null,
            "object_position": null,
            "order": null,
            "overflow": null,
            "overflow_x": null,
            "overflow_y": null,
            "padding": null,
            "right": null,
            "top": null,
            "visibility": null,
            "width": null
          }
        },
        "3ed5a15759e54300842cc8a0c186ed39": {
          "model_module": "@jupyter-widgets/base",
          "model_module_version": "1.2.0",
          "model_name": "LayoutModel",
          "state": {
            "_model_module": "@jupyter-widgets/base",
            "_model_module_version": "1.2.0",
            "_model_name": "LayoutModel",
            "_view_count": null,
            "_view_module": "@jupyter-widgets/base",
            "_view_module_version": "1.2.0",
            "_view_name": "LayoutView",
            "align_content": null,
            "align_items": null,
            "align_self": null,
            "border": null,
            "bottom": null,
            "display": null,
            "flex": null,
            "flex_flow": null,
            "grid_area": null,
            "grid_auto_columns": null,
            "grid_auto_flow": null,
            "grid_auto_rows": null,
            "grid_column": null,
            "grid_gap": null,
            "grid_row": null,
            "grid_template_areas": null,
            "grid_template_columns": null,
            "grid_template_rows": null,
            "height": null,
            "justify_content": null,
            "justify_items": null,
            "left": null,
            "margin": null,
            "max_height": null,
            "max_width": null,
            "min_height": null,
            "min_width": null,
            "object_fit": null,
            "object_position": null,
            "order": null,
            "overflow": null,
            "overflow_x": null,
            "overflow_y": null,
            "padding": null,
            "right": null,
            "top": null,
            "visibility": null,
            "width": null
          }
        },
        "40891be9352b451681dacb782952d35d": {
          "model_module": "@jupyter-widgets/base",
          "model_module_version": "1.2.0",
          "model_name": "LayoutModel",
          "state": {
            "_model_module": "@jupyter-widgets/base",
            "_model_module_version": "1.2.0",
            "_model_name": "LayoutModel",
            "_view_count": null,
            "_view_module": "@jupyter-widgets/base",
            "_view_module_version": "1.2.0",
            "_view_name": "LayoutView",
            "align_content": null,
            "align_items": null,
            "align_self": null,
            "border": null,
            "bottom": null,
            "display": "inline-flex",
            "flex": null,
            "flex_flow": "row wrap",
            "grid_area": null,
            "grid_auto_columns": null,
            "grid_auto_flow": null,
            "grid_auto_rows": null,
            "grid_column": null,
            "grid_gap": null,
            "grid_row": null,
            "grid_template_areas": null,
            "grid_template_columns": null,
            "grid_template_rows": null,
            "height": null,
            "justify_content": null,
            "justify_items": null,
            "left": null,
            "margin": null,
            "max_height": null,
            "max_width": null,
            "min_height": null,
            "min_width": null,
            "object_fit": null,
            "object_position": null,
            "order": null,
            "overflow": null,
            "overflow_x": null,
            "overflow_y": null,
            "padding": null,
            "right": null,
            "top": null,
            "visibility": null,
            "width": "100%"
          }
        },
        "41cc58e7dbe44e11bebd6cf7184188b4": {
          "model_module": "@jupyter-widgets/controls",
          "model_module_version": "1.5.0",
          "model_name": "DescriptionStyleModel",
          "state": {
            "_model_module": "@jupyter-widgets/controls",
            "_model_module_version": "1.5.0",
            "_model_name": "DescriptionStyleModel",
            "_view_count": null,
            "_view_module": "@jupyter-widgets/base",
            "_view_module_version": "1.2.0",
            "_view_name": "StyleView",
            "description_width": ""
          }
        },
        "490ca86eca7645868834ef875df44be7": {
          "model_module": "@jupyter-widgets/base",
          "model_module_version": "1.2.0",
          "model_name": "LayoutModel",
          "state": {
            "_model_module": "@jupyter-widgets/base",
            "_model_module_version": "1.2.0",
            "_model_name": "LayoutModel",
            "_view_count": null,
            "_view_module": "@jupyter-widgets/base",
            "_view_module_version": "1.2.0",
            "_view_name": "LayoutView",
            "align_content": null,
            "align_items": null,
            "align_self": null,
            "border": null,
            "bottom": null,
            "display": null,
            "flex": null,
            "flex_flow": null,
            "grid_area": null,
            "grid_auto_columns": null,
            "grid_auto_flow": null,
            "grid_auto_rows": null,
            "grid_column": null,
            "grid_gap": null,
            "grid_row": null,
            "grid_template_areas": null,
            "grid_template_columns": null,
            "grid_template_rows": null,
            "height": null,
            "justify_content": null,
            "justify_items": null,
            "left": null,
            "margin": null,
            "max_height": null,
            "max_width": null,
            "min_height": null,
            "min_width": null,
            "object_fit": null,
            "object_position": null,
            "order": null,
            "overflow": null,
            "overflow_x": null,
            "overflow_y": null,
            "padding": null,
            "right": null,
            "top": null,
            "visibility": null,
            "width": null
          }
        },
        "4baafd8cb50b4d7daf56df3ee43cf369": {
          "model_module": "@jupyter-widgets/controls",
          "model_module_version": "1.5.0",
          "model_name": "HTMLModel",
          "state": {
            "_dom_classes": [],
            "_model_module": "@jupyter-widgets/controls",
            "_model_module_version": "1.5.0",
            "_model_name": "HTMLModel",
            "_view_count": null,
            "_view_module": "@jupyter-widgets/controls",
            "_view_module_version": "1.5.0",
            "_view_name": "HTMLView",
            "description": "",
            "description_tooltip": null,
            "layout": "IPY_MODEL_cea0e70398e44909bf1a3dc7b521e991",
            "placeholder": "​",
            "style": "IPY_MODEL_41cc58e7dbe44e11bebd6cf7184188b4",
            "value": " 1020/5168 [13:17&lt;54:04,  1.28it/s, loss=0.58, v_num=0]"
          }
        },
        "573299a18ccc4d1fad3cf2995f78b5cb": {
          "model_module": "@jupyter-widgets/controls",
          "model_module_version": "1.5.0",
          "model_name": "DescriptionStyleModel",
          "state": {
            "_model_module": "@jupyter-widgets/controls",
            "_model_module_version": "1.5.0",
            "_model_name": "DescriptionStyleModel",
            "_view_count": null,
            "_view_module": "@jupyter-widgets/base",
            "_view_module_version": "1.2.0",
            "_view_name": "StyleView",
            "description_width": ""
          }
        },
        "6767a32bb1344936a57ff5808e535c51": {
          "model_module": "@jupyter-widgets/controls",
          "model_module_version": "1.5.0",
          "model_name": "ProgressStyleModel",
          "state": {
            "_model_module": "@jupyter-widgets/controls",
            "_model_module_version": "1.5.0",
            "_model_name": "ProgressStyleModel",
            "_view_count": null,
            "_view_module": "@jupyter-widgets/base",
            "_view_module_version": "1.2.0",
            "_view_name": "StyleView",
            "bar_color": null,
            "description_width": ""
          }
        },
        "692b82f8f1b44333a16c525aa6b7960b": {
          "model_module": "@jupyter-widgets/controls",
          "model_module_version": "1.5.0",
          "model_name": "HTMLModel",
          "state": {
            "_dom_classes": [],
            "_model_module": "@jupyter-widgets/controls",
            "_model_module_version": "1.5.0",
            "_model_name": "HTMLModel",
            "_view_count": null,
            "_view_module": "@jupyter-widgets/controls",
            "_view_module_version": "1.5.0",
            "_view_name": "HTMLView",
            "description": "",
            "description_tooltip": null,
            "layout": "IPY_MODEL_9a4604fe5e9a4ffb8d95bf1493f2e14b",
            "placeholder": "​",
            "style": "IPY_MODEL_bb6da4a8b917472c8c175071cb109036",
            "value": "Downloading tokenizer_config.json: 100%"
          }
        },
        "6bab0c78a8334b24a41a5dbbbd690afa": {
          "model_module": "@jupyter-widgets/controls",
          "model_module_version": "1.5.0",
          "model_name": "FloatProgressModel",
          "state": {
            "_dom_classes": [],
            "_model_module": "@jupyter-widgets/controls",
            "_model_module_version": "1.5.0",
            "_model_name": "FloatProgressModel",
            "_view_count": null,
            "_view_module": "@jupyter-widgets/controls",
            "_view_module_version": "1.5.0",
            "_view_name": "ProgressView",
            "bar_style": "success",
            "description": "",
            "description_tooltip": null,
            "layout": "IPY_MODEL_0fecfdd26bea4f03b1843e90de99265e",
            "max": 672,
            "min": 0,
            "orientation": "horizontal",
            "style": "IPY_MODEL_9ed2c47b0fe94407a07e97c77b46995f",
            "value": 672
          }
        },
        "6ccc8aed16c34f989504145ee93850b1": {
          "model_module": "@jupyter-widgets/controls",
          "model_module_version": "1.5.0",
          "model_name": "HBoxModel",
          "state": {
            "_dom_classes": [],
            "_model_module": "@jupyter-widgets/controls",
            "_model_module_version": "1.5.0",
            "_model_name": "HBoxModel",
            "_view_count": null,
            "_view_module": "@jupyter-widgets/controls",
            "_view_module_version": "1.5.0",
            "_view_name": "HBoxView",
            "box_style": "",
            "children": [
              "IPY_MODEL_f3c98814689f4d4ca9064c038ac622df",
              "IPY_MODEL_b4d0a9d5a2b9475eaf35a0a2930cd618",
              "IPY_MODEL_4baafd8cb50b4d7daf56df3ee43cf369"
            ],
            "layout": "IPY_MODEL_40891be9352b451681dacb782952d35d"
          }
        },
        "6e258f8572e64c449c5e23d5ee4e8928": {
          "model_module": "@jupyter-widgets/controls",
          "model_module_version": "1.5.0",
          "model_name": "DescriptionStyleModel",
          "state": {
            "_model_module": "@jupyter-widgets/controls",
            "_model_module_version": "1.5.0",
            "_model_name": "DescriptionStyleModel",
            "_view_count": null,
            "_view_module": "@jupyter-widgets/base",
            "_view_module_version": "1.2.0",
            "_view_name": "StyleView",
            "description_width": ""
          }
        },
        "6e794f12b480430aa92604e52a8fc29e": {
          "model_module": "@jupyter-widgets/controls",
          "model_module_version": "1.5.0",
          "model_name": "FloatProgressModel",
          "state": {
            "_dom_classes": [],
            "_model_module": "@jupyter-widgets/controls",
            "_model_module_version": "1.5.0",
            "_model_name": "FloatProgressModel",
            "_view_count": null,
            "_view_module": "@jupyter-widgets/controls",
            "_view_module_version": "1.5.0",
            "_view_name": "ProgressView",
            "bar_style": "success",
            "description": "",
            "description_tooltip": null,
            "layout": "IPY_MODEL_22ecc7fd928740008662f8dc19554b8f",
            "max": 249928,
            "min": 0,
            "orientation": "horizontal",
            "style": "IPY_MODEL_015633cf7274473fb9ee6729abafbd6b",
            "value": 249928
          }
        },
        "7ec02a6238cf4343b933fb30cdad4085": {
          "model_module": "@jupyter-widgets/controls",
          "model_module_version": "1.5.0",
          "model_name": "HTMLModel",
          "state": {
            "_dom_classes": [],
            "_model_module": "@jupyter-widgets/controls",
            "_model_module_version": "1.5.0",
            "_model_name": "HTMLModel",
            "_view_count": null,
            "_view_module": "@jupyter-widgets/controls",
            "_view_module_version": "1.5.0",
            "_view_name": "HTMLView",
            "description": "",
            "description_tooltip": null,
            "layout": "IPY_MODEL_3ed5a15759e54300842cc8a0c186ed39",
            "placeholder": "​",
            "style": "IPY_MODEL_e1fec0a8b12443d5a848a97bad592a45",
            "value": "Downloading config.json: 100%"
          }
        },
        "956c9d38de554a23b54d1582f06b518d": {
          "model_module": "@jupyter-widgets/controls",
          "model_module_version": "1.5.0",
          "model_name": "HTMLModel",
          "state": {
            "_dom_classes": [],
            "_model_module": "@jupyter-widgets/controls",
            "_model_module_version": "1.5.0",
            "_model_name": "HTMLModel",
            "_view_count": null,
            "_view_module": "@jupyter-widgets/controls",
            "_view_module_version": "1.5.0",
            "_view_name": "HTMLView",
            "description": "",
            "description_tooltip": null,
            "layout": "IPY_MODEL_9aca5e1bdfbf46489393d1fb1266e792",
            "placeholder": "​",
            "style": "IPY_MODEL_d8340db64fc943e9bb0ee1467be26efb",
            "value": " 49.0/49.0 [00:00&lt;00:00, 1.93kB/s]"
          }
        },
        "9a4604fe5e9a4ffb8d95bf1493f2e14b": {
          "model_module": "@jupyter-widgets/base",
          "model_module_version": "1.2.0",
          "model_name": "LayoutModel",
          "state": {
            "_model_module": "@jupyter-widgets/base",
            "_model_module_version": "1.2.0",
            "_model_name": "LayoutModel",
            "_view_count": null,
            "_view_module": "@jupyter-widgets/base",
            "_view_module_version": "1.2.0",
            "_view_name": "LayoutView",
            "align_content": null,
            "align_items": null,
            "align_self": null,
            "border": null,
            "bottom": null,
            "display": null,
            "flex": null,
            "flex_flow": null,
            "grid_area": null,
            "grid_auto_columns": null,
            "grid_auto_flow": null,
            "grid_auto_rows": null,
            "grid_column": null,
            "grid_gap": null,
            "grid_row": null,
            "grid_template_areas": null,
            "grid_template_columns": null,
            "grid_template_rows": null,
            "height": null,
            "justify_content": null,
            "justify_items": null,
            "left": null,
            "margin": null,
            "max_height": null,
            "max_width": null,
            "min_height": null,
            "min_width": null,
            "object_fit": null,
            "object_position": null,
            "order": null,
            "overflow": null,
            "overflow_x": null,
            "overflow_y": null,
            "padding": null,
            "right": null,
            "top": null,
            "visibility": null,
            "width": null
          }
        },
        "9aca5e1bdfbf46489393d1fb1266e792": {
          "model_module": "@jupyter-widgets/base",
          "model_module_version": "1.2.0",
          "model_name": "LayoutModel",
          "state": {
            "_model_module": "@jupyter-widgets/base",
            "_model_module_version": "1.2.0",
            "_model_name": "LayoutModel",
            "_view_count": null,
            "_view_module": "@jupyter-widgets/base",
            "_view_module_version": "1.2.0",
            "_view_name": "LayoutView",
            "align_content": null,
            "align_items": null,
            "align_self": null,
            "border": null,
            "bottom": null,
            "display": null,
            "flex": null,
            "flex_flow": null,
            "grid_area": null,
            "grid_auto_columns": null,
            "grid_auto_flow": null,
            "grid_auto_rows": null,
            "grid_column": null,
            "grid_gap": null,
            "grid_row": null,
            "grid_template_areas": null,
            "grid_template_columns": null,
            "grid_template_rows": null,
            "height": null,
            "justify_content": null,
            "justify_items": null,
            "left": null,
            "margin": null,
            "max_height": null,
            "max_width": null,
            "min_height": null,
            "min_width": null,
            "object_fit": null,
            "object_position": null,
            "order": null,
            "overflow": null,
            "overflow_x": null,
            "overflow_y": null,
            "padding": null,
            "right": null,
            "top": null,
            "visibility": null,
            "width": null
          }
        },
        "9e98e23ebca541b28bc18020ef62a9b7": {
          "model_module": "@jupyter-widgets/base",
          "model_module_version": "1.2.0",
          "model_name": "LayoutModel",
          "state": {
            "_model_module": "@jupyter-widgets/base",
            "_model_module_version": "1.2.0",
            "_model_name": "LayoutModel",
            "_view_count": null,
            "_view_module": "@jupyter-widgets/base",
            "_view_module_version": "1.2.0",
            "_view_name": "LayoutView",
            "align_content": null,
            "align_items": null,
            "align_self": null,
            "border": null,
            "bottom": null,
            "display": null,
            "flex": null,
            "flex_flow": null,
            "grid_area": null,
            "grid_auto_columns": null,
            "grid_auto_flow": null,
            "grid_auto_rows": null,
            "grid_column": null,
            "grid_gap": null,
            "grid_row": null,
            "grid_template_areas": null,
            "grid_template_columns": null,
            "grid_template_rows": null,
            "height": null,
            "justify_content": null,
            "justify_items": null,
            "left": null,
            "margin": null,
            "max_height": null,
            "max_width": null,
            "min_height": null,
            "min_width": null,
            "object_fit": null,
            "object_position": null,
            "order": null,
            "overflow": null,
            "overflow_x": null,
            "overflow_y": null,
            "padding": null,
            "right": null,
            "top": null,
            "visibility": null,
            "width": null
          }
        },
        "9ed2c47b0fe94407a07e97c77b46995f": {
          "model_module": "@jupyter-widgets/controls",
          "model_module_version": "1.5.0",
          "model_name": "ProgressStyleModel",
          "state": {
            "_model_module": "@jupyter-widgets/controls",
            "_model_module_version": "1.5.0",
            "_model_name": "ProgressStyleModel",
            "_view_count": null,
            "_view_module": "@jupyter-widgets/base",
            "_view_module_version": "1.2.0",
            "_view_name": "StyleView",
            "bar_color": null,
            "description_width": ""
          }
        },
        "a822b98af90747a59bfd64a09b630eba": {
          "model_module": "@jupyter-widgets/base",
          "model_module_version": "1.2.0",
          "model_name": "LayoutModel",
          "state": {
            "_model_module": "@jupyter-widgets/base",
            "_model_module_version": "1.2.0",
            "_model_name": "LayoutModel",
            "_view_count": null,
            "_view_module": "@jupyter-widgets/base",
            "_view_module_version": "1.2.0",
            "_view_name": "LayoutView",
            "align_content": null,
            "align_items": null,
            "align_self": null,
            "border": null,
            "bottom": null,
            "display": null,
            "flex": "2",
            "flex_flow": null,
            "grid_area": null,
            "grid_auto_columns": null,
            "grid_auto_flow": null,
            "grid_auto_rows": null,
            "grid_column": null,
            "grid_gap": null,
            "grid_row": null,
            "grid_template_areas": null,
            "grid_template_columns": null,
            "grid_template_rows": null,
            "height": null,
            "justify_content": null,
            "justify_items": null,
            "left": null,
            "margin": null,
            "max_height": null,
            "max_width": null,
            "min_height": null,
            "min_width": null,
            "object_fit": null,
            "object_position": null,
            "order": null,
            "overflow": null,
            "overflow_x": null,
            "overflow_y": null,
            "padding": null,
            "right": null,
            "top": null,
            "visibility": null,
            "width": null
          }
        },
        "aeabb2b502a34bfa8efd63b44208889f": {
          "model_module": "@jupyter-widgets/controls",
          "model_module_version": "1.5.0",
          "model_name": "HTMLModel",
          "state": {
            "_dom_classes": [],
            "_model_module": "@jupyter-widgets/controls",
            "_model_module_version": "1.5.0",
            "_model_name": "HTMLModel",
            "_view_count": null,
            "_view_module": "@jupyter-widgets/controls",
            "_view_module_version": "1.5.0",
            "_view_name": "HTMLView",
            "description": "",
            "description_tooltip": null,
            "layout": "IPY_MODEL_26fe3c129d4541af935dc3e795c0183b",
            "placeholder": "​",
            "style": "IPY_MODEL_163f04498ddb4533bb1ef5aee03a3d9d",
            "value": "Downloading vocab.txt: 100%"
          }
        },
        "af7bb57d93e348339486a8f93b5f81f4": {
          "model_module": "@jupyter-widgets/base",
          "model_module_version": "1.2.0",
          "model_name": "LayoutModel",
          "state": {
            "_model_module": "@jupyter-widgets/base",
            "_model_module_version": "1.2.0",
            "_model_name": "LayoutModel",
            "_view_count": null,
            "_view_module": "@jupyter-widgets/base",
            "_view_module_version": "1.2.0",
            "_view_name": "LayoutView",
            "align_content": null,
            "align_items": null,
            "align_self": null,
            "border": null,
            "bottom": null,
            "display": null,
            "flex": null,
            "flex_flow": null,
            "grid_area": null,
            "grid_auto_columns": null,
            "grid_auto_flow": null,
            "grid_auto_rows": null,
            "grid_column": null,
            "grid_gap": null,
            "grid_row": null,
            "grid_template_areas": null,
            "grid_template_columns": null,
            "grid_template_rows": null,
            "height": null,
            "justify_content": null,
            "justify_items": null,
            "left": null,
            "margin": null,
            "max_height": null,
            "max_width": null,
            "min_height": null,
            "min_width": null,
            "object_fit": null,
            "object_position": null,
            "order": null,
            "overflow": null,
            "overflow_x": null,
            "overflow_y": null,
            "padding": null,
            "right": null,
            "top": null,
            "visibility": null,
            "width": null
          }
        },
        "b4d0a9d5a2b9475eaf35a0a2930cd618": {
          "model_module": "@jupyter-widgets/controls",
          "model_module_version": "1.5.0",
          "model_name": "FloatProgressModel",
          "state": {
            "_dom_classes": [],
            "_model_module": "@jupyter-widgets/controls",
            "_model_module_version": "1.5.0",
            "_model_name": "FloatProgressModel",
            "_view_count": null,
            "_view_module": "@jupyter-widgets/controls",
            "_view_module_version": "1.5.0",
            "_view_name": "ProgressView",
            "bar_style": "",
            "description": "",
            "description_tooltip": null,
            "layout": "IPY_MODEL_a822b98af90747a59bfd64a09b630eba",
            "max": 5168,
            "min": 0,
            "orientation": "horizontal",
            "style": "IPY_MODEL_f15d13479b7f48d3b6d973e5e2dc7564",
            "value": 1020
          }
        },
        "bb6da4a8b917472c8c175071cb109036": {
          "model_module": "@jupyter-widgets/controls",
          "model_module_version": "1.5.0",
          "model_name": "DescriptionStyleModel",
          "state": {
            "_model_module": "@jupyter-widgets/controls",
            "_model_module_version": "1.5.0",
            "_model_name": "DescriptionStyleModel",
            "_view_count": null,
            "_view_module": "@jupyter-widgets/base",
            "_view_module_version": "1.2.0",
            "_view_name": "StyleView",
            "description_width": ""
          }
        },
        "bca497f54aaf479d95153041dc02629b": {
          "model_module": "@jupyter-widgets/controls",
          "model_module_version": "1.5.0",
          "model_name": "HTMLModel",
          "state": {
            "_dom_classes": [],
            "_model_module": "@jupyter-widgets/controls",
            "_model_module_version": "1.5.0",
            "_model_name": "HTMLModel",
            "_view_count": null,
            "_view_module": "@jupyter-widgets/controls",
            "_view_module_version": "1.5.0",
            "_view_name": "HTMLView",
            "description": "",
            "description_tooltip": null,
            "layout": "IPY_MODEL_af7bb57d93e348339486a8f93b5f81f4",
            "placeholder": "​",
            "style": "IPY_MODEL_6e258f8572e64c449c5e23d5ee4e8928",
            "value": " 244k/244k [00:00&lt;00:00, 767kB/s]"
          }
        },
        "ce129d777edb4752a8809a8eb7e49d90": {
          "model_module": "@jupyter-widgets/controls",
          "model_module_version": "1.5.0",
          "model_name": "FloatProgressModel",
          "state": {
            "_dom_classes": [],
            "_model_module": "@jupyter-widgets/controls",
            "_model_module_version": "1.5.0",
            "_model_name": "FloatProgressModel",
            "_view_count": null,
            "_view_module": "@jupyter-widgets/controls",
            "_view_module_version": "1.5.0",
            "_view_name": "ProgressView",
            "bar_style": "success",
            "description": "",
            "description_tooltip": null,
            "layout": "IPY_MODEL_3e3c1ef5864a4de78539005fc3c6a6c4",
            "max": 49,
            "min": 0,
            "orientation": "horizontal",
            "style": "IPY_MODEL_6767a32bb1344936a57ff5808e535c51",
            "value": 49
          }
        },
        "cea0e70398e44909bf1a3dc7b521e991": {
          "model_module": "@jupyter-widgets/base",
          "model_module_version": "1.2.0",
          "model_name": "LayoutModel",
          "state": {
            "_model_module": "@jupyter-widgets/base",
            "_model_module_version": "1.2.0",
            "_model_name": "LayoutModel",
            "_view_count": null,
            "_view_module": "@jupyter-widgets/base",
            "_view_module_version": "1.2.0",
            "_view_name": "LayoutView",
            "align_content": null,
            "align_items": null,
            "align_self": null,
            "border": null,
            "bottom": null,
            "display": null,
            "flex": null,
            "flex_flow": null,
            "grid_area": null,
            "grid_auto_columns": null,
            "grid_auto_flow": null,
            "grid_auto_rows": null,
            "grid_column": null,
            "grid_gap": null,
            "grid_row": null,
            "grid_template_areas": null,
            "grid_template_columns": null,
            "grid_template_rows": null,
            "height": null,
            "justify_content": null,
            "justify_items": null,
            "left": null,
            "margin": null,
            "max_height": null,
            "max_width": null,
            "min_height": null,
            "min_width": null,
            "object_fit": null,
            "object_position": null,
            "order": null,
            "overflow": null,
            "overflow_x": null,
            "overflow_y": null,
            "padding": null,
            "right": null,
            "top": null,
            "visibility": null,
            "width": null
          }
        },
        "d8340db64fc943e9bb0ee1467be26efb": {
          "model_module": "@jupyter-widgets/controls",
          "model_module_version": "1.5.0",
          "model_name": "DescriptionStyleModel",
          "state": {
            "_model_module": "@jupyter-widgets/controls",
            "_model_module_version": "1.5.0",
            "_model_name": "DescriptionStyleModel",
            "_view_count": null,
            "_view_module": "@jupyter-widgets/base",
            "_view_module_version": "1.2.0",
            "_view_name": "StyleView",
            "description_width": ""
          }
        },
        "e1fec0a8b12443d5a848a97bad592a45": {
          "model_module": "@jupyter-widgets/controls",
          "model_module_version": "1.5.0",
          "model_name": "DescriptionStyleModel",
          "state": {
            "_model_module": "@jupyter-widgets/controls",
            "_model_module_version": "1.5.0",
            "_model_name": "DescriptionStyleModel",
            "_view_count": null,
            "_view_module": "@jupyter-widgets/base",
            "_view_module_version": "1.2.0",
            "_view_name": "StyleView",
            "description_width": ""
          }
        },
        "e6544f6b860445e2be55049215c4ce34": {
          "model_module": "@jupyter-widgets/controls",
          "model_module_version": "1.5.0",
          "model_name": "HBoxModel",
          "state": {
            "_dom_classes": [],
            "_model_module": "@jupyter-widgets/controls",
            "_model_module_version": "1.5.0",
            "_model_name": "HBoxModel",
            "_view_count": null,
            "_view_module": "@jupyter-widgets/controls",
            "_view_module_version": "1.5.0",
            "_view_name": "HBoxView",
            "box_style": "",
            "children": [
              "IPY_MODEL_692b82f8f1b44333a16c525aa6b7960b",
              "IPY_MODEL_ce129d777edb4752a8809a8eb7e49d90",
              "IPY_MODEL_956c9d38de554a23b54d1582f06b518d"
            ],
            "layout": "IPY_MODEL_0cfe919ba4f24e49a57574440ad8b5da"
          }
        },
        "ea046b619617482191aeda6352f77134": {
          "model_module": "@jupyter-widgets/controls",
          "model_module_version": "1.5.0",
          "model_name": "HTMLModel",
          "state": {
            "_dom_classes": [],
            "_model_module": "@jupyter-widgets/controls",
            "_model_module_version": "1.5.0",
            "_model_name": "HTMLModel",
            "_view_count": null,
            "_view_module": "@jupyter-widgets/controls",
            "_view_module_version": "1.5.0",
            "_view_name": "HTMLView",
            "description": "",
            "description_tooltip": null,
            "layout": "IPY_MODEL_490ca86eca7645868834ef875df44be7",
            "placeholder": "​",
            "style": "IPY_MODEL_322e5973406540219d97544f15e323a9",
            "value": " 672/672 [00:00&lt;00:00, 26.6kB/s]"
          }
        },
        "ee4a57e0ec8f4084900affc3c02c8b33": {
          "model_module": "@jupyter-widgets/base",
          "model_module_version": "1.2.0",
          "model_name": "LayoutModel",
          "state": {
            "_model_module": "@jupyter-widgets/base",
            "_model_module_version": "1.2.0",
            "_model_name": "LayoutModel",
            "_view_count": null,
            "_view_module": "@jupyter-widgets/base",
            "_view_module_version": "1.2.0",
            "_view_name": "LayoutView",
            "align_content": null,
            "align_items": null,
            "align_self": null,
            "border": null,
            "bottom": null,
            "display": null,
            "flex": null,
            "flex_flow": null,
            "grid_area": null,
            "grid_auto_columns": null,
            "grid_auto_flow": null,
            "grid_auto_rows": null,
            "grid_column": null,
            "grid_gap": null,
            "grid_row": null,
            "grid_template_areas": null,
            "grid_template_columns": null,
            "grid_template_rows": null,
            "height": null,
            "justify_content": null,
            "justify_items": null,
            "left": null,
            "margin": null,
            "max_height": null,
            "max_width": null,
            "min_height": null,
            "min_width": null,
            "object_fit": null,
            "object_position": null,
            "order": null,
            "overflow": null,
            "overflow_x": null,
            "overflow_y": null,
            "padding": null,
            "right": null,
            "top": null,
            "visibility": null,
            "width": null
          }
        },
        "f15d13479b7f48d3b6d973e5e2dc7564": {
          "model_module": "@jupyter-widgets/controls",
          "model_module_version": "1.5.0",
          "model_name": "ProgressStyleModel",
          "state": {
            "_model_module": "@jupyter-widgets/controls",
            "_model_module_version": "1.5.0",
            "_model_name": "ProgressStyleModel",
            "_view_count": null,
            "_view_module": "@jupyter-widgets/base",
            "_view_module_version": "1.2.0",
            "_view_name": "StyleView",
            "bar_color": null,
            "description_width": ""
          }
        },
        "f3c98814689f4d4ca9064c038ac622df": {
          "model_module": "@jupyter-widgets/controls",
          "model_module_version": "1.5.0",
          "model_name": "HTMLModel",
          "state": {
            "_dom_classes": [],
            "_model_module": "@jupyter-widgets/controls",
            "_model_module_version": "1.5.0",
            "_model_name": "HTMLModel",
            "_view_count": null,
            "_view_module": "@jupyter-widgets/controls",
            "_view_module_version": "1.5.0",
            "_view_name": "HTMLView",
            "description": "",
            "description_tooltip": null,
            "layout": "IPY_MODEL_9e98e23ebca541b28bc18020ef62a9b7",
            "placeholder": "​",
            "style": "IPY_MODEL_573299a18ccc4d1fad3cf2995f78b5cb",
            "value": "Epoch 2:  20%"
          }
        },
        "fb7c74a609ef469fa6bd57067f0cb110": {
          "model_module": "@jupyter-widgets/controls",
          "model_module_version": "1.5.0",
          "model_name": "HBoxModel",
          "state": {
            "_dom_classes": [],
            "_model_module": "@jupyter-widgets/controls",
            "_model_module_version": "1.5.0",
            "_model_name": "HBoxModel",
            "_view_count": null,
            "_view_module": "@jupyter-widgets/controls",
            "_view_module_version": "1.5.0",
            "_view_name": "HBoxView",
            "box_style": "",
            "children": [
              "IPY_MODEL_aeabb2b502a34bfa8efd63b44208889f",
              "IPY_MODEL_6e794f12b480430aa92604e52a8fc29e",
              "IPY_MODEL_bca497f54aaf479d95153041dc02629b"
            ],
            "layout": "IPY_MODEL_2e746d357dae4f1aaa7934f481b28165"
          }
        }
      }
    }
  },
  "nbformat": 4,
  "nbformat_minor": 0
}