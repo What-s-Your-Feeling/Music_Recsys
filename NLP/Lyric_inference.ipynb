{
 "cells": [
  {
   "cell_type": "code",
   "execution_count": 1,
   "id": "49a8a303-b7d5-4724-8eef-3bfa761f9f7e",
   "metadata": {},
   "outputs": [
    {
     "name": "stderr",
     "output_type": "stream",
     "text": [
      "2022-09-19 08:40:27.076507: I tensorflow/core/platform/cpu_feature_guard.cc:193] This TensorFlow binary is optimized with oneAPI Deep Neural Network Library (oneDNN) to use the following CPU instructions in performance-critical operations:  SSE3 SSE4.1 SSE4.2 AVX AVX2 AVX512F FMA\n",
      "To enable them in other operations, rebuild TensorFlow with the appropriate compiler flags.\n",
      "2022-09-19 08:40:27.238910: I tensorflow/core/tpu/tpu_initializer_helper.cc:262] Libtpu path is: libtpu.so\n"
     ]
    },
    {
     "name": "stdout",
     "output_type": "stream",
     "text": [
      "WARNING:tensorflow:Please fix your imports. Module tensorflow.python.training.saving.functional_saver has been moved to tensorflow.python.checkpoint.functional_saver. The old module will be deleted in version 2.11.\n",
      "WARNING:tensorflow:Please fix your imports. Module tensorflow.python.training.saving.checkpoint_options has been moved to tensorflow.python.checkpoint.checkpoint_options. The old module will be deleted in version 2.11.\n"
     ]
    },
    {
     "name": "stderr",
     "output_type": "stream",
     "text": [
      "[percpu.cc : 535] RAW: rseq syscall failed with errno 22 after membarrier sycall succeeded.\n"
     ]
    },
    {
     "name": "stdout",
     "output_type": "stream",
     "text": [
      "torch version: 1.12.0+cu102\n",
      "tf version: 2.10.0\n"
     ]
    }
   ],
   "source": [
    "import wandb\n",
    "import time\n",
    "import numpy as np\n",
    "import pandas as pd\n",
    "\n",
    "import tensorflow as tf\n",
    "import torch\n",
    "\n",
    "import re\n",
    "import os\n",
    "\n",
    "import datasets\n",
    "from datasets import load_dataset, load_metric, ClassLabel, Sequence, Dataset\n",
    "from multiprocessing import Pool\n",
    "from sklearn.metrics import f1_score\n",
    "from sklearn.model_selection import train_test_split as tts\n",
    "\n",
    "from transformers import TextClassificationPipeline, AutoModelForSequenceClassification, AutoTokenizer\n",
    "import matplotlib.pyplot as plt\n",
    "\n",
    "print('torch version:', torch.__version__)\n",
    "print('tf version:', tf.__version__)"
   ]
  },
  {
   "cell_type": "code",
   "execution_count": 2,
   "id": "4173d7a2-3072-4b86-96d2-cd4f400f0eb4",
   "metadata": {},
   "outputs": [
    {
     "name": "stdout",
     "output_type": "stream",
     "text": [
      "1.12\n"
     ]
    }
   ],
   "source": [
    "# using TPU through torch\n",
    "import torch_xla\n",
    "import torch_xla.utils.utils as xu\n",
    "import torch_xla.core.xla_model as xm\n",
    "import torch_xla.utils.serialization as xser\n",
    "import torch_xla.distributed.parallel_loader as pl\n",
    "import torch_xla.distributed.xla_multiprocessing as xmp\n",
    "\n",
    "print(torch_xla.__version__)"
   ]
  },
  {
   "cell_type": "code",
   "execution_count": 3,
   "id": "f247f3c8-1987-4c60-94c9-2a253d654d7c",
   "metadata": {},
   "outputs": [],
   "source": [
    "# random seed fix\n",
    "import random\n",
    "\n",
    "random.seed(2022)\n",
    "torch.manual_seed(2022)\n",
    "np.random.seed(2022)"
   ]
  },
  {
   "cell_type": "code",
   "execution_count": 4,
   "id": "bd9c021c-2d72-4447-9ff7-506bfffabd18",
   "metadata": {},
   "outputs": [
    {
     "data": {
      "text/plain": [
       "device(type='xla', index=1)"
      ]
     },
     "execution_count": 4,
     "metadata": {},
     "output_type": "execute_result"
    }
   ],
   "source": [
    "# ## Google cloud project에서 TPU 셋팅\n",
    "\n",
    "# # .py로 실행할 때 TPU 셋팅 명령어\n",
    "# #!export XRT_TPU_CONFIG=\"localservice;0;localhost:51011\"\n",
    "\n",
    "# # 주피터 노트 또는 주피터 랩에서 실행할 때, TPU 셋팅 명령어\n",
    "import os\n",
    "os.environ['XRT_TPU_CONFIG'] = \"localservice;0;localhost:51011\"\n",
    "device = xm.xla_device()\n",
    "device"
   ]
  },
  {
   "cell_type": "markdown",
   "id": "8692f579-dcec-4426-b624-1d6b26552ea2",
   "metadata": {},
   "source": [
    "## 원하시는 모델을 불러오세요"
   ]
  },
  {
   "cell_type": "code",
   "execution_count": 5,
   "id": "4c58f730-b342-41db-8255-7a94d9791f2f",
   "metadata": {},
   "outputs": [
    {
     "data": {
      "application/vnd.jupyter.widget-view+json": {
       "model_id": "a0ae9e1845be4721a63081f12b9ba0f2",
       "version_major": 2,
       "version_minor": 0
      },
      "text/plain": [
       "Downloading config.json:   0%|          | 0.00/1.07k [00:00<?, ?B/s]"
      ]
     },
     "metadata": {},
     "output_type": "display_data"
    },
    {
     "data": {
      "application/vnd.jupyter.widget-view+json": {
       "model_id": "6c565f36637948a6bf4442565414d9b5",
       "version_major": 2,
       "version_minor": 0
      },
      "text/plain": [
       "Downloading pytorch_model.bin:   0%|          | 0.00/1.88G [00:00<?, ?B/s]"
      ]
     },
     "metadata": {},
     "output_type": "display_data"
    },
    {
     "name": "stderr",
     "output_type": "stream",
     "text": [
      "tcmalloc: large alloc 2015035392 bytes == 0x92b9e000 @  0x7ffa44066680 0x7ffa44087824 0x7ffa44087b8a 0x7ff883a9b32e 0x7ff883a86da2 0x7ff8b6e4a451 0x7ff8cd567409 0x7ff8cd2108d5 0x5f6929 0x5f74f6 0x50c383 0x570b26 0x569dba 0x5f6eb3 0x5f6082 0x56d2d5 0x569dba 0x5f6eb3 0x56cc1f 0x5f6cd6 0x56bacd 0x569dba 0x5f6eb3 0x50bc2c 0x5f6082 0x56d2d5 0x569dba 0x50bca0 0x570b26 0x569dba 0x6902a7\n",
      "tcmalloc: large alloc 2015035392 bytes == 0x10ad4e000 @  0x7ffa44066680 0x7ffa44087824 0x5fb391 0x7ff8cd567422 0x7ff8cd2108d5 0x5f6929 0x5f74f6 0x50c383 0x570b26 0x569dba 0x5f6eb3 0x5f6082 0x56d2d5 0x569dba 0x5f6eb3 0x56cc1f 0x5f6cd6 0x56bacd 0x569dba 0x5f6eb3 0x50bc2c 0x5f6082 0x56d2d5 0x569dba 0x50bca0 0x570b26 0x569dba 0x6902a7 0x6023c4 0x5c6730 0x56bacd\n",
      "/home/jyjy/.local/lib/python3.8/site-packages/transformers/pipelines/text_classification.py:89: UserWarning: `return_all_scores` is now deprecated, use `top_k=1` if you want similar functionnality\n",
      "  warnings.warn(\n"
     ]
    }
   ],
   "source": [
    "# load model, tokenizer\n",
    "model = AutoModelForSequenceClassification.from_pretrained('jungyong/FT_batch32_lyric')\n",
    "tokenizer = AutoTokenizer.from_pretrained('klue/roberta-large')\n",
    "pipe = TextClassificationPipeline(model = model, tokenizer = tokenizer, return_all_scores=True, batch_size = 32, num_workers = 85) #device = device,"
   ]
  },
  {
   "cell_type": "code",
   "execution_count": 6,
   "id": "2396ec51-8948-4616-a82f-799e4b6bc2f0",
   "metadata": {},
   "outputs": [],
   "source": [
    "from transformers import pipeline\n",
    "pipe  = pipeline(\"text-classification\", model=model, tokenizer=tokenizer, return_all_scores = True)"
   ]
  },
  {
   "cell_type": "markdown",
   "id": "dc416ec7-319b-4f30-9390-8e64273a5ea0",
   "metadata": {},
   "source": [
    "## 데이터를 불러오세요"
   ]
  },
  {
   "cell_type": "code",
   "execution_count": 7,
   "id": "d6301b06-0f1e-47d7-a962-477df6ccc33b",
   "metadata": {},
   "outputs": [
    {
     "name": "stdout",
     "output_type": "stream",
     "text": [
      "112512\n"
     ]
    },
    {
     "data": {
      "text/html": [
       "<div>\n",
       "<style scoped>\n",
       "    .dataframe tbody tr th:only-of-type {\n",
       "        vertical-align: middle;\n",
       "    }\n",
       "\n",
       "    .dataframe tbody tr th {\n",
       "        vertical-align: top;\n",
       "    }\n",
       "\n",
       "    .dataframe thead th {\n",
       "        text-align: right;\n",
       "    }\n",
       "</style>\n",
       "<table border=\"1\" class=\"dataframe\">\n",
       "  <thead>\n",
       "    <tr style=\"text-align: right;\">\n",
       "      <th></th>\n",
       "      <th>lyric</th>\n",
       "    </tr>\n",
       "  </thead>\n",
       "  <tbody>\n",
       "    <tr>\n",
       "      <th>0</th>\n",
       "      <td>Feelings nothing more than feelings Trying to ...</td>\n",
       "    </tr>\n",
       "    <tr>\n",
       "      <th>1</th>\n",
       "      <td>i feel alright now but don't know how to speak...</td>\n",
       "    </tr>\n",
       "    <tr>\n",
       "      <th>2</th>\n",
       "      <td>그대 스치는 바람처럼 불어와서 내 곁에 머무른 사람 나도 몰래 내쉬는 숨처럼 익숙해...</td>\n",
       "    </tr>\n",
       "    <tr>\n",
       "      <th>3</th>\n",
       "      <td>그냥 생각 없이 이렇다 할 뜻도 없이 쉼 없이 웃으며 떠드는 이들을 가만히 두리번거...</td>\n",
       "    </tr>\n",
       "    <tr>\n",
       "      <th>4</th>\n",
       "      <td>너를보면 나는 잠이와 이상하다 그치 잠이오면 나는 잠을자 이상하다 그치 자면서 너에...</td>\n",
       "    </tr>\n",
       "  </tbody>\n",
       "</table>\n",
       "</div>"
      ],
      "text/plain": [
       "                                               lyric\n",
       "0  Feelings nothing more than feelings Trying to ...\n",
       "1  i feel alright now but don't know how to speak...\n",
       "2  그대 스치는 바람처럼 불어와서 내 곁에 머무른 사람 나도 몰래 내쉬는 숨처럼 익숙해...\n",
       "3  그냥 생각 없이 이렇다 할 뜻도 없이 쉼 없이 웃으며 떠드는 이들을 가만히 두리번거...\n",
       "4  너를보면 나는 잠이와 이상하다 그치 잠이오면 나는 잠을자 이상하다 그치 자면서 너에..."
      ]
     },
     "execution_count": 7,
     "metadata": {},
     "output_type": "execute_result"
    }
   ],
   "source": [
    "lyric = pd.read_csv(\"lyric\", sep = '\\t')\n",
    "print(len(lyric))\n",
    "lyric.head()"
   ]
  },
  {
   "cell_type": "code",
   "execution_count": null,
   "id": "219fd93b-310a-4a56-979b-26858c5fae70",
   "metadata": {},
   "outputs": [],
   "source": []
  },
  {
   "cell_type": "code",
   "execution_count": 8,
   "id": "efa819db-8029-4c7c-960e-394e181ed41e",
   "metadata": {},
   "outputs": [],
   "source": [
    "import itertools\n",
    "\n",
    "def queue_pop_lyric(data):\n",
    "    for number in range(len(data)):\n",
    "        yield number\n",
    "\n",
    "def sentimental_analysis(number):\n",
    "    temp = pd.DataFrame(*pipe(lyric.iloc[number,0])).transpose()\n",
    "    temp.columns = temp.loc['label'].values\n",
    "    result = temp.iloc[1:,:]\n",
    "    return result"
   ]
  },
  {
   "cell_type": "code",
   "execution_count": 9,
   "id": "352218a8-bf51-4f7f-b61a-4db4f169bb17",
   "metadata": {},
   "outputs": [],
   "source": [
    "import os\n",
    "os.environ[\"TOKENIZERS_PARALLELISM\"] = \"false\""
   ]
  },
  {
   "cell_type": "code",
   "execution_count": 10,
   "id": "799a7390-2604-460a-88ac-c3294b24ec0a",
   "metadata": {},
   "outputs": [
    {
     "name": "stdout",
     "output_type": "stream",
     "text": [
      "time : 21868.65183210373\n"
     ]
    }
   ],
   "source": [
    "start = time.time()\n",
    "pool = Pool(85)\n",
    "df_score = pd.concat(map(sentimental_analysis, queue_pop_lyric(lyric))).reset_index(drop = True)\n",
    "pool.close()\n",
    "pool.join()\n",
    "print(\"time :\", time.time() - start)"
   ]
  },
  {
   "cell_type": "code",
   "execution_count": 11,
   "id": "b4391a6e-c630-4f57-a7e6-55c76664a255",
   "metadata": {},
   "outputs": [
    {
     "data": {
      "text/html": [
       "<div>\n",
       "<style scoped>\n",
       "    .dataframe tbody tr th:only-of-type {\n",
       "        vertical-align: middle;\n",
       "    }\n",
       "\n",
       "    .dataframe tbody tr th {\n",
       "        vertical-align: top;\n",
       "    }\n",
       "\n",
       "    .dataframe thead th {\n",
       "        text-align: right;\n",
       "    }\n",
       "</style>\n",
       "<table border=\"1\" class=\"dataframe\">\n",
       "  <thead>\n",
       "    <tr style=\"text-align: right;\">\n",
       "      <th></th>\n",
       "      <th>LABEL_0</th>\n",
       "      <th>LABEL_1</th>\n",
       "      <th>LABEL_2</th>\n",
       "      <th>LABEL_3</th>\n",
       "      <th>LABEL_4</th>\n",
       "      <th>LABEL_5</th>\n",
       "    </tr>\n",
       "  </thead>\n",
       "  <tbody>\n",
       "    <tr>\n",
       "      <th>0</th>\n",
       "      <td>0.321668</td>\n",
       "      <td>0.050276</td>\n",
       "      <td>0.000602</td>\n",
       "      <td>0.013912</td>\n",
       "      <td>0.100803</td>\n",
       "      <td>0.512739</td>\n",
       "    </tr>\n",
       "    <tr>\n",
       "      <th>1</th>\n",
       "      <td>0.211127</td>\n",
       "      <td>0.195028</td>\n",
       "      <td>0.000657</td>\n",
       "      <td>0.017706</td>\n",
       "      <td>0.143551</td>\n",
       "      <td>0.431931</td>\n",
       "    </tr>\n",
       "    <tr>\n",
       "      <th>2</th>\n",
       "      <td>0.946268</td>\n",
       "      <td>0.002743</td>\n",
       "      <td>0.003444</td>\n",
       "      <td>0.031837</td>\n",
       "      <td>0.003763</td>\n",
       "      <td>0.011944</td>\n",
       "    </tr>\n",
       "    <tr>\n",
       "      <th>3</th>\n",
       "      <td>0.003543</td>\n",
       "      <td>0.029312</td>\n",
       "      <td>0.000641</td>\n",
       "      <td>0.821336</td>\n",
       "      <td>0.136336</td>\n",
       "      <td>0.008832</td>\n",
       "    </tr>\n",
       "    <tr>\n",
       "      <th>4</th>\n",
       "      <td>0.239259</td>\n",
       "      <td>0.64258</td>\n",
       "      <td>0.001295</td>\n",
       "      <td>0.056139</td>\n",
       "      <td>0.04051</td>\n",
       "      <td>0.020217</td>\n",
       "    </tr>\n",
       "    <tr>\n",
       "      <th>...</th>\n",
       "      <td>...</td>\n",
       "      <td>...</td>\n",
       "      <td>...</td>\n",
       "      <td>...</td>\n",
       "      <td>...</td>\n",
       "      <td>...</td>\n",
       "    </tr>\n",
       "    <tr>\n",
       "      <th>112507</th>\n",
       "      <td>0.649147</td>\n",
       "      <td>0.047277</td>\n",
       "      <td>0.000647</td>\n",
       "      <td>0.006467</td>\n",
       "      <td>0.04091</td>\n",
       "      <td>0.255551</td>\n",
       "    </tr>\n",
       "    <tr>\n",
       "      <th>112508</th>\n",
       "      <td>0.050572</td>\n",
       "      <td>0.032464</td>\n",
       "      <td>0.000567</td>\n",
       "      <td>0.006616</td>\n",
       "      <td>0.168869</td>\n",
       "      <td>0.740912</td>\n",
       "    </tr>\n",
       "    <tr>\n",
       "      <th>112509</th>\n",
       "      <td>0.040549</td>\n",
       "      <td>0.041491</td>\n",
       "      <td>0.000643</td>\n",
       "      <td>0.071288</td>\n",
       "      <td>0.513658</td>\n",
       "      <td>0.332371</td>\n",
       "    </tr>\n",
       "    <tr>\n",
       "      <th>112510</th>\n",
       "      <td>0.010605</td>\n",
       "      <td>0.014387</td>\n",
       "      <td>0.000957</td>\n",
       "      <td>0.872247</td>\n",
       "      <td>0.087935</td>\n",
       "      <td>0.013869</td>\n",
       "    </tr>\n",
       "    <tr>\n",
       "      <th>112511</th>\n",
       "      <td>0.56811</td>\n",
       "      <td>0.061962</td>\n",
       "      <td>0.000684</td>\n",
       "      <td>0.005624</td>\n",
       "      <td>0.083877</td>\n",
       "      <td>0.279743</td>\n",
       "    </tr>\n",
       "  </tbody>\n",
       "</table>\n",
       "<p>112512 rows × 6 columns</p>\n",
       "</div>"
      ],
      "text/plain": [
       "         LABEL_0   LABEL_1   LABEL_2   LABEL_3   LABEL_4   LABEL_5\n",
       "0       0.321668  0.050276  0.000602  0.013912  0.100803  0.512739\n",
       "1       0.211127  0.195028  0.000657  0.017706  0.143551  0.431931\n",
       "2       0.946268  0.002743  0.003444  0.031837  0.003763  0.011944\n",
       "3       0.003543  0.029312  0.000641  0.821336  0.136336  0.008832\n",
       "4       0.239259   0.64258  0.001295  0.056139   0.04051  0.020217\n",
       "...          ...       ...       ...       ...       ...       ...\n",
       "112507  0.649147  0.047277  0.000647  0.006467   0.04091  0.255551\n",
       "112508  0.050572  0.032464  0.000567  0.006616  0.168869  0.740912\n",
       "112509  0.040549  0.041491  0.000643  0.071288  0.513658  0.332371\n",
       "112510  0.010605  0.014387  0.000957  0.872247  0.087935  0.013869\n",
       "112511   0.56811  0.061962  0.000684  0.005624  0.083877  0.279743\n",
       "\n",
       "[112512 rows x 6 columns]"
      ]
     },
     "execution_count": 11,
     "metadata": {},
     "output_type": "execute_result"
    }
   ],
   "source": [
    "df_score"
   ]
  },
  {
   "cell_type": "code",
   "execution_count": 13,
   "id": "b4936a61-a95b-414c-98dd-f304dbb6fd8f",
   "metadata": {},
   "outputs": [],
   "source": [
    "df_score.to_csv(\"temp.tsv\", sep = '\\t')"
   ]
  },
  {
   "cell_type": "code",
   "execution_count": 16,
   "id": "bdb47880-7e13-40f6-84b0-2f632311478c",
   "metadata": {},
   "outputs": [],
   "source": [
    "df_lyric_score= pd.concat([lyric, df_score], axis = 1)\n",
    "df_lyric_score.to_csv(\"score_test.tsv\",sep = '\\t')"
   ]
  },
  {
   "cell_type": "code",
   "execution_count": null,
   "id": "0349170c-8953-4bb7-ba4f-92c0765325f6",
   "metadata": {},
   "outputs": [],
   "source": []
  }
 ],
 "metadata": {
  "kernelspec": {
   "display_name": "Python 3 (ipykernel)",
   "language": "python",
   "name": "python3"
  },
  "language_info": {
   "codemirror_mode": {
    "name": "ipython",
    "version": 3
   },
   "file_extension": ".py",
   "mimetype": "text/x-python",
   "name": "python",
   "nbconvert_exporter": "python",
   "pygments_lexer": "ipython3",
   "version": "3.8.10"
  }
 },
 "nbformat": 4,
 "nbformat_minor": 5
}
